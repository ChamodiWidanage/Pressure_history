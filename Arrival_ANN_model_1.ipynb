{
 "cells": [
  {
   "cell_type": "markdown",
   "metadata": {
    "colab_type": "text",
    "id": "3cbb7fRy-eyr"
   },
   "source": [
    "# Artificial Neural Network"
   ]
  },
  {
   "cell_type": "markdown",
   "metadata": {
    "colab_type": "text",
    "id": "8sNDnxE2-pwE"
   },
   "source": [
    "### Importing the libraries"
   ]
  },
  {
   "cell_type": "code",
   "execution_count": 1,
   "metadata": {
    "colab": {},
    "colab_type": "code",
    "id": "lxChR1Rk-umf"
   },
   "outputs": [],
   "source": [
    "import numpy as np\n",
    "import pandas as pd\n",
    "import tensorflow as tf"
   ]
  },
  {
   "cell_type": "markdown",
   "metadata": {
    "colab_type": "text",
    "id": "AG3FQEch-yuA"
   },
   "source": [
    "## Part 1 - Data Preprocessing"
   ]
  },
  {
   "cell_type": "markdown",
   "metadata": {
    "colab_type": "text",
    "id": "-4zq8Mza_D9O"
   },
   "source": [
    "### Importing the dataset"
   ]
  },
  {
   "cell_type": "code",
   "execution_count": 2,
   "metadata": {
    "colab": {},
    "colab_type": "code",
    "id": "B9CV13Co_HHM"
   },
   "outputs": [
    {
     "name": "stdout",
     "output_type": "stream",
     "text": [
      "<class 'pandas.core.frame.DataFrame'>\n",
      "RangeIndex: 576 entries, 0 to 575\n",
      "Data columns (total 3 columns):\n",
      " #   Column             Non-Null Count  Dtype  \n",
      "---  ------             --------------  -----  \n",
      " 0   Charge_mass        576 non-null    float64\n",
      " 1   Standoff_distance  576 non-null    int64  \n",
      " 2   Time_of_arrival    576 non-null    float64\n",
      "dtypes: float64(2), int64(1)\n",
      "memory usage: 13.6 KB\n"
     ]
    }
   ],
   "source": [
    "dataset = pd.read_excel('Arrival_time.xlsx')\n",
    "dataset.info()"
   ]
  },
  {
   "cell_type": "code",
   "execution_count": 3,
   "metadata": {},
   "outputs": [
    {
     "data": {
      "text/html": [
       "<div>\n",
       "<style scoped>\n",
       "    .dataframe tbody tr th:only-of-type {\n",
       "        vertical-align: middle;\n",
       "    }\n",
       "\n",
       "    .dataframe tbody tr th {\n",
       "        vertical-align: top;\n",
       "    }\n",
       "\n",
       "    .dataframe thead th {\n",
       "        text-align: right;\n",
       "    }\n",
       "</style>\n",
       "<table border=\"1\" class=\"dataframe\">\n",
       "  <thead>\n",
       "    <tr style=\"text-align: right;\">\n",
       "      <th></th>\n",
       "      <th>Charge_mass</th>\n",
       "      <th>Standoff_distance</th>\n",
       "      <th>Time_of_arrival</th>\n",
       "    </tr>\n",
       "  </thead>\n",
       "  <tbody>\n",
       "    <tr>\n",
       "      <th>0</th>\n",
       "      <td>0.5</td>\n",
       "      <td>1</td>\n",
       "      <td>0.00066</td>\n",
       "    </tr>\n",
       "    <tr>\n",
       "      <th>1</th>\n",
       "      <td>0.5</td>\n",
       "      <td>7</td>\n",
       "      <td>0.01583</td>\n",
       "    </tr>\n",
       "    <tr>\n",
       "      <th>2</th>\n",
       "      <td>0.5</td>\n",
       "      <td>9</td>\n",
       "      <td>0.02156</td>\n",
       "    </tr>\n",
       "    <tr>\n",
       "      <th>3</th>\n",
       "      <td>0.5</td>\n",
       "      <td>11</td>\n",
       "      <td>0.02735</td>\n",
       "    </tr>\n",
       "    <tr>\n",
       "      <th>4</th>\n",
       "      <td>0.5</td>\n",
       "      <td>13</td>\n",
       "      <td>0.03318</td>\n",
       "    </tr>\n",
       "  </tbody>\n",
       "</table>\n",
       "</div>"
      ],
      "text/plain": [
       "   Charge_mass  Standoff_distance  Time_of_arrival\n",
       "0          0.5                  1          0.00066\n",
       "1          0.5                  7          0.01583\n",
       "2          0.5                  9          0.02156\n",
       "3          0.5                 11          0.02735\n",
       "4          0.5                 13          0.03318"
      ]
     },
     "execution_count": 3,
     "metadata": {},
     "output_type": "execute_result"
    }
   ],
   "source": [
    "dataset.head()"
   ]
  },
  {
   "cell_type": "code",
   "execution_count": 4,
   "metadata": {},
   "outputs": [
    {
     "name": "stdout",
     "output_type": "stream",
     "text": [
      "(576, 2) (576,)\n"
     ]
    }
   ],
   "source": [
    "y = dataset['Time_of_arrival']\n",
    "X = dataset.drop('Time_of_arrival', axis=1)\n",
    "print(X.shape, y.shape)"
   ]
  },
  {
   "cell_type": "code",
   "execution_count": 5,
   "metadata": {},
   "outputs": [],
   "source": [
    "# convert to numpy array\n",
    "X = np.array(X)\n",
    "y = np.array(y)"
   ]
  },
  {
   "cell_type": "markdown",
   "metadata": {
    "colab_type": "text",
    "id": "VC6omXel_Up0"
   },
   "source": [
    "### Splitting the dataset into the Training set and Test set"
   ]
  },
  {
   "cell_type": "code",
   "execution_count": 6,
   "metadata": {
    "colab": {},
    "colab_type": "code",
    "id": "L5edeb2r_agx"
   },
   "outputs": [],
   "source": [
    "from sklearn.model_selection import train_test_split\n",
    "X_train, X_test, y_train, y_test = train_test_split(X,\n",
    "                                                    y,\n",
    "                                                    test_size = 0.3,\n",
    "                                                    random_state = 0)"
   ]
  },
  {
   "cell_type": "code",
   "execution_count": 7,
   "metadata": {
    "colab": {},
    "colab_type": "code",
    "id": "L5edeb2r_agx"
   },
   "outputs": [],
   "source": [
    "X_val, X_test, y_val, y_test = train_test_split(X_test,\n",
    "                                                y_test,\n",
    "                                                test_size = 0.5,\n",
    "                                                random_state = 0)"
   ]
  },
  {
   "cell_type": "markdown",
   "metadata": {
    "colab_type": "text",
    "id": "_mSLlAT9_eyI"
   },
   "source": [
    "## Part 2 - Building the ANN"
   ]
  },
  {
   "cell_type": "markdown",
   "metadata": {
    "colab_type": "text",
    "id": "CsBULd_f_wLY"
   },
   "source": [
    "### Initializing the ANN"
   ]
  },
  {
   "cell_type": "code",
   "execution_count": 8,
   "metadata": {
    "colab": {},
    "colab_type": "code",
    "id": "J6Hd97Ls__Nz"
   },
   "outputs": [],
   "source": [
    "ann = tf.keras.models.Sequential()"
   ]
  },
  {
   "cell_type": "markdown",
   "metadata": {
    "colab_type": "text",
    "id": "iitAFJS_ABUn"
   },
   "source": [
    "### Adding the input layer and the first hidden layer"
   ]
  },
  {
   "cell_type": "code",
   "execution_count": 9,
   "metadata": {
    "colab": {},
    "colab_type": "code",
    "id": "ksO_Vv40AHix"
   },
   "outputs": [],
   "source": [
    "ann.add(tf.keras.layers.Dense(units=8,\n",
    "                              input_shape=(X_train.shape[1],),\n",
    "                              activation='leaky_relu'))"
   ]
  },
  {
   "cell_type": "markdown",
   "metadata": {
    "colab_type": "text",
    "id": "-lb4kK_wAKbs"
   },
   "source": [
    "### Adding the second hidden layer"
   ]
  },
  {
   "cell_type": "code",
   "execution_count": 10,
   "metadata": {
    "colab": {},
    "colab_type": "code",
    "id": "c2357OqEAQOQ",
    "tags": []
   },
   "outputs": [],
   "source": [
    "ann.add(tf.keras.layers.Dense(units=7,\n",
    "                              activation='leaky_relu'))"
   ]
  },
  {
   "cell_type": "markdown",
   "metadata": {
    "colab_type": "text",
    "id": "-lb4kK_wAKbs"
   },
   "source": [
    "### Adding the third hidden layer"
   ]
  },
  {
   "cell_type": "code",
   "execution_count": 11,
   "metadata": {
    "colab": {},
    "colab_type": "code",
    "id": "c2357OqEAQOQ",
    "tags": []
   },
   "outputs": [],
   "source": [
    "ann.add(tf.keras.layers.Dense(units=5,\n",
    "                              activation='leaky_relu'))"
   ]
  },
  {
   "cell_type": "markdown",
   "metadata": {
    "colab_type": "text",
    "id": "jwMOmKb3AdBY"
   },
   "source": [
    "### Adding the output layer"
   ]
  },
  {
   "cell_type": "code",
   "execution_count": 12,
   "metadata": {
    "colab": {},
    "colab_type": "code",
    "id": "YFATpzsUAkLL"
   },
   "outputs": [],
   "source": [
    "ann.add(tf.keras.layers.Dense(units=1,\n",
    "                              activation='linear'))"
   ]
  },
  {
   "cell_type": "markdown",
   "metadata": {},
   "source": [
    "### what model looks like"
   ]
  },
  {
   "cell_type": "code",
   "execution_count": 13,
   "metadata": {},
   "outputs": [
    {
     "name": "stdout",
     "output_type": "stream",
     "text": [
      "Model: \"sequential\"\n",
      "_________________________________________________________________\n",
      " Layer (type)                Output Shape              Param #   \n",
      "=================================================================\n",
      " dense (Dense)               (None, 8)                 24        \n",
      "                                                                 \n",
      " dense_1 (Dense)             (None, 7)                 63        \n",
      "                                                                 \n",
      " dense_2 (Dense)             (None, 5)                 40        \n",
      "                                                                 \n",
      " dense_3 (Dense)             (None, 1)                 6         \n",
      "                                                                 \n",
      "=================================================================\n",
      "Total params: 133\n",
      "Trainable params: 133\n",
      "Non-trainable params: 0\n",
      "_________________________________________________________________\n"
     ]
    }
   ],
   "source": [
    "ann.summary()"
   ]
  },
  {
   "cell_type": "markdown",
   "metadata": {
    "colab_type": "text",
    "id": "fq7e4fF6A1yy"
   },
   "source": [
    "## Part 3 - Training the ANN"
   ]
  },
  {
   "cell_type": "markdown",
   "metadata": {
    "colab_type": "text",
    "id": "qDeylAs2An25"
   },
   "source": [
    "### Compiling the ANN"
   ]
  },
  {
   "cell_type": "code",
   "execution_count": 14,
   "metadata": {
    "colab": {},
    "colab_type": "code",
    "id": "pesgbWlCAtB4"
   },
   "outputs": [],
   "source": [
    "from tensorflow.keras.optimizers import Adam\n",
    "opt = Adam(learning_rate=0.1)\n",
    "ann.compile(optimizer = opt,\n",
    "            loss = 'mean_squared_error',\n",
    "            metrics = ['mae'])"
   ]
  },
  {
   "cell_type": "markdown",
   "metadata": {},
   "source": [
    "### early stopping callback"
   ]
  },
  {
   "cell_type": "code",
   "execution_count": 15,
   "metadata": {},
   "outputs": [],
   "source": [
    "# protects from unnecessary further training of the model\n",
    "#if a particular metric does not continue to improve over a number of n epochs.\n",
    "#In such a case, the model training would be automatically aborted.\n",
    "from keras.callbacks import EarlyStopping\n",
    "es = EarlyStopping(monitor='val_loss',\n",
    "                   mode='min',\n",
    "                   patience=50,\n",
    "                   restore_best_weights = True)"
   ]
  },
  {
   "cell_type": "markdown",
   "metadata": {
    "colab_type": "text",
    "id": "YjVuiybYOo7r"
   },
   "source": [
    "### Training the ANN model on the Training set"
   ]
  },
  {
   "cell_type": "code",
   "execution_count": 16,
   "metadata": {
    "colab": {
     "base_uri": "https://localhost:8080/",
     "height": 1000
    },
    "colab_type": "code",
    "id": "c_vV-tiiA5zn",
    "outputId": "4a2b6ee6-ed75-4698-9069-b250e613803f"
   },
   "outputs": [
    {
     "name": "stdout",
     "output_type": "stream",
     "text": [
      "Epoch 1/500\n",
      "11/11 [==============================] - 1s 18ms/step - loss: 13.1479 - mae: 2.4411 - val_loss: 0.6174 - val_mae: 0.6701\n",
      "Epoch 2/500\n",
      "11/11 [==============================] - 0s 6ms/step - loss: 0.5450 - mae: 0.6060 - val_loss: 0.0965 - val_mae: 0.2574\n",
      "Epoch 3/500\n",
      "11/11 [==============================] - 0s 7ms/step - loss: 0.1138 - mae: 0.2773 - val_loss: 0.0517 - val_mae: 0.2257\n",
      "Epoch 4/500\n",
      "11/11 [==============================] - 0s 7ms/step - loss: 0.0440 - mae: 0.1818 - val_loss: 0.0173 - val_mae: 0.1096\n",
      "Epoch 5/500\n",
      "11/11 [==============================] - 0s 7ms/step - loss: 0.0178 - mae: 0.1123 - val_loss: 0.0046 - val_mae: 0.0669\n",
      "Epoch 6/500\n",
      "11/11 [==============================] - 0s 7ms/step - loss: 0.0072 - mae: 0.0744 - val_loss: 0.0030 - val_mae: 0.0461\n",
      "Epoch 7/500\n",
      "11/11 [==============================] - 0s 7ms/step - loss: 0.0031 - mae: 0.0467 - val_loss: 0.0018 - val_mae: 0.0416\n",
      "Epoch 8/500\n",
      "11/11 [==============================] - 0s 6ms/step - loss: 0.0012 - mae: 0.0301 - val_loss: 0.0016 - val_mae: 0.0363\n",
      "Epoch 9/500\n",
      "11/11 [==============================] - 0s 8ms/step - loss: 7.3910e-04 - mae: 0.0221 - val_loss: 3.5094e-04 - val_mae: 0.0169\n",
      "Epoch 10/500\n",
      "11/11 [==============================] - 0s 6ms/step - loss: 2.4161e-04 - mae: 0.0126 - val_loss: 1.8182e-05 - val_mae: 0.0037\n",
      "Epoch 11/500\n",
      "11/11 [==============================] - 0s 6ms/step - loss: 7.8731e-05 - mae: 0.0065 - val_loss: 5.2215e-05 - val_mae: 0.0068\n",
      "Epoch 12/500\n",
      "11/11 [==============================] - 0s 7ms/step - loss: 5.3406e-05 - mae: 0.0051 - val_loss: 6.7486e-06 - val_mae: 0.0019\n",
      "Epoch 13/500\n",
      "11/11 [==============================] - 0s 7ms/step - loss: 3.3745e-05 - mae: 0.0029 - val_loss: 8.3451e-06 - val_mae: 0.0025\n",
      "Epoch 14/500\n",
      "11/11 [==============================] - 0s 7ms/step - loss: 3.0679e-05 - mae: 0.0023 - val_loss: 6.6510e-06 - val_mae: 0.0015\n",
      "Epoch 15/500\n",
      "11/11 [==============================] - 0s 7ms/step - loss: 2.9055e-05 - mae: 0.0020 - val_loss: 6.5782e-06 - val_mae: 0.0017\n",
      "Epoch 16/500\n",
      "11/11 [==============================] - 0s 10ms/step - loss: 2.8364e-05 - mae: 0.0019 - val_loss: 7.3619e-06 - val_mae: 0.0022\n",
      "Epoch 17/500\n",
      "11/11 [==============================] - 0s 5ms/step - loss: 2.8467e-05 - mae: 0.0020 - val_loss: 9.9102e-06 - val_mae: 0.0028\n",
      "Epoch 18/500\n",
      "11/11 [==============================] - 0s 7ms/step - loss: 2.9686e-05 - mae: 0.0024 - val_loss: 6.0408e-06 - val_mae: 0.0015\n",
      "Epoch 19/500\n",
      "11/11 [==============================] - 0s 5ms/step - loss: 2.7442e-05 - mae: 0.0019 - val_loss: 6.6110e-06 - val_mae: 0.0021\n",
      "Epoch 20/500\n",
      "11/11 [==============================] - 0s 6ms/step - loss: 2.7168e-05 - mae: 0.0019 - val_loss: 6.0622e-06 - val_mae: 0.0016\n",
      "Epoch 21/500\n",
      "11/11 [==============================] - 0s 6ms/step - loss: 2.6608e-05 - mae: 0.0019 - val_loss: 6.3769e-06 - val_mae: 0.0018\n",
      "Epoch 22/500\n",
      "11/11 [==============================] - 0s 7ms/step - loss: 2.6459e-05 - mae: 0.0019 - val_loss: 1.2178e-05 - val_mae: 0.0027\n",
      "Epoch 23/500\n",
      "11/11 [==============================] - 0s 7ms/step - loss: 3.0271e-05 - mae: 0.0027 - val_loss: 7.0626e-06 - val_mae: 0.0015\n",
      "Epoch 24/500\n",
      "11/11 [==============================] - 0s 6ms/step - loss: 2.6376e-05 - mae: 0.0020 - val_loss: 5.7881e-06 - val_mae: 0.0017\n",
      "Epoch 25/500\n",
      "11/11 [==============================] - 0s 6ms/step - loss: 2.6687e-05 - mae: 0.0020 - val_loss: 1.0588e-05 - val_mae: 0.0028\n",
      "Epoch 26/500\n",
      "11/11 [==============================] - 0s 6ms/step - loss: 2.6702e-05 - mae: 0.0023 - val_loss: 5.3204e-06 - val_mae: 0.0016\n",
      "Epoch 27/500\n",
      "11/11 [==============================] - 0s 7ms/step - loss: 2.6065e-05 - mae: 0.0021 - val_loss: 2.0081e-05 - val_mae: 0.0038\n",
      "Epoch 28/500\n",
      "11/11 [==============================] - 0s 7ms/step - loss: 2.9879e-05 - mae: 0.0029 - val_loss: 6.9577e-06 - val_mae: 0.0022\n",
      "Epoch 29/500\n",
      "11/11 [==============================] - 0s 6ms/step - loss: 2.5443e-05 - mae: 0.0022 - val_loss: 6.0337e-06 - val_mae: 0.0015\n",
      "Epoch 30/500\n",
      "11/11 [==============================] - 0s 6ms/step - loss: 2.4336e-05 - mae: 0.0019 - val_loss: 7.8439e-06 - val_mae: 0.0024\n",
      "Epoch 31/500\n",
      "11/11 [==============================] - 0s 6ms/step - loss: 2.4439e-05 - mae: 0.0021 - val_loss: 1.2831e-05 - val_mae: 0.0033\n",
      "Epoch 32/500\n",
      "11/11 [==============================] - 0s 6ms/step - loss: 2.6188e-05 - mae: 0.0025 - val_loss: 6.0785e-06 - val_mae: 0.0015\n",
      "Epoch 33/500\n",
      "11/11 [==============================] - 0s 6ms/step - loss: 2.4022e-05 - mae: 0.0019 - val_loss: 6.1962e-06 - val_mae: 0.0017\n",
      "Epoch 34/500\n",
      "11/11 [==============================] - 0s 6ms/step - loss: 2.3551e-05 - mae: 0.0020 - val_loss: 7.3256e-06 - val_mae: 0.0017\n",
      "Epoch 35/500\n",
      "11/11 [==============================] - 0s 6ms/step - loss: 2.3057e-05 - mae: 0.0019 - val_loss: 5.7565e-06 - val_mae: 0.0015\n",
      "Epoch 36/500\n",
      "11/11 [==============================] - 0s 6ms/step - loss: 2.2428e-05 - mae: 0.0019 - val_loss: 7.4903e-06 - val_mae: 0.0024\n",
      "Epoch 37/500\n",
      "11/11 [==============================] - 0s 7ms/step - loss: 2.3345e-05 - mae: 0.0022 - val_loss: 2.4141e-05 - val_mae: 0.0043\n",
      "Epoch 38/500\n",
      "11/11 [==============================] - 0s 6ms/step - loss: 3.0515e-05 - mae: 0.0033 - val_loss: 5.9724e-06 - val_mae: 0.0015\n",
      "Epoch 39/500\n",
      "11/11 [==============================] - 0s 7ms/step - loss: 2.4107e-05 - mae: 0.0025 - val_loss: 1.9197e-05 - val_mae: 0.0040\n",
      "Epoch 40/500\n",
      "11/11 [==============================] - 0s 6ms/step - loss: 2.6824e-05 - mae: 0.0030 - val_loss: 6.5980e-06 - val_mae: 0.0017\n",
      "Epoch 41/500\n",
      "11/11 [==============================] - 0s 6ms/step - loss: 2.1697e-05 - mae: 0.0020 - val_loss: 7.5159e-06 - val_mae: 0.0019\n",
      "Epoch 42/500\n",
      "11/11 [==============================] - 0s 6ms/step - loss: 2.1252e-05 - mae: 0.0020 - val_loss: 1.6975e-05 - val_mae: 0.0038\n",
      "Epoch 43/500\n",
      "11/11 [==============================] - 0s 6ms/step - loss: 2.5025e-05 - mae: 0.0027 - val_loss: 7.7018e-06 - val_mae: 0.0024\n",
      "Epoch 44/500\n",
      "11/11 [==============================] - 0s 6ms/step - loss: 2.3092e-05 - mae: 0.0025 - val_loss: 4.4828e-05 - val_mae: 0.0061\n",
      "Epoch 45/500\n",
      "11/11 [==============================] - 0s 6ms/step - loss: 3.7558e-05 - mae: 0.0043 - val_loss: 2.4600e-05 - val_mae: 0.0046\n",
      "Epoch 46/500\n",
      "11/11 [==============================] - 0s 6ms/step - loss: 3.2760e-05 - mae: 0.0040 - val_loss: 1.0565e-05 - val_mae: 0.0023\n",
      "Epoch 47/500\n",
      "11/11 [==============================] - 0s 6ms/step - loss: 2.8143e-05 - mae: 0.0032 - val_loss: 3.7849e-05 - val_mae: 0.0056\n",
      "Epoch 48/500\n",
      "11/11 [==============================] - 0s 6ms/step - loss: 2.6662e-05 - mae: 0.0031 - val_loss: 1.0630e-05 - val_mae: 0.0029\n",
      "Epoch 49/500\n",
      "11/11 [==============================] - 0s 6ms/step - loss: 3.3202e-05 - mae: 0.0039 - val_loss: 1.8565e-05 - val_mae: 0.0040\n",
      "Epoch 50/500\n",
      "11/11 [==============================] - 0s 6ms/step - loss: 2.7516e-05 - mae: 0.0034 - val_loss: 4.5297e-05 - val_mae: 0.0061\n",
      "Epoch 51/500\n",
      "11/11 [==============================] - 0s 7ms/step - loss: 2.6139e-05 - mae: 0.0031 - val_loss: 3.8634e-05 - val_mae: 0.0057\n",
      "Epoch 52/500\n",
      "11/11 [==============================] - 0s 6ms/step - loss: 2.8949e-05 - mae: 0.0035 - val_loss: 2.8865e-05 - val_mae: 0.0049\n",
      "Epoch 53/500\n",
      "11/11 [==============================] - 0s 6ms/step - loss: 2.6655e-05 - mae: 0.0034 - val_loss: 8.9013e-06 - val_mae: 0.0027\n",
      "Epoch 54/500\n",
      "11/11 [==============================] - 0s 6ms/step - loss: 1.8447e-05 - mae: 0.0022 - val_loss: 9.7013e-06 - val_mae: 0.0027\n",
      "Epoch 55/500\n",
      "11/11 [==============================] - 0s 7ms/step - loss: 1.8243e-05 - mae: 0.0022 - val_loss: 9.4224e-06 - val_mae: 0.0027\n",
      "Epoch 56/500\n",
      "11/11 [==============================] - 0s 8ms/step - loss: 1.7158e-05 - mae: 0.0020 - val_loss: 2.9751e-05 - val_mae: 0.0049\n",
      "Epoch 57/500\n",
      "11/11 [==============================] - 0s 7ms/step - loss: 3.7688e-05 - mae: 0.0042 - val_loss: 5.6502e-06 - val_mae: 0.0016\n",
      "Epoch 58/500\n",
      "11/11 [==============================] - 0s 7ms/step - loss: 2.3880e-05 - mae: 0.0030 - val_loss: 1.5698e-05 - val_mae: 0.0037\n",
      "Epoch 59/500\n",
      "11/11 [==============================] - 0s 6ms/step - loss: 2.1298e-05 - mae: 0.0028 - val_loss: 1.6349e-05 - val_mae: 0.0038\n",
      "Epoch 60/500\n",
      "11/11 [==============================] - 0s 6ms/step - loss: 3.5424e-05 - mae: 0.0044 - val_loss: 6.2566e-06 - val_mae: 0.0016\n",
      "Epoch 61/500\n",
      "11/11 [==============================] - 0s 6ms/step - loss: 2.8093e-05 - mae: 0.0037 - val_loss: 1.1467e-05 - val_mae: 0.0026\n",
      "Epoch 62/500\n",
      "11/11 [==============================] - 0s 5ms/step - loss: 2.0447e-05 - mae: 0.0024 - val_loss: 1.7493e-05 - val_mae: 0.0038\n",
      "Epoch 63/500\n",
      "11/11 [==============================] - 0s 6ms/step - loss: 2.2139e-05 - mae: 0.0028 - val_loss: 3.3958e-05 - val_mae: 0.0052\n",
      "Epoch 64/500\n",
      "11/11 [==============================] - 0s 6ms/step - loss: 2.3783e-05 - mae: 0.0033 - val_loss: 5.5949e-06 - val_mae: 0.0015\n",
      "Epoch 65/500\n",
      "11/11 [==============================] - 0s 7ms/step - loss: 1.5189e-05 - mae: 0.0019 - val_loss: 7.5382e-06 - val_mae: 0.0017\n",
      "Epoch 66/500\n",
      "11/11 [==============================] - 0s 6ms/step - loss: 1.4937e-05 - mae: 0.0019 - val_loss: 6.1745e-06 - val_mae: 0.0015\n",
      "Epoch 67/500\n",
      "11/11 [==============================] - 0s 6ms/step - loss: 1.4736e-05 - mae: 0.0019 - val_loss: 6.1311e-06 - val_mae: 0.0016\n",
      "Epoch 68/500\n",
      "11/11 [==============================] - 0s 5ms/step - loss: 1.5070e-05 - mae: 0.0021 - val_loss: 2.4342e-05 - val_mae: 0.0046\n",
      "Epoch 69/500\n",
      "11/11 [==============================] - 0s 6ms/step - loss: 1.7866e-05 - mae: 0.0026 - val_loss: 1.5381e-05 - val_mae: 0.0031\n",
      "Epoch 70/500\n",
      "11/11 [==============================] - 0s 6ms/step - loss: 1.5120e-05 - mae: 0.0022 - val_loss: 6.5059e-06 - val_mae: 0.0016\n",
      "Epoch 71/500\n",
      "11/11 [==============================] - 0s 6ms/step - loss: 1.3967e-05 - mae: 0.0019 - val_loss: 3.6363e-05 - val_mae: 0.0055\n",
      "Epoch 72/500\n",
      "11/11 [==============================] - 0s 6ms/step - loss: 2.8217e-05 - mae: 0.0040 - val_loss: 1.2905e-05 - val_mae: 0.0028\n",
      "Epoch 73/500\n",
      "11/11 [==============================] - 0s 6ms/step - loss: 2.0478e-05 - mae: 0.0030 - val_loss: 1.1711e-04 - val_mae: 0.0099\n",
      "Epoch 74/500\n",
      "11/11 [==============================] - 0s 6ms/step - loss: 9.6356e-05 - mae: 0.0081 - val_loss: 7.0255e-04 - val_mae: 0.0247\n",
      "Epoch 75/500\n",
      "11/11 [==============================] - 0s 6ms/step - loss: 6.9205e-04 - mae: 0.0220 - val_loss: 0.0025 - val_mae: 0.0457\n",
      "Epoch 76/500\n",
      "11/11 [==============================] - 0s 6ms/step - loss: 0.0016 - mae: 0.0347 - val_loss: 1.6849e-04 - val_mae: 0.0111\n"
     ]
    }
   ],
   "source": [
    "history = ann.fit(X_train, y_train,\n",
    "                    validation_data = (X_val, y_val),\n",
    "                    callbacks=[es],\n",
    "                    epochs=500,\n",
    "                    batch_size=40,\n",
    "                    verbose=1)"
   ]
  },
  {
   "cell_type": "markdown",
   "metadata": {
    "colab_type": "text",
    "id": "0H0zKKNEBLD5"
   },
   "source": [
    "### Predicting the results of the Test set"
   ]
  },
  {
   "cell_type": "code",
   "execution_count": 20,
   "metadata": {},
   "outputs": [
    {
     "data": {
      "image/png": "[encoded data removed]",
      "text/plain": [
       "<Figure size 432x288 with 1 Axes>"
      ]
     },
     "metadata": {
      "needs_background": "light"
     },
     "output_type": "display_data"
    }
   ],
   "source": [
    "import matplotlib.pyplot as plt\n",
    "# let's see the training and validation accuracy by epoch\n",
    "history_dict = history.history\n",
    "loss_values = history_dict['loss'] # you can change this\n",
    "val_loss_values = history_dict['val_loss'] # you can also change this\n",
    "epochs = range(1, len(loss_values) + 1) # range of X (no. of epochs)\n",
    "plt.plot(epochs, loss_values, 'blue', label='Train set loss')\n",
    "plt.plot(epochs, val_loss_values, 'orange', label='Validation set loss')\n",
    "#plt.title('Training and testing loss')\n",
    "plt.xlabel('Epochs')\n",
    "plt.ylabel('Loss (MSE)')\n",
    "plt.legend()\n",
    "plt.show()"
   ]
  },
  {
   "cell_type": "code",
   "execution_count": 19,
   "metadata": {},
   "outputs": [
    {
     "data": {
      "image/png": "[encoded data removed]",
      "text/plain": [
       "<Figure size 432x288 with 1 Axes>"
      ]
     },
     "metadata": {
      "needs_background": "light"
     },
     "output_type": "display_data"
    }
   ],
   "source": [
    "loss_values1 = history_dict['mae'] # you can change this\n",
    "val_loss_values1 = history_dict['val_mae'] # you can also change this\n",
    "epochs = range(1, len(loss_values1) + 1) # range of X (no. of epochs)\n",
    "plt.plot(epochs, loss_values1, 'blue', label='Train set MAE')\n",
    "plt.plot(epochs, val_loss_values1, 'orange', label='Validation set MAE')\n",
    "#plt.title('Training and testing MAE')\n",
    "plt.xlabel('Epochs')\n",
    "plt.ylabel('MAE')\n",
    "plt.legend()\n",
    "plt.show()"
   ]
  },
  {
   "cell_type": "code",
   "execution_count": 21,
   "metadata": {},
   "outputs": [
    {
     "name": "stdout",
     "output_type": "stream",
     "text": [
      "range(1, 77)\n"
     ]
    }
   ],
   "source": [
    "print (epochs)"
   ]
  },
  {
   "cell_type": "code",
   "execution_count": 22,
   "metadata": {},
   "outputs": [
    {
     "name": "stdout",
     "output_type": "stream",
     "text": [
      "13/13 [==============================] - 0s 1ms/step\n",
      "3/3 [==============================] - 0s 2ms/step\n"
     ]
    },
    {
     "data": {
      "image/png": "[encoded data removed]",
      "text/plain": [
       "<Figure size 432x288 with 2 Axes>"
      ]
     },
     "metadata": {
      "needs_background": "light"
     },
     "output_type": "display_data"
    }
   ],
   "source": [
    "# scatterplot of actual vs. pred\n",
    "# specify the dimensions \n",
    "fig, axes = plt.subplots(1,2) # 1 row, 2 columns\n",
    "\n",
    "# this makes the individual subplots\n",
    "# Training Results\n",
    "axes[0].scatter(x=y_train, y=ann.predict(X_train)) #first row, first entry (left top)\n",
    "axes[0].set_xlabel(\"Actual\", fontsize=10)\n",
    "axes[0].set_ylabel(\"Predicted\",  fontsize=10)\n",
    "axes[0].set_title(\"Training\")\n",
    "# add 45 deg line\n",
    "x = np.linspace(*axes[0].get_xlim())\n",
    "axes[0].plot(x, x, color='red')\n",
    "# Validation Results\n",
    "axes[1].scatter(x=y_val, y=ann.predict(X_val)) # first row, second entry (right top)\n",
    "axes[1].set_xlabel(\"Actual\", fontsize=10)\n",
    "axes[1].set_ylabel(\"Predicted\",  fontsize=10)\n",
    "axes[1].set_title(\"Validation\")\n",
    "# add 45 deg line\n",
    "x = np.linspace(*axes[1].get_xlim())\n",
    "axes[1].plot(x, x, color='red')\n",
    "\n",
    "# tight layout\n",
    "fig.tight_layout()\n",
    "\n",
    "# show the plot\n",
    "plt.show()"
   ]
  },
  {
   "cell_type": "code",
   "execution_count": 23,
   "metadata": {
    "colab": {
     "base_uri": "https://localhost:8080/",
     "height": 134
    },
    "colab_type": "code",
    "id": "IA0yApEmBG1X",
    "outputId": "cb981e1f-9204-4a2a-fece-9d66a6919189"
   },
   "outputs": [
    {
     "name": "stdout",
     "output_type": "stream",
     "text": [
      "3/3 [==============================] - 0s 2ms/step\n",
      "[[ 0.05  0.05]\n",
      " [ 0.02  0.02]\n",
      " [ 0.08  0.08]\n",
      " [ 0.    0.  ]\n",
      " [ 0.02  0.03]\n",
      " [ 0.03  0.03]\n",
      " [ 0.06  0.06]\n",
      " [ 0.05  0.05]\n",
      " [-0.    0.  ]\n",
      " [ 0.07  0.08]\n",
      " [ 0.03  0.02]\n",
      " [ 0.03  0.04]\n",
      " [ 0.04  0.04]\n",
      " [ 0.07  0.07]\n",
      " [ 0.07  0.07]\n",
      " [ 0.01  0.01]\n",
      " [ 0.04  0.03]\n",
      " [ 0.01  0.01]\n",
      " [ 0.07  0.07]\n",
      " [ 0.03  0.03]\n",
      " [ 0.    0.  ]\n",
      " [ 0.01  0.02]\n",
      " [ 0.07  0.07]\n",
      " [ 0.07  0.07]\n",
      " [ 0.01  0.01]\n",
      " [ 0.04  0.04]\n",
      " [-0.    0.  ]\n",
      " [-0.    0.  ]\n",
      " [ 0.06  0.06]\n",
      " [ 0.07  0.08]\n",
      " [ 0.03  0.03]\n",
      " [ 0.02  0.02]\n",
      " [ 0.02  0.02]\n",
      " [ 0.06  0.06]\n",
      " [ 0.01  0.01]\n",
      " [ 0.06  0.06]\n",
      " [ 0.05  0.05]\n",
      " [ 0.01  0.01]\n",
      " [ 0.01  0.01]\n",
      " [ 0.02  0.02]\n",
      " [ 0.05  0.05]\n",
      " [ 0.06  0.06]\n",
      " [ 0.03  0.03]\n",
      " [ 0.04  0.04]\n",
      " [ 0.02  0.02]\n",
      " [ 0.02  0.02]\n",
      " [ 0.02  0.02]\n",
      " [ 0.02  0.02]\n",
      " [ 0.03  0.03]\n",
      " [ 0.04  0.04]\n",
      " [ 0.    0.  ]\n",
      " [-0.    0.  ]\n",
      " [-0.01  0.  ]\n",
      " [ 0.07  0.07]\n",
      " [ 0.01  0.01]\n",
      " [ 0.07  0.07]\n",
      " [ 0.06  0.06]\n",
      " [ 0.06  0.06]\n",
      " [ 0.01  0.01]\n",
      " [ 0.03  0.03]\n",
      " [-0.    0.  ]\n",
      " [ 0.01  0.01]\n",
      " [ 0.06  0.06]\n",
      " [-0.    0.  ]\n",
      " [ 0.05  0.04]\n",
      " [ 0.06  0.06]\n",
      " [ 0.07  0.08]\n",
      " [ 0.06  0.06]\n",
      " [ 0.01  0.  ]\n",
      " [ 0.05  0.05]\n",
      " [ 0.04  0.04]\n",
      " [ 0.07  0.08]\n",
      " [ 0.06  0.06]\n",
      " [ 0.07  0.07]\n",
      " [ 0.07  0.07]\n",
      " [ 0.01  0.01]\n",
      " [ 0.07  0.07]\n",
      " [ 0.07  0.07]\n",
      " [ 0.04  0.03]\n",
      " [ 0.04  0.04]\n",
      " [ 0.02  0.01]\n",
      " [ 0.02  0.02]\n",
      " [ 0.06  0.07]\n",
      " [ 0.07  0.07]\n",
      " [ 0.    0.  ]\n",
      " [ 0.01  0.  ]\n",
      " [ 0.04  0.04]]\n"
     ]
    }
   ],
   "source": [
    "#X_test=np.asarray(X_test).astype(np.int)\n",
    "\n",
    "#y_test=np.asarray(y_test).astype(np.int)\n",
    "\n",
    "y_pred = ann.predict(X_test)\n",
    "np.set_printoptions(precision=2)\n",
    "print(np.concatenate((y_pred.reshape(len(y_pred),1), y_test.reshape(len(y_test),1)),1))"
   ]
  },
  {
   "cell_type": "code",
   "execution_count": 24,
   "metadata": {},
   "outputs": [
    {
     "data": {
      "text/plain": [
       "Text(0, 0.5, 'Predicted data')"
      ]
     },
     "execution_count": 24,
     "metadata": {},
     "output_type": "execute_result"
    },
    {
     "data": {
      "image/png": "[encoded data removed]",
      "text/plain": [
       "<Figure size 432x288 with 1 Axes>"
      ]
     },
     "metadata": {
      "needs_background": "light"
     },
     "output_type": "display_data"
    }
   ],
   "source": [
    "import matplotlib.pyplot as plt\n",
    "plt.scatter(y_test, y_pred, color=\"blue\")\n",
    "plt.plot ([0,0.085],[0,0.085], color = \"red\")\n",
    "plt.axis ([0,0.085,0,0.085])\n",
    "plt.xlabel ('Actual data')\n",
    "plt.ylabel ('Predicted data')"
   ]
  },
  {
   "cell_type": "code",
   "execution_count": 25,
   "metadata": {},
   "outputs": [
    {
     "data": {
      "image/png": "[encoded data removed]",
      "text/plain": [
       "<Figure size 648x648 with 1 Axes>"
      ]
     },
     "metadata": {
      "needs_background": "light"
     },
     "output_type": "display_data"
    }
   ],
   "source": [
    "from sklearn.metrics import r2_score\n",
    "# Initialize layout\n",
    "fig1, ax1 = plt.subplots(figsize = (9, 9))\n",
    "\n",
    "\n",
    "#y = y_pred         # Model on prvious line is called here\n",
    "#x = y_test\n",
    "\n",
    "\n",
    "\n",
    "# Add scatterplot\n",
    "ax1.scatter(y_test, y_pred, s=70, alpha=1, edgecolors=\"k\",c='mediumblue',zorder=5, label = 'Points')\n",
    "\n",
    "\n",
    "plt.ylabel('Predicted Peak Incident Pressure (kPa)',fontsize = 25)\n",
    "plt.xlabel('Actual Peak Incident Pressure (kPa)',fontsize = 25)\n",
    "plt.xticks(fontsize = 19)\n",
    "plt.yticks(fontsize = 19)\n",
    "\n",
    "\n",
    "x1 = np.linspace(0,0.085)\n",
    "\n",
    "plt.plot(x1, x1, 'Red', label='45\\N{DEGREE SIGN} line',lw=2.5,alpha=1)\n",
    "plt.plot(x1, 1.1*x1, '--m', label='\\u00B110% Error',lw=2.5,alpha=0.7)\n",
    "plt.plot(x1, 0.9*x1,'m', linestyle='--',lw=2.5,alpha=0.7)\n",
    "plt.plot(x1, 1.2*x1, '-.g', label='\\u00B120% Error',lw=2.5,alpha=0.7)\n",
    "plt.plot(x1, 0.8*x1,'-.g',lw=2.5,alpha=0.7)\n",
    "\n",
    "plt.ylim(0, 0.085)\n",
    "plt.xlim(0, 0.085)\n",
    "plt.legend(loc='upper left',fontsize = 25)\n",
    "\n",
    "plt.grid()\n",
    "\n",
    "ax1.spines['left'].set_color('black')        # setting up Y-axis tick color to red\n",
    "ax1.spines['bottom'].set_color('black')         #setting up above X-axis tick color to red\n",
    "\n",
    "\n",
    "\n",
    "#ax1.annotate(\"$R^2$ = {:.3f}\".format(r2), (2500, 1000),fontsize = 25)  #Model is called here\n",
    "#ax1.annotate(\"Adj.$R^2$ = {:.3f}\".format(adj_r2), (2500, 750),fontsize = 25)\n",
    "\n",
    "#plt.savefig('plot1.png', dpi = 600, bbox_inches = 'tight')"
   ]
  },
  {
   "cell_type": "code",
   "execution_count": 26,
   "metadata": {},
   "outputs": [
    {
     "name": "stdout",
     "output_type": "stream",
     "text": [
      "13/13 [==============================] - 0s 2ms/step\n",
      "0.0019790177354560958\n",
      "0.0017366501707895153\n"
     ]
    }
   ],
   "source": [
    "# metrics\n",
    "\n",
    "\n",
    "trainpreds = ann.predict(X_train)\n",
    "\n",
    "from sklearn.metrics import mean_absolute_error\n",
    "print(mean_absolute_error(y_train, trainpreds)) # train\n",
    "print(mean_absolute_error(y_test, y_pred)) # test"
   ]
  },
  {
   "cell_type": "code",
   "execution_count": 27,
   "metadata": {},
   "outputs": [
    {
     "name": "stdout",
     "output_type": "stream",
     "text": [
      "0.9898830110804033\n"
     ]
    }
   ],
   "source": [
    "from sklearn.metrics import r2_score\n",
    "r2 = r2_score(y_test, y_pred)\n",
    "print (r2)"
   ]
  },
  {
   "cell_type": "code",
   "execution_count": 28,
   "metadata": {},
   "outputs": [
    {
     "name": "stdout",
     "output_type": "stream",
     "text": [
      "0.9538863503759919\n"
     ]
    }
   ],
   "source": [
    "r2_train = r2_score(y_train, trainpreds)\n",
    "print (r2_train)"
   ]
  },
  {
   "cell_type": "code",
   "execution_count": 29,
   "metadata": {},
   "outputs": [
    {
     "name": "stdout",
     "output_type": "stream",
     "text": [
      "Within 10% margin 79.31%\n",
      "Within 20% margin 87.36%\n",
      "Out of 20% margin 12.64%\n"
     ]
    }
   ],
   "source": [
    "count1 = 0\n",
    "for i in range(len(y_pred)):\n",
    "    line1 = y_pred[i] - 0.9*y_test[i]\n",
    "    line2 = y_pred[i] - 1.1*y_test[i]\n",
    "    #print ('line 1 ', line1)\n",
    "    #print ('line 2 ', line2)\n",
    "    mask1 = (line1 > 0) & (line2 < 0)\n",
    "    #print (mask)\n",
    "    count1 = np.sum(mask1+count1)\n",
    "    #print (count)\n",
    "\n",
    "count2 = 0\n",
    "for j in range(len(y_pred)):\n",
    "    line3 = y_pred[j] - 0.8*y_test[j]\n",
    "    line4 = y_pred[j] - 1.2*y_test[j]\n",
    "    mask2 = (line3 > 0) & (line4 < 0)\n",
    "    count2 = np.sum(mask2+count2)\n",
    "\n",
    "\n",
    "count3 = 0    \n",
    "for k in range(len(y_pred)):\n",
    "    line5 = y_pred[k] - 0.8*y_test[k]\n",
    "    line6 = y_pred[k] - 1.2*y_test[k]\n",
    "    mask3 = (line5 < 0) or (line6 > 0)\n",
    "    count3 = np.sum(mask3+count3)\n",
    "   \n",
    "\n",
    "print ('Within 10% margin', format((count1/len (y_pred)),'.2%'))\n",
    "print ('Within 20% margin', format((count2/len (y_pred)),'.2%'))\n",
    "print ('Out of 20% margin', format((count3/len (y_pred)),'.2%'))"
   ]
  },
  {
   "cell_type": "code",
   "execution_count": 30,
   "metadata": {},
   "outputs": [
    {
     "name": "stdout",
     "output_type": "stream",
     "text": [
      "0.9896421303918415\n"
     ]
    }
   ],
   "source": [
    "adj_r2 = 1 - ((1 - r2) * (len(X_test) - 1) / (len(X_test) - len (X_test[0]) - 1))\n",
    "print (adj_r2)"
   ]
  },
  {
   "cell_type": "code",
   "execution_count": 31,
   "metadata": {},
   "outputs": [
    {
     "data": {
      "text/plain": [
       "0.002581501160104542"
      ]
     },
     "execution_count": 31,
     "metadata": {},
     "output_type": "execute_result"
    }
   ],
   "source": [
    "import math\n",
    "from sklearn.metrics import mean_squared_error\n",
    "\n",
    "math.sqrt(mean_squared_error(y_test, y_pred))"
   ]
  },
  {
   "cell_type": "code",
   "execution_count": 32,
   "metadata": {},
   "outputs": [
    {
     "data": {
      "text/plain": [
       "0.0017366501707895153"
      ]
     },
     "execution_count": 32,
     "metadata": {},
     "output_type": "execute_result"
    }
   ],
   "source": [
    "from sklearn.metrics import mean_absolute_error\n",
    "\n",
    "mean_absolute_error(y_test, y_pred)"
   ]
  }
 ],
 "metadata": {
  "colab": {
   "collapsed_sections": [],
   "name": "Artificial Neural Network",
   "provenance": [],
   "toc_visible": true
  },
  "kernelspec": {
   "display_name": "Python 3 (ipykernel)",
   "language": "python",
   "name": "python3"
  },
  "language_info": {
   "codemirror_mode": {
    "name": "ipython",
    "version": 3
   },
   "file_extension": ".py",
   "mimetype": "text/x-python",
   "name": "python",
   "nbconvert_exporter": "python",
   "pygments_lexer": "ipython3",
   "version": "3.9.7"
  }
 },
 "nbformat": 4,
 "nbformat_minor": 4
}
