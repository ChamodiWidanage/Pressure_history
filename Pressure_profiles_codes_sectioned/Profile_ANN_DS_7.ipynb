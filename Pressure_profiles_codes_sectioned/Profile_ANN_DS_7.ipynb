{
 "cells": [
  {
   "cell_type": "markdown",
   "metadata": {
    "colab_type": "text",
    "id": "3cbb7fRy-eyr"
   },
   "source": [
    "# Artificial Neural Network"
   ]
  },
  {
   "cell_type": "markdown",
   "source": [],
   "metadata": {
    "collapsed": false
   }
  },
  {
   "cell_type": "markdown",
   "metadata": {
    "colab_type": "text",
    "id": "8sNDnxE2-pwE"
   },
   "source": [
    "## Part 1 - Importing the libraries"
   ]
  },
  {
   "cell_type": "code",
   "execution_count": 1,
   "metadata": {
    "colab": {},
    "colab_type": "code",
    "id": "lxChR1Rk-umf",
    "ExecuteTime": {
     "end_time": "2023-08-20T13:02:26.975560900Z",
     "start_time": "2023-08-20T13:02:22.146252800Z"
    }
   },
   "outputs": [],
   "source": [
    "import numpy as np\n",
    "import pandas as pd\n",
    "import tensorflow as tf\n",
    "import matplotlib.pyplot as plt\n",
    "from keras.models import load_model\n",
    "from pathlib import Path"
   ]
  },
  {
   "cell_type": "markdown",
   "metadata": {
    "colab_type": "text",
    "id": "AG3FQEch-yuA"
   },
   "source": [
    "## Part 2 - Data Preprocessing"
   ]
  },
  {
   "cell_type": "markdown",
   "metadata": {
    "colab_type": "text",
    "id": "-4zq8Mza_D9O"
   },
   "source": [
    "### Importing the dataset"
   ]
  },
  {
   "cell_type": "code",
   "execution_count": 2,
   "metadata": {
    "ExecuteTime": {
     "end_time": "2023-08-20T13:02:29.672500600Z",
     "start_time": "2023-08-20T13:02:29.616402200Z"
    }
   },
   "outputs": [],
   "source": [
    "current_dir = Path.cwd()\n",
    "parent_dir = current_dir.parent"
   ]
  },
  {
   "cell_type": "code",
   "execution_count": 3,
   "outputs": [
    {
     "name": "stdout",
     "output_type": "stream",
     "text": [
      "input H:\\Chamodi\\Machine Learning\\Pressure_history\\Pressure_profiles\n",
      "2 [WindowsPath('H:/Chamodi/Machine Learning/Pressure_history/Pressure_profiles/L13_01'), WindowsPath('H:/Chamodi/Machine Learning/Pressure_history/Pressure_profiles/L13_03'), WindowsPath('H:/Chamodi/Machine Learning/Pressure_history/Pressure_profiles/L13_05'), WindowsPath('H:/Chamodi/Machine Learning/Pressure_history/Pressure_profiles/L13_07'), WindowsPath('H:/Chamodi/Machine Learning/Pressure_history/Pressure_profiles/L13_09'), WindowsPath('H:/Chamodi/Machine Learning/Pressure_history/Pressure_profiles/L13_11'), WindowsPath('H:/Chamodi/Machine Learning/Pressure_history/Pressure_profiles/L13_13'), WindowsPath('H:/Chamodi/Machine Learning/Pressure_history/Pressure_profiles/L13_15'), WindowsPath('H:/Chamodi/Machine Learning/Pressure_history/Pressure_profiles/L13_17'), WindowsPath('H:/Chamodi/Machine Learning/Pressure_history/Pressure_profiles/L13_19'), WindowsPath('H:/Chamodi/Machine Learning/Pressure_history/Pressure_profiles/L13_21'), WindowsPath('H:/Chamodi/Machine Learning/Pressure_history/Pressure_profiles/L13_23'), WindowsPath('H:/Chamodi/Machine Learning/Pressure_history/Pressure_profiles/L13_25'), WindowsPath('H:/Chamodi/Machine Learning/Pressure_history/Pressure_profiles/L13_27'), WindowsPath('H:/Chamodi/Machine Learning/Pressure_history/Pressure_profiles/L13_29'), WindowsPath('H:/Chamodi/Machine Learning/Pressure_history/Pressure_profiles/L13_31'), WindowsPath('H:/Chamodi/Machine Learning/Pressure_history/Pressure_profiles/L13_33'), WindowsPath('H:/Chamodi/Machine Learning/Pressure_history/Pressure_profiles/L13_35'), WindowsPath('H:/Chamodi/Machine Learning/Pressure_history/Pressure_profiles/L13_37'), WindowsPath('H:/Chamodi/Machine Learning/Pressure_history/Pressure_profiles/L13_39'), WindowsPath('H:/Chamodi/Machine Learning/Pressure_history/Pressure_profiles/L13_41'), WindowsPath('H:/Chamodi/Machine Learning/Pressure_history/Pressure_profiles/L13_43'), WindowsPath('H:/Chamodi/Machine Learning/Pressure_history/Pressure_profiles/L13_45'), WindowsPath('H:/Chamodi/Machine Learning/Pressure_history/Pressure_profiles/L13_47'), WindowsPath('H:/Chamodi/Machine Learning/Pressure_history/Pressure_profiles/L13_49'), WindowsPath('H:/Chamodi/Machine Learning/Pressure_history/Pressure_profiles/L13_51'), WindowsPath('H:/Chamodi/Machine Learning/Pressure_history/Pressure_profiles/L13_53'), WindowsPath('H:/Chamodi/Machine Learning/Pressure_history/Pressure_profiles/L13_55'), WindowsPath('H:/Chamodi/Machine Learning/Pressure_history/Pressure_profiles/L13_57'), WindowsPath('H:/Chamodi/Machine Learning/Pressure_history/Pressure_profiles/L13_59'), WindowsPath('H:/Chamodi/Machine Learning/Pressure_history/Pressure_profiles/L13_61'), WindowsPath('H:/Chamodi/Machine Learning/Pressure_history/Pressure_profiles/L13_63'), WindowsPath('H:/Chamodi/Machine Learning/Pressure_history/Pressure_profiles/L13_65'), WindowsPath('H:/Chamodi/Machine Learning/Pressure_history/Pressure_profiles/L13_67'), WindowsPath('H:/Chamodi/Machine Learning/Pressure_history/Pressure_profiles/L13_69'), WindowsPath('H:/Chamodi/Machine Learning/Pressure_history/Pressure_profiles/L13_70')]\n"
     ]
    }
   ],
   "source": [
    "#Access input folder\n",
    "input_dir1 = Path (parent_dir/\"Pressure_profiles\")\n",
    "print (\"input\",input_dir1)\n",
    "\n",
    "#Access folders inside input folder\n",
    "input_dir2 =  [folder for folder in input_dir1.iterdir() if folder.is_dir()]\n",
    "print (\"2\",input_dir2)"
   ],
   "metadata": {
    "collapsed": false,
    "ExecuteTime": {
     "end_time": "2023-08-20T13:02:32.769761100Z",
     "start_time": "2023-08-20T13:02:32.671409Z"
    }
   }
  },
  {
   "cell_type": "code",
   "execution_count": 4,
   "metadata": {
    "ExecuteTime": {
     "end_time": "2023-08-20T13:03:00.938528300Z",
     "start_time": "2023-08-20T13:02:34.860373900Z"
    }
   },
   "outputs": [
    {
     "name": "stdout",
     "output_type": "stream",
     "text": [
      "H:\\Chamodi\\Machine Learning\\Pressure_history\\Pressure_profiles\\L13_01\n",
      "P1\n",
      "P13\n",
      "P5\n",
      "P9\n",
      "H:\\Chamodi\\Machine Learning\\Pressure_history\\Pressure_profiles\\L13_03\n",
      "P1\n",
      "P13\n",
      "P5\n",
      "P9\n",
      "H:\\Chamodi\\Machine Learning\\Pressure_history\\Pressure_profiles\\L13_05\n",
      "P1\n",
      "P13\n",
      "P5\n",
      "P9\n",
      "H:\\Chamodi\\Machine Learning\\Pressure_history\\Pressure_profiles\\L13_07\n",
      "P1\n",
      "P13\n",
      "P5\n",
      "P9\n",
      "H:\\Chamodi\\Machine Learning\\Pressure_history\\Pressure_profiles\\L13_09\n",
      "P1\n",
      "P13\n",
      "P5\n",
      "P9\n",
      "H:\\Chamodi\\Machine Learning\\Pressure_history\\Pressure_profiles\\L13_11\n",
      "P1\n",
      "P13\n",
      "P5\n",
      "P9\n",
      "H:\\Chamodi\\Machine Learning\\Pressure_history\\Pressure_profiles\\L13_13\n",
      "P1\n",
      "P13\n",
      "P5\n",
      "P9\n",
      "H:\\Chamodi\\Machine Learning\\Pressure_history\\Pressure_profiles\\L13_15\n",
      "P1\n",
      "P13\n",
      "P5\n",
      "P9\n",
      "H:\\Chamodi\\Machine Learning\\Pressure_history\\Pressure_profiles\\L13_17\n",
      "P1\n",
      "P13\n",
      "P5\n",
      "P9\n",
      "H:\\Chamodi\\Machine Learning\\Pressure_history\\Pressure_profiles\\L13_19\n",
      "P1\n",
      "P13\n",
      "P5\n",
      "P9\n",
      "H:\\Chamodi\\Machine Learning\\Pressure_history\\Pressure_profiles\\L13_21\n",
      "P1\n",
      "P13\n",
      "P5\n",
      "P9\n",
      "H:\\Chamodi\\Machine Learning\\Pressure_history\\Pressure_profiles\\L13_23\n",
      "P1\n",
      "P13\n",
      "P5\n",
      "P9\n",
      "H:\\Chamodi\\Machine Learning\\Pressure_history\\Pressure_profiles\\L13_25\n",
      "P1\n",
      "P13\n",
      "P5\n",
      "P9\n",
      "H:\\Chamodi\\Machine Learning\\Pressure_history\\Pressure_profiles\\L13_27\n",
      "P1\n",
      "P13\n",
      "P5\n",
      "P9\n",
      "H:\\Chamodi\\Machine Learning\\Pressure_history\\Pressure_profiles\\L13_29\n",
      "P1\n",
      "P13\n",
      "P5\n",
      "P9\n",
      "H:\\Chamodi\\Machine Learning\\Pressure_history\\Pressure_profiles\\L13_31\n",
      "P1\n",
      "P13\n",
      "P5\n",
      "P9\n",
      "H:\\Chamodi\\Machine Learning\\Pressure_history\\Pressure_profiles\\L13_33\n",
      "P1\n",
      "P13\n",
      "P5\n",
      "P9\n",
      "H:\\Chamodi\\Machine Learning\\Pressure_history\\Pressure_profiles\\L13_35\n",
      "P1\n",
      "P13\n",
      "P5\n",
      "P9\n",
      "H:\\Chamodi\\Machine Learning\\Pressure_history\\Pressure_profiles\\L13_37\n",
      "P1\n",
      "P13\n",
      "P5\n",
      "P9\n",
      "H:\\Chamodi\\Machine Learning\\Pressure_history\\Pressure_profiles\\L13_39\n",
      "P1\n",
      "P13\n",
      "P5\n",
      "P9\n",
      "H:\\Chamodi\\Machine Learning\\Pressure_history\\Pressure_profiles\\L13_41\n",
      "P1\n",
      "P13\n",
      "P5\n",
      "P9\n",
      "H:\\Chamodi\\Machine Learning\\Pressure_history\\Pressure_profiles\\L13_43\n",
      "P1\n",
      "P13\n",
      "P5\n",
      "P9\n",
      "H:\\Chamodi\\Machine Learning\\Pressure_history\\Pressure_profiles\\L13_45\n",
      "P1\n",
      "P13\n",
      "P5\n",
      "P9\n",
      "H:\\Chamodi\\Machine Learning\\Pressure_history\\Pressure_profiles\\L13_47\n",
      "P1\n",
      "P13\n",
      "P5\n",
      "P9\n",
      "H:\\Chamodi\\Machine Learning\\Pressure_history\\Pressure_profiles\\L13_49\n",
      "P1\n",
      "P13\n",
      "P5\n",
      "P9\n",
      "H:\\Chamodi\\Machine Learning\\Pressure_history\\Pressure_profiles\\L13_51\n",
      "P1\n",
      "P13\n",
      "P5\n",
      "P9\n",
      "H:\\Chamodi\\Machine Learning\\Pressure_history\\Pressure_profiles\\L13_53\n",
      "P1\n",
      "P13\n",
      "P5\n",
      "P9\n",
      "H:\\Chamodi\\Machine Learning\\Pressure_history\\Pressure_profiles\\L13_55\n",
      "P1\n",
      "P13\n",
      "P5\n",
      "P9\n",
      "H:\\Chamodi\\Machine Learning\\Pressure_history\\Pressure_profiles\\L13_57\n",
      "P1\n",
      "P13\n",
      "P5\n",
      "P9\n",
      "H:\\Chamodi\\Machine Learning\\Pressure_history\\Pressure_profiles\\L13_59\n",
      "P1\n",
      "P13\n",
      "P5\n",
      "P9\n",
      "H:\\Chamodi\\Machine Learning\\Pressure_history\\Pressure_profiles\\L13_61\n",
      "P1\n",
      "P13\n",
      "P5\n",
      "P9\n",
      "H:\\Chamodi\\Machine Learning\\Pressure_history\\Pressure_profiles\\L13_63\n",
      "P1\n",
      "P13\n",
      "P5\n",
      "P9\n",
      "H:\\Chamodi\\Machine Learning\\Pressure_history\\Pressure_profiles\\L13_65\n",
      "P1\n",
      "P13\n",
      "P5\n",
      "P9\n",
      "H:\\Chamodi\\Machine Learning\\Pressure_history\\Pressure_profiles\\L13_67\n",
      "P1\n",
      "P13\n",
      "P5\n",
      "P9\n",
      "H:\\Chamodi\\Machine Learning\\Pressure_history\\Pressure_profiles\\L13_69\n",
      "P1\n",
      "P13\n",
      "P5\n",
      "P9\n",
      "H:\\Chamodi\\Machine Learning\\Pressure_history\\Pressure_profiles\\L13_70\n",
      "P1\n",
      "P13\n",
      "P5\n",
      "P9\n"
     ]
    }
   ],
   "source": [
    "# Access each folder inside input folder\n",
    "dataset = pd.DataFrame(columns = ['Charge_mass', 'Standoff_distance', 'Time', 'Pressure'])\n",
    "df_list = []\n",
    "for folder in input_dir2:\n",
    "    \n",
    "    # Make a list of data file names\n",
    "    files = list(file_sel for file_sel in folder.rglob(\"*.xlsx\") if int(file_sel.stem[1:]) < 14)\n",
    "    print (folder)\n",
    "    for file in files:\n",
    "        df_list.append(pd.read_excel(file))\n",
    "        print (file.stem)\n",
    "\n",
    "dataset = pd.concat(df_list, ignore_index = True)"
   ]
  },
  {
   "cell_type": "code",
   "execution_count": 5,
   "metadata": {
    "colab": {},
    "colab_type": "code",
    "id": "B9CV13Co_HHM",
    "ExecuteTime": {
     "end_time": "2023-08-20T13:03:05.702044400Z",
     "start_time": "2023-08-20T13:03:05.607550900Z"
    }
   },
   "outputs": [
    {
     "name": "stdout",
     "output_type": "stream",
     "text": [
      "<class 'pandas.core.frame.DataFrame'>\n",
      "RangeIndex: 492215 entries, 0 to 492214\n",
      "Data columns (total 4 columns):\n",
      " #   Column             Non-Null Count   Dtype  \n",
      "---  ------             --------------   -----  \n",
      " 0   Charge_mass        492215 non-null  float64\n",
      " 1   Standoff_distance  492215 non-null  int64  \n",
      " 2   Time               492215 non-null  float64\n",
      " 3   Pressure           492215 non-null  float64\n",
      "dtypes: float64(3), int64(1)\n",
      "memory usage: 15.0 MB\n"
     ]
    }
   ],
   "source": [
    "dataset.info()"
   ]
  },
  {
   "cell_type": "code",
   "execution_count": 6,
   "metadata": {
    "ExecuteTime": {
     "end_time": "2023-08-20T13:03:08.566395Z",
     "start_time": "2023-08-20T13:03:08.461415400Z"
    }
   },
   "outputs": [
    {
     "name": "stdout",
     "output_type": "stream",
     "text": [
      "(492215, 3) (492215,)\n"
     ]
    }
   ],
   "source": [
    "y = dataset['Pressure']\n",
    "X = dataset.drop(['Pressure'], axis=1)\n",
    "print(X.shape, y.shape)"
   ]
  },
  {
   "cell_type": "code",
   "execution_count": 7,
   "metadata": {
    "ExecuteTime": {
     "end_time": "2023-08-20T13:03:10.470481800Z",
     "start_time": "2023-08-20T13:03:10.396165900Z"
    }
   },
   "outputs": [],
   "source": [
    "# convert to numpy array\n",
    "X = np.array(X)\n",
    "y = np.array(y)"
   ]
  },
  {
   "cell_type": "markdown",
   "metadata": {
    "colab_type": "text",
    "id": "VC6omXel_Up0"
   },
   "source": [
    "### Splitting the dataset into the Training set and Test set"
   ]
  },
  {
   "cell_type": "code",
   "execution_count": 8,
   "metadata": {
    "colab": {},
    "colab_type": "code",
    "id": "L5edeb2r_agx",
    "ExecuteTime": {
     "end_time": "2023-08-20T13:03:13.389714700Z",
     "start_time": "2023-08-20T13:03:12.774037500Z"
    }
   },
   "outputs": [],
   "source": [
    "from sklearn.model_selection import train_test_split\n",
    "X_train, X_test, y_train, y_test = train_test_split(X,\n",
    "                                                    y,\n",
    "                                                    test_size = 0.4,\n",
    "                                                    random_state = 0)"
   ]
  },
  {
   "cell_type": "code",
   "execution_count": 9,
   "metadata": {
    "colab": {},
    "colab_type": "code",
    "id": "L5edeb2r_agx",
    "ExecuteTime": {
     "end_time": "2023-08-20T13:03:15.198183100Z",
     "start_time": "2023-08-20T13:03:15.126022700Z"
    }
   },
   "outputs": [],
   "source": [
    "X_val, X_test, y_val, y_test = train_test_split(X_test,\n",
    "                                                y_test,\n",
    "                                                test_size = 0.5,\n",
    "                                                random_state = 0)"
   ]
  },
  {
   "cell_type": "markdown",
   "source": [
    "## Feature scaling"
   ],
   "metadata": {
    "collapsed": false
   }
  },
  {
   "cell_type": "code",
   "execution_count": 10,
   "outputs": [],
   "source": [
    "from sklearn.preprocessing import StandardScaler\n",
    "sc = StandardScaler()\n",
    "X_train = sc.fit_transform(X_train)\n",
    "X_test = sc.transform(X_test)\n",
    "X_val = sc.transform(X_val)"
   ],
   "metadata": {
    "collapsed": false,
    "ExecuteTime": {
     "end_time": "2023-08-20T13:03:18.797704500Z",
     "start_time": "2023-08-20T13:03:18.706373500Z"
    }
   }
  },
  {
   "cell_type": "code",
   "execution_count": 11,
   "outputs": [
    {
     "name": "stdout",
     "output_type": "stream",
     "text": [
      "[[-1.93352006  0.43839445  0.08858649]\n",
      " [ 0.82685163 -1.32939973  0.66947474]\n",
      " [ 0.62237966  1.32229154 -0.65582355]\n",
      " ...\n",
      " [ 1.23579559  0.43839445 -0.72983203]\n",
      " [ 0.52014367 -1.32939973 -1.26167127]\n",
      " [ 1.44026756  1.32229154 -1.130874  ]]\n"
     ]
    }
   ],
   "source": [
    "print (X_train)"
   ],
   "metadata": {
    "collapsed": false,
    "ExecuteTime": {
     "end_time": "2023-08-20T13:03:20.634532500Z",
     "start_time": "2023-08-20T13:03:20.561262300Z"
    }
   }
  },
  {
   "cell_type": "code",
   "execution_count": 12,
   "outputs": [
    {
     "name": "stdout",
     "output_type": "stream",
     "text": [
      "[[ 1.49138556 -0.44550264 -0.99231037]\n",
      " [ 0.11119971 -0.44550264  0.90612115]\n",
      " [-0.19550825 -0.44550264 -1.33654183]\n",
      " ...\n",
      " [ 1.49138556 -1.32939973 -0.41142789]\n",
      " [-0.60445221  0.43839445 -0.89592704]\n",
      " [-0.29774424  0.43839445  0.93280585]]\n"
     ]
    }
   ],
   "source": [
    "print (X_test)"
   ],
   "metadata": {
    "collapsed": false,
    "ExecuteTime": {
     "end_time": "2023-08-20T13:03:22.256531500Z",
     "start_time": "2023-08-20T13:03:22.184481200Z"
    }
   }
  },
  {
   "cell_type": "code",
   "execution_count": 13,
   "outputs": [
    {
     "name": "stdout",
     "output_type": "stream",
     "text": [
      "[[-1.32010413 -1.32939973 -0.70488317]\n",
      " [-1.93352006  0.43839445 -0.98971984]\n",
      " [ 1.44026756  1.32229154  1.75895927]\n",
      " ...\n",
      " [-0.50221622  0.43839445 -0.52673754]\n",
      " [ 0.62237966  1.32229154  1.58856842]\n",
      " [-0.50221622  1.32229154  1.567898  ]]\n"
     ]
    }
   ],
   "source": [
    "print (X_val)"
   ],
   "metadata": {
    "collapsed": false,
    "ExecuteTime": {
     "end_time": "2023-08-20T13:03:23.854990900Z",
     "start_time": "2023-08-20T13:03:23.788944100Z"
    }
   }
  },
  {
   "cell_type": "code",
   "execution_count": 14,
   "outputs": [
    {
     "name": "stdout",
     "output_type": "stream",
     "text": [
      "X_train 295329\n",
      "X_test 98443\n",
      "X_val 98443\n"
     ]
    }
   ],
   "source": [
    "print (\"X_train\", len (X_train))\n",
    "print (\"X_test\", len (X_test))\n",
    "print (\"X_val\", len (X_val))"
   ],
   "metadata": {
    "collapsed": false,
    "ExecuteTime": {
     "end_time": "2023-08-20T13:03:25.792926Z",
     "start_time": "2023-08-20T13:03:25.714875100Z"
    }
   }
  },
  {
   "cell_type": "markdown",
   "metadata": {
    "colab_type": "text",
    "id": "_mSLlAT9_eyI"
   },
   "source": [
    "## Part 3 - Building the ANN"
   ]
  },
  {
   "cell_type": "markdown",
   "metadata": {
    "colab_type": "text",
    "id": "CsBULd_f_wLY"
   },
   "source": [
    "### Initializing the ANN"
   ]
  },
  {
   "cell_type": "code",
   "execution_count": 15,
   "metadata": {
    "colab": {},
    "colab_type": "code",
    "id": "J6Hd97Ls__Nz",
    "ExecuteTime": {
     "end_time": "2023-08-20T13:03:29.012350600Z",
     "start_time": "2023-08-20T13:03:28.938302400Z"
    }
   },
   "outputs": [],
   "source": [
    "ann = tf.keras.models.Sequential()"
   ]
  },
  {
   "cell_type": "markdown",
   "metadata": {
    "colab_type": "text",
    "id": "iitAFJS_ABUn"
   },
   "source": [
    "### Adding the input layer and the first hidden layer"
   ]
  },
  {
   "cell_type": "code",
   "execution_count": 16,
   "metadata": {
    "colab": {},
    "colab_type": "code",
    "id": "ksO_Vv40AHix",
    "ExecuteTime": {
     "end_time": "2023-08-20T13:03:30.954160200Z",
     "start_time": "2023-08-20T13:03:30.883109600Z"
    }
   },
   "outputs": [],
   "source": [
    "ann.add(tf.keras.layers.Dense(units=100,\n",
    "                              input_shape=(X_train.shape[1],),\n",
    "                              activation='leaky_relu'))"
   ]
  },
  {
   "cell_type": "markdown",
   "metadata": {
    "colab_type": "text",
    "id": "-lb4kK_wAKbs"
   },
   "source": [
    "### Adding the second hidden layer"
   ]
  },
  {
   "cell_type": "code",
   "execution_count": 17,
   "metadata": {
    "colab": {},
    "colab_type": "code",
    "id": "c2357OqEAQOQ",
    "tags": [],
    "ExecuteTime": {
     "end_time": "2023-08-20T13:03:33.541259400Z",
     "start_time": "2023-08-20T13:03:33.468710Z"
    }
   },
   "outputs": [],
   "source": [
    "ann.add(tf.keras.layers.Dense(units=95,\n",
    "                              activation='leaky_relu'))"
   ]
  },
  {
   "cell_type": "markdown",
   "metadata": {
    "colab_type": "text",
    "id": "-lb4kK_wAKbs"
   },
   "source": [
    "### Adding the third hidden layer"
   ]
  },
  {
   "cell_type": "code",
   "execution_count": 18,
   "metadata": {
    "colab": {},
    "colab_type": "code",
    "id": "c2357OqEAQOQ",
    "tags": [],
    "ExecuteTime": {
     "end_time": "2023-08-20T13:03:35.806841400Z",
     "start_time": "2023-08-20T13:03:35.685753900Z"
    }
   },
   "outputs": [],
   "source": [
    "ann.add(tf.keras.layers.Dense(units=90,\n",
    "                              activation='leaky_relu'))"
   ]
  },
  {
   "cell_type": "markdown",
   "metadata": {
    "colab_type": "text",
    "id": "jwMOmKb3AdBY"
   },
   "source": [
    "### Adding the output layer"
   ]
  },
  {
   "cell_type": "code",
   "execution_count": 19,
   "metadata": {
    "colab": {},
    "colab_type": "code",
    "id": "YFATpzsUAkLL",
    "ExecuteTime": {
     "end_time": "2023-08-20T13:03:37.866422600Z",
     "start_time": "2023-08-20T13:03:37.796966Z"
    }
   },
   "outputs": [],
   "source": [
    "ann.add(tf.keras.layers.Dense(units=1,\n",
    "                              activation='linear'))"
   ]
  },
  {
   "cell_type": "markdown",
   "metadata": {},
   "source": [
    "### what model looks like"
   ]
  },
  {
   "cell_type": "code",
   "execution_count": 20,
   "metadata": {
    "ExecuteTime": {
     "end_time": "2023-08-20T13:03:39.960810400Z",
     "start_time": "2023-08-20T13:03:39.844046100Z"
    }
   },
   "outputs": [
    {
     "name": "stdout",
     "output_type": "stream",
     "text": [
      "Model: \"sequential\"\n",
      "_________________________________________________________________\n",
      " Layer (type)                Output Shape              Param #   \n",
      "=================================================================\n",
      " dense (Dense)               (None, 100)               400       \n",
      "                                                                 \n",
      " dense_1 (Dense)             (None, 95)                9595      \n",
      "                                                                 \n",
      " dense_2 (Dense)             (None, 90)                8640      \n",
      "                                                                 \n",
      " dense_3 (Dense)             (None, 1)                 91        \n",
      "                                                                 \n",
      "=================================================================\n",
      "Total params: 18,726\n",
      "Trainable params: 18,726\n",
      "Non-trainable params: 0\n",
      "_________________________________________________________________\n"
     ]
    }
   ],
   "source": [
    "ann.summary()"
   ]
  },
  {
   "cell_type": "markdown",
   "metadata": {
    "colab_type": "text",
    "id": "fq7e4fF6A1yy"
   },
   "source": [
    "## Part 4 - Training the ANN"
   ]
  },
  {
   "cell_type": "markdown",
   "metadata": {
    "colab_type": "text",
    "id": "qDeylAs2An25"
   },
   "source": [
    "### Compiling the ANN"
   ]
  },
  {
   "cell_type": "code",
   "execution_count": 21,
   "metadata": {
    "colab": {},
    "colab_type": "code",
    "id": "pesgbWlCAtB4",
    "ExecuteTime": {
     "end_time": "2023-08-20T13:03:43.285470400Z",
     "start_time": "2023-08-20T13:03:43.210406400Z"
    }
   },
   "outputs": [],
   "source": [
    "from keras.optimizers import Adam\n",
    "opt = Adam(learning_rate=0.001)\n",
    "ann.compile(optimizer = opt,\n",
    "            loss = 'mean_squared_error',\n",
    "            metrics = ['mae'])"
   ]
  },
  {
   "cell_type": "markdown",
   "metadata": {},
   "source": [
    "### early stopping callback"
   ]
  },
  {
   "cell_type": "code",
   "execution_count": 22,
   "metadata": {
    "ExecuteTime": {
     "end_time": "2023-08-20T13:03:45.541169600Z",
     "start_time": "2023-08-20T13:03:45.497238Z"
    }
   },
   "outputs": [],
   "source": [
    "# protects from unnecessary further training of the model if a particular metric does not continue to improve over a number of n epochs. In such a case, the model training would be automatically aborted.\n",
    "from keras.callbacks import EarlyStopping\n",
    "es = EarlyStopping(monitor='val_loss',\n",
    "                   mode='min',\n",
    "                   patience=50,\n",
    "                   restore_best_weights = True)"
   ]
  },
  {
   "cell_type": "markdown",
   "metadata": {},
   "source": [
    "### Checkpoints"
   ]
  },
  {
   "cell_type": "code",
   "execution_count": 18,
   "metadata": {},
   "outputs": [],
   "source": [
    "filepath=\"P1weights_best.hdf5\"\n",
    "checkpoint = ModelCheckpoint(filepath,\n",
    "                             monitor='val_loss',\n",
    "                             verbose=1,\n",
    "                             save_best_only=True,\n",
    "                             mode='max')\n",
    "callbacks_list = [checkpoint, es]"
   ]
  },
  {
   "cell_type": "markdown",
   "metadata": {
    "colab_type": "text",
    "id": "YjVuiybYOo7r",
    "tags": []
   },
   "source": [
    "### Training the ANN model on the Training set"
   ]
  },
  {
   "cell_type": "code",
   "execution_count": 23,
   "metadata": {
    "colab": {
     "base_uri": "https://localhost:8080/",
     "height": 1000
    },
    "colab_type": "code",
    "id": "c_vV-tiiA5zn",
    "outputId": "4a2b6ee6-ed75-4698-9069-b250e613803f",
    "ExecuteTime": {
     "end_time": "2023-08-20T16:47:55.524147Z",
     "start_time": "2023-08-20T13:03:50.251467600Z"
    }
   },
   "outputs": [
    {
     "name": "stdout",
     "output_type": "stream",
     "text": [
      "Epoch 1/500\n",
      "14767/14767 [==============================] - 30s 2ms/step - loss: 9185581056.0000 - mae: 18846.4375 - val_loss: 10568766464.0000 - val_mae: 16991.2188\n",
      "Epoch 2/500\n",
      "14767/14767 [==============================] - 28s 2ms/step - loss: 8943096832.0000 - mae: 17093.8516 - val_loss: 10543951872.0000 - val_mae: 18874.1035\n",
      "Epoch 3/500\n",
      "14767/14767 [==============================] - 28s 2ms/step - loss: 8897850368.0000 - mae: 16958.1289 - val_loss: 10459382784.0000 - val_mae: 16867.9102\n",
      "Epoch 4/500\n",
      "14767/14767 [==============================] - 29s 2ms/step - loss: 8825318400.0000 - mae: 16381.6006 - val_loss: 10355627008.0000 - val_mae: 16434.6582\n",
      "Epoch 5/500\n",
      "14767/14767 [==============================] - 28s 2ms/step - loss: 8707581952.0000 - mae: 15517.2363 - val_loss: 10203139072.0000 - val_mae: 15947.3594\n",
      "Epoch 6/500\n",
      "14767/14767 [==============================] - 29s 2ms/step - loss: 8548564992.0000 - mae: 14728.7363 - val_loss: 10014775296.0000 - val_mae: 15148.5801\n",
      "Epoch 7/500\n",
      "14767/14767 [==============================] - 28s 2ms/step - loss: 8366096896.0000 - mae: 14225.6318 - val_loss: 9745409024.0000 - val_mae: 12977.9727\n",
      "Epoch 8/500\n",
      "14767/14767 [==============================] - 28s 2ms/step - loss: 8188205568.0000 - mae: 13910.6973 - val_loss: 9599583232.0000 - val_mae: 13934.7744\n",
      "Epoch 9/500\n",
      "14767/14767 [==============================] - 28s 2ms/step - loss: 8000345088.0000 - mae: 13788.0850 - val_loss: 9474538496.0000 - val_mae: 14727.8936\n",
      "Epoch 10/500\n",
      "14767/14767 [==============================] - 29s 2ms/step - loss: 7866050560.0000 - mae: 13933.3730 - val_loss: 9184357376.0000 - val_mae: 14144.8340\n",
      "Epoch 11/500\n",
      "14767/14767 [==============================] - 28s 2ms/step - loss: 7713862144.0000 - mae: 13870.8701 - val_loss: 8961883136.0000 - val_mae: 11005.6299\n",
      "Epoch 12/500\n",
      "14767/14767 [==============================] - 28s 2ms/step - loss: 7613852672.0000 - mae: 14027.6055 - val_loss: 9491576832.0000 - val_mae: 26597.7930\n",
      "Epoch 13/500\n",
      "14767/14767 [==============================] - 28s 2ms/step - loss: 7556516864.0000 - mae: 14262.5791 - val_loss: 9320332288.0000 - val_mae: 21265.2188\n",
      "Epoch 14/500\n",
      "14767/14767 [==============================] - 28s 2ms/step - loss: 7470305792.0000 - mae: 14158.4121 - val_loss: 8555153920.0000 - val_mae: 11280.2734\n",
      "Epoch 15/500\n",
      "14767/14767 [==============================] - 28s 2ms/step - loss: 7410211840.0000 - mae: 14023.7422 - val_loss: 8881821696.0000 - val_mae: 9757.8721\n",
      "Epoch 16/500\n",
      "14767/14767 [==============================] - 28s 2ms/step - loss: 7266005504.0000 - mae: 13958.1855 - val_loss: 8506544128.0000 - val_mae: 10041.6455\n",
      "Epoch 17/500\n",
      "14767/14767 [==============================] - 28s 2ms/step - loss: 7201225216.0000 - mae: 13655.6191 - val_loss: 9770229760.0000 - val_mae: 21521.8105\n",
      "Epoch 18/500\n",
      "14767/14767 [==============================] - 28s 2ms/step - loss: 7075963904.0000 - mae: 13646.4463 - val_loss: 8287678464.0000 - val_mae: 15766.1104\n",
      "Epoch 19/500\n",
      "14767/14767 [==============================] - 28s 2ms/step - loss: 7072889344.0000 - mae: 13582.2676 - val_loss: 7988790784.0000 - val_mae: 11775.9717\n",
      "Epoch 20/500\n",
      "14767/14767 [==============================] - 28s 2ms/step - loss: 7055223296.0000 - mae: 13408.1748 - val_loss: 8565540352.0000 - val_mae: 14747.7549\n",
      "Epoch 21/500\n",
      "14767/14767 [==============================] - 29s 2ms/step - loss: 7018283008.0000 - mae: 13494.5742 - val_loss: 8112815616.0000 - val_mae: 10612.9170\n",
      "Epoch 22/500\n",
      "14767/14767 [==============================] - 29s 2ms/step - loss: 6912382976.0000 - mae: 13215.9678 - val_loss: 8034324480.0000 - val_mae: 9608.4629\n",
      "Epoch 23/500\n",
      "14767/14767 [==============================] - 28s 2ms/step - loss: 6921470976.0000 - mae: 13182.9561 - val_loss: 8089941504.0000 - val_mae: 13268.7588\n",
      "Epoch 24/500\n",
      "14767/14767 [==============================] - 29s 2ms/step - loss: 6915455488.0000 - mae: 13351.1182 - val_loss: 8064933376.0000 - val_mae: 9173.6279\n",
      "Epoch 25/500\n",
      "14767/14767 [==============================] - 79s 5ms/step - loss: 6890838016.0000 - mae: 13165.7080 - val_loss: 8242893312.0000 - val_mae: 9423.4453\n",
      "Epoch 26/500\n",
      "14767/14767 [==============================] - 28s 2ms/step - loss: 6846596608.0000 - mae: 13063.5986 - val_loss: 7655650304.0000 - val_mae: 8584.6904\n",
      "Epoch 27/500\n",
      "14767/14767 [==============================] - 28s 2ms/step - loss: 6857199616.0000 - mae: 13016.2910 - val_loss: 8170216960.0000 - val_mae: 8982.2314\n",
      "Epoch 28/500\n",
      "14767/14767 [==============================] - 28s 2ms/step - loss: 6846747648.0000 - mae: 13077.8848 - val_loss: 7733603328.0000 - val_mae: 10261.7988\n",
      "Epoch 29/500\n",
      "14767/14767 [==============================] - 28s 2ms/step - loss: 6757937664.0000 - mae: 13042.1719 - val_loss: 7967106560.0000 - val_mae: 9799.0127\n",
      "Epoch 30/500\n",
      "14767/14767 [==============================] - 30s 2ms/step - loss: 6792313856.0000 - mae: 12817.6416 - val_loss: 8884733952.0000 - val_mae: 30246.9062\n",
      "Epoch 31/500\n",
      "14767/14767 [==============================] - 30s 2ms/step - loss: 6638481408.0000 - mae: 12590.4209 - val_loss: 8076688896.0000 - val_mae: 12988.1660\n",
      "Epoch 32/500\n",
      "14767/14767 [==============================] - 30s 2ms/step - loss: 6718228992.0000 - mae: 12557.4834 - val_loss: 7770994688.0000 - val_mae: 8413.7109\n",
      "Epoch 33/500\n",
      "14767/14767 [==============================] - 30s 2ms/step - loss: 6641996800.0000 - mae: 12525.0234 - val_loss: 7474189824.0000 - val_mae: 11305.0264\n",
      "Epoch 34/500\n",
      "14767/14767 [==============================] - 30s 2ms/step - loss: 6705277952.0000 - mae: 12593.2275 - val_loss: 8246757376.0000 - val_mae: 8453.9736\n",
      "Epoch 35/500\n",
      "14767/14767 [==============================] - 30s 2ms/step - loss: 6638085120.0000 - mae: 12366.3096 - val_loss: 7784385024.0000 - val_mae: 12680.2725\n",
      "Epoch 36/500\n",
      "14767/14767 [==============================] - 28s 2ms/step - loss: 6676978688.0000 - mae: 12425.7051 - val_loss: 7961866752.0000 - val_mae: 7885.6279\n",
      "Epoch 37/500\n",
      "14767/14767 [==============================] - 29s 2ms/step - loss: 6667868160.0000 - mae: 12237.7471 - val_loss: 7403786752.0000 - val_mae: 7980.9326\n",
      "Epoch 38/500\n",
      "14767/14767 [==============================] - 28s 2ms/step - loss: 6574920192.0000 - mae: 12017.2002 - val_loss: 8324052992.0000 - val_mae: 15038.1104\n",
      "Epoch 39/500\n",
      "14767/14767 [==============================] - 28s 2ms/step - loss: 6506729472.0000 - mae: 11813.8369 - val_loss: 9551533056.0000 - val_mae: 35869.8945\n",
      "Epoch 40/500\n",
      "14767/14767 [==============================] - 28s 2ms/step - loss: 6603592704.0000 - mae: 12020.4688 - val_loss: 7450447872.0000 - val_mae: 12922.1523\n",
      "Epoch 41/500\n",
      "14767/14767 [==============================] - 28s 2ms/step - loss: 6595468288.0000 - mae: 11837.0576 - val_loss: 7237827584.0000 - val_mae: 7825.8818\n",
      "Epoch 42/500\n",
      "14767/14767 [==============================] - 28s 2ms/step - loss: 6505575936.0000 - mae: 11882.2275 - val_loss: 7866791936.0000 - val_mae: 7665.9146\n",
      "Epoch 43/500\n",
      "14767/14767 [==============================] - 28s 2ms/step - loss: 6510818304.0000 - mae: 11667.5732 - val_loss: 7788344320.0000 - val_mae: 7861.2930\n",
      "Epoch 44/500\n",
      "14767/14767 [==============================] - 28s 2ms/step - loss: 6530971648.0000 - mae: 11742.6934 - val_loss: 8371537408.0000 - val_mae: 7782.9541\n",
      "Epoch 45/500\n",
      "14767/14767 [==============================] - 31s 2ms/step - loss: 6448398848.0000 - mae: 11279.4326 - val_loss: 8012017664.0000 - val_mae: 17163.0020\n",
      "Epoch 46/500\n",
      "14767/14767 [==============================] - 30s 2ms/step - loss: 6545620480.0000 - mae: 11613.4766 - val_loss: 7208169984.0000 - val_mae: 13756.1494\n",
      "Epoch 47/500\n",
      "14767/14767 [==============================] - 30s 2ms/step - loss: 6569342464.0000 - mae: 11276.3506 - val_loss: 9528721408.0000 - val_mae: 17446.3047\n",
      "Epoch 48/500\n",
      "14767/14767 [==============================] - 30s 2ms/step - loss: 6574453248.0000 - mae: 11163.1875 - val_loss: 7313252352.0000 - val_mae: 9450.1875\n",
      "Epoch 49/500\n",
      "14767/14767 [==============================] - 30s 2ms/step - loss: 6465074688.0000 - mae: 11039.5430 - val_loss: 7350002688.0000 - val_mae: 11546.3525\n",
      "Epoch 50/500\n",
      "14767/14767 [==============================] - 28s 2ms/step - loss: 6495555584.0000 - mae: 11048.2422 - val_loss: 7931151360.0000 - val_mae: 11301.5332\n",
      "Epoch 51/500\n",
      "14767/14767 [==============================] - 28s 2ms/step - loss: 6428216320.0000 - mae: 10984.5371 - val_loss: 7324129280.0000 - val_mae: 7472.3940\n",
      "Epoch 52/500\n",
      "14767/14767 [==============================] - 28s 2ms/step - loss: 6387257344.0000 - mae: 10593.4316 - val_loss: 8067493888.0000 - val_mae: 9620.3809\n",
      "Epoch 53/500\n",
      "14767/14767 [==============================] - 28s 2ms/step - loss: 6502673408.0000 - mae: 10653.4590 - val_loss: 7609648640.0000 - val_mae: 7691.9331\n",
      "Epoch 54/500\n",
      "14767/14767 [==============================] - 28s 2ms/step - loss: 6429202432.0000 - mae: 10560.3340 - val_loss: 7381872128.0000 - val_mae: 7596.2280\n",
      "Epoch 55/500\n",
      "14767/14767 [==============================] - 28s 2ms/step - loss: 6421283840.0000 - mae: 10505.6631 - val_loss: 7628183552.0000 - val_mae: 7537.5664\n",
      "Epoch 56/500\n",
      "14767/14767 [==============================] - 28s 2ms/step - loss: 6426457088.0000 - mae: 10734.5273 - val_loss: 7388626944.0000 - val_mae: 7296.3350\n",
      "Epoch 57/500\n",
      "14767/14767 [==============================] - 28s 2ms/step - loss: 6513025536.0000 - mae: 10348.0049 - val_loss: 6846710272.0000 - val_mae: 11213.5371\n",
      "Epoch 58/500\n",
      "14767/14767 [==============================] - 28s 2ms/step - loss: 6377219584.0000 - mae: 10252.9033 - val_loss: 7701129728.0000 - val_mae: 7751.5732\n",
      "Epoch 59/500\n",
      "14767/14767 [==============================] - 28s 2ms/step - loss: 6338041856.0000 - mae: 10097.5566 - val_loss: 6941746176.0000 - val_mae: 9284.0986\n",
      "Epoch 60/500\n",
      "14767/14767 [==============================] - 28s 2ms/step - loss: 6340531200.0000 - mae: 10099.3359 - val_loss: 6854560256.0000 - val_mae: 8486.1631\n",
      "Epoch 61/500\n",
      "14767/14767 [==============================] - 28s 2ms/step - loss: 6377752576.0000 - mae: 9953.3457 - val_loss: 7441819136.0000 - val_mae: 7621.8242\n",
      "Epoch 62/500\n",
      "14767/14767 [==============================] - 28s 2ms/step - loss: 6235436032.0000 - mae: 9829.6406 - val_loss: 7850515456.0000 - val_mae: 10640.0068\n",
      "Epoch 63/500\n",
      "14767/14767 [==============================] - 28s 2ms/step - loss: 6139294720.0000 - mae: 9686.7549 - val_loss: 7665850368.0000 - val_mae: 15882.8652\n",
      "Epoch 64/500\n",
      "14767/14767 [==============================] - 28s 2ms/step - loss: 6223718400.0000 - mae: 9714.9746 - val_loss: 7347487232.0000 - val_mae: 7989.7812\n",
      "Epoch 65/500\n",
      "14767/14767 [==============================] - 28s 2ms/step - loss: 6352713216.0000 - mae: 9701.6738 - val_loss: 7835067904.0000 - val_mae: 7158.4985\n",
      "Epoch 66/500\n",
      "14767/14767 [==============================] - 28s 2ms/step - loss: 6315550720.0000 - mae: 9528.8213 - val_loss: 6666076160.0000 - val_mae: 7819.5405\n",
      "Epoch 67/500\n",
      "14767/14767 [==============================] - 28s 2ms/step - loss: 6339058688.0000 - mae: 9544.5664 - val_loss: 7201214976.0000 - val_mae: 7344.3184\n",
      "Epoch 68/500\n",
      "14767/14767 [==============================] - 28s 2ms/step - loss: 6102965248.0000 - mae: 9337.7129 - val_loss: 7938800640.0000 - val_mae: 6944.3555\n",
      "Epoch 69/500\n",
      "14767/14767 [==============================] - 28s 2ms/step - loss: 6280689664.0000 - mae: 9401.5352 - val_loss: 6705691136.0000 - val_mae: 9385.5547\n",
      "Epoch 70/500\n",
      "14767/14767 [==============================] - 28s 2ms/step - loss: 6276616704.0000 - mae: 9223.7480 - val_loss: 6696908800.0000 - val_mae: 9066.2949\n",
      "Epoch 71/500\n",
      "14767/14767 [==============================] - 28s 2ms/step - loss: 6142660096.0000 - mae: 9195.2676 - val_loss: 7399710208.0000 - val_mae: 9501.1924\n",
      "Epoch 72/500\n",
      "14767/14767 [==============================] - 28s 2ms/step - loss: 6274344960.0000 - mae: 9153.1885 - val_loss: 7155238912.0000 - val_mae: 8261.6836\n",
      "Epoch 73/500\n",
      "14767/14767 [==============================] - 28s 2ms/step - loss: 6228895744.0000 - mae: 9236.8242 - val_loss: 6517990400.0000 - val_mae: 8152.7900\n",
      "Epoch 74/500\n",
      "14767/14767 [==============================] - 28s 2ms/step - loss: 6165946368.0000 - mae: 9029.6572 - val_loss: 6802037760.0000 - val_mae: 7112.3242\n",
      "Epoch 75/500\n",
      "14767/14767 [==============================] - 28s 2ms/step - loss: 6226247680.0000 - mae: 9117.5762 - val_loss: 6972559360.0000 - val_mae: 7435.2681\n",
      "Epoch 76/500\n",
      "14767/14767 [==============================] - 28s 2ms/step - loss: 6179637248.0000 - mae: 8925.6406 - val_loss: 7457105408.0000 - val_mae: 6987.7476\n",
      "Epoch 77/500\n",
      "14767/14767 [==============================] - 28s 2ms/step - loss: 6333819904.0000 - mae: 9233.6270 - val_loss: 6946007040.0000 - val_mae: 11829.6367\n",
      "Epoch 78/500\n",
      "14767/14767 [==============================] - 28s 2ms/step - loss: 6011950592.0000 - mae: 9271.0039 - val_loss: 7111404032.0000 - val_mae: 8999.2451\n",
      "Epoch 79/500\n",
      "14767/14767 [==============================] - 28s 2ms/step - loss: 6218667520.0000 - mae: 9231.9609 - val_loss: 6529052672.0000 - val_mae: 7825.3096\n",
      "Epoch 80/500\n",
      "14767/14767 [==============================] - 28s 2ms/step - loss: 6213079552.0000 - mae: 9006.9736 - val_loss: 7659451904.0000 - val_mae: 12668.6377\n",
      "Epoch 81/500\n",
      "14767/14767 [==============================] - 28s 2ms/step - loss: 6300601856.0000 - mae: 9130.3330 - val_loss: 6712042496.0000 - val_mae: 7523.2183\n",
      "Epoch 82/500\n",
      "14767/14767 [==============================] - 28s 2ms/step - loss: 6092220416.0000 - mae: 8990.5723 - val_loss: 6564361216.0000 - val_mae: 10543.2500\n",
      "Epoch 83/500\n",
      "14767/14767 [==============================] - 28s 2ms/step - loss: 6261410304.0000 - mae: 9049.8359 - val_loss: 6768057344.0000 - val_mae: 9997.8916\n",
      "Epoch 84/500\n",
      "14767/14767 [==============================] - 28s 2ms/step - loss: 6093118976.0000 - mae: 8777.8271 - val_loss: 7463372288.0000 - val_mae: 6611.9009\n",
      "Epoch 85/500\n",
      "14767/14767 [==============================] - 28s 2ms/step - loss: 6180932096.0000 - mae: 8910.5723 - val_loss: 6822566400.0000 - val_mae: 7145.5220\n",
      "Epoch 86/500\n",
      "14767/14767 [==============================] - 28s 2ms/step - loss: 6134641664.0000 - mae: 8461.5938 - val_loss: 7595711488.0000 - val_mae: 7288.9565\n",
      "Epoch 87/500\n",
      "14767/14767 [==============================] - 28s 2ms/step - loss: 6171991552.0000 - mae: 8706.2168 - val_loss: 7635945472.0000 - val_mae: 6629.5049\n",
      "Epoch 88/500\n",
      "14767/14767 [==============================] - 28s 2ms/step - loss: 6032857600.0000 - mae: 8581.0859 - val_loss: 6703025664.0000 - val_mae: 8334.8945\n",
      "Epoch 89/500\n",
      "14767/14767 [==============================] - 28s 2ms/step - loss: 6117398016.0000 - mae: 8906.2578 - val_loss: 6614222848.0000 - val_mae: 9169.4404\n",
      "Epoch 90/500\n",
      "14767/14767 [==============================] - 28s 2ms/step - loss: 5997166592.0000 - mae: 8468.4736 - val_loss: 8069928960.0000 - val_mae: 7031.7012\n",
      "Epoch 91/500\n",
      "14767/14767 [==============================] - 28s 2ms/step - loss: 5987836416.0000 - mae: 8908.5488 - val_loss: 8210937344.0000 - val_mae: 6589.7563\n",
      "Epoch 92/500\n",
      "14767/14767 [==============================] - 28s 2ms/step - loss: 6186518016.0000 - mae: 8994.4902 - val_loss: 7085056000.0000 - val_mae: 7729.1133\n",
      "Epoch 93/500\n",
      "14767/14767 [==============================] - 28s 2ms/step - loss: 6216923648.0000 - mae: 8711.0693 - val_loss: 6439699456.0000 - val_mae: 7606.0981\n",
      "Epoch 94/500\n",
      "14767/14767 [==============================] - 28s 2ms/step - loss: 6019146752.0000 - mae: 8441.9316 - val_loss: 6616869888.0000 - val_mae: 8310.2275\n",
      "Epoch 95/500\n",
      "14767/14767 [==============================] - 28s 2ms/step - loss: 6056499712.0000 - mae: 8637.4268 - val_loss: 7504868352.0000 - val_mae: 16174.8818\n",
      "Epoch 96/500\n",
      "14767/14767 [==============================] - 28s 2ms/step - loss: 6200370688.0000 - mae: 8481.1523 - val_loss: 6712640512.0000 - val_mae: 6912.6865\n",
      "Epoch 97/500\n",
      "14767/14767 [==============================] - 28s 2ms/step - loss: 6060631040.0000 - mae: 8482.8271 - val_loss: 7158697472.0000 - val_mae: 10073.7178\n",
      "Epoch 98/500\n",
      "14767/14767 [==============================] - 28s 2ms/step - loss: 6113014784.0000 - mae: 8082.4907 - val_loss: 6330876416.0000 - val_mae: 11443.5859\n",
      "Epoch 99/500\n",
      "14767/14767 [==============================] - 28s 2ms/step - loss: 5985281024.0000 - mae: 8501.9502 - val_loss: 6673490432.0000 - val_mae: 6918.7339\n",
      "Epoch 100/500\n",
      "14767/14767 [==============================] - 28s 2ms/step - loss: 6085923328.0000 - mae: 8896.2607 - val_loss: 6450614272.0000 - val_mae: 6854.4922\n",
      "Epoch 101/500\n",
      "14767/14767 [==============================] - 28s 2ms/step - loss: 5919873024.0000 - mae: 8486.6855 - val_loss: 6584579072.0000 - val_mae: 6954.8315\n",
      "Epoch 102/500\n",
      "14767/14767 [==============================] - 28s 2ms/step - loss: 5959010304.0000 - mae: 8672.9365 - val_loss: 7069728768.0000 - val_mae: 15585.8213\n",
      "Epoch 103/500\n",
      "14767/14767 [==============================] - 28s 2ms/step - loss: 6070274048.0000 - mae: 8569.4414 - val_loss: 6369036288.0000 - val_mae: 7740.0806\n",
      "Epoch 104/500\n",
      "14767/14767 [==============================] - 28s 2ms/step - loss: 6114546688.0000 - mae: 8759.3291 - val_loss: 7216459776.0000 - val_mae: 9264.3379\n",
      "Epoch 105/500\n",
      "14767/14767 [==============================] - 28s 2ms/step - loss: 5987354112.0000 - mae: 8490.2334 - val_loss: 7222087680.0000 - val_mae: 8410.7686\n",
      "Epoch 106/500\n",
      "14767/14767 [==============================] - 28s 2ms/step - loss: 6004693504.0000 - mae: 8453.9375 - val_loss: 7093786112.0000 - val_mae: 7341.4629\n",
      "Epoch 107/500\n",
      "14767/14767 [==============================] - 28s 2ms/step - loss: 5972121600.0000 - mae: 8419.9736 - val_loss: 8354620416.0000 - val_mae: 13392.8809\n",
      "Epoch 108/500\n",
      "14767/14767 [==============================] - 28s 2ms/step - loss: 6052131328.0000 - mae: 8594.8506 - val_loss: 7836408832.0000 - val_mae: 6659.2998\n",
      "Epoch 109/500\n",
      "14767/14767 [==============================] - 28s 2ms/step - loss: 6047091200.0000 - mae: 8406.9023 - val_loss: 7890983936.0000 - val_mae: 6524.8540\n",
      "Epoch 110/500\n",
      "14767/14767 [==============================] - 28s 2ms/step - loss: 6045207552.0000 - mae: 8611.4756 - val_loss: 6639055872.0000 - val_mae: 6669.8721\n",
      "Epoch 111/500\n",
      "14767/14767 [==============================] - 28s 2ms/step - loss: 5948753408.0000 - mae: 8362.8506 - val_loss: 8015199232.0000 - val_mae: 6999.5557\n",
      "Epoch 112/500\n",
      "14767/14767 [==============================] - 28s 2ms/step - loss: 5881386496.0000 - mae: 8617.6943 - val_loss: 6591394304.0000 - val_mae: 11102.8955\n",
      "Epoch 113/500\n",
      "14767/14767 [==============================] - 28s 2ms/step - loss: 5984839168.0000 - mae: 8447.0127 - val_loss: 7787318784.0000 - val_mae: 10007.4463\n",
      "Epoch 114/500\n",
      "14767/14767 [==============================] - 28s 2ms/step - loss: 6089629184.0000 - mae: 8602.1113 - val_loss: 6236507136.0000 - val_mae: 8743.5127\n",
      "Epoch 115/500\n",
      "14767/14767 [==============================] - 28s 2ms/step - loss: 5797416960.0000 - mae: 8240.9854 - val_loss: 6548396544.0000 - val_mae: 6322.1045\n",
      "Epoch 116/500\n",
      "14767/14767 [==============================] - 28s 2ms/step - loss: 6048806912.0000 - mae: 8597.1436 - val_loss: 7098642944.0000 - val_mae: 6521.9614\n",
      "Epoch 117/500\n",
      "14767/14767 [==============================] - 28s 2ms/step - loss: 5910879232.0000 - mae: 8251.3887 - val_loss: 6644500992.0000 - val_mae: 8740.9609\n",
      "Epoch 118/500\n",
      "14767/14767 [==============================] - 28s 2ms/step - loss: 5912899072.0000 - mae: 8146.1890 - val_loss: 7851609600.0000 - val_mae: 7960.8765\n",
      "Epoch 119/500\n",
      "14767/14767 [==============================] - 28s 2ms/step - loss: 6053964800.0000 - mae: 8291.1357 - val_loss: 6354334208.0000 - val_mae: 7319.7803\n",
      "Epoch 120/500\n",
      "14767/14767 [==============================] - 28s 2ms/step - loss: 5839568896.0000 - mae: 8111.4404 - val_loss: 7459043328.0000 - val_mae: 7040.0576\n",
      "Epoch 121/500\n",
      "14767/14767 [==============================] - 28s 2ms/step - loss: 5853520384.0000 - mae: 8270.2578 - val_loss: 6959940608.0000 - val_mae: 7329.2930\n",
      "Epoch 122/500\n",
      "14767/14767 [==============================] - 28s 2ms/step - loss: 5860613632.0000 - mae: 8500.8701 - val_loss: 7804142080.0000 - val_mae: 9968.5498\n",
      "Epoch 123/500\n",
      "14767/14767 [==============================] - 28s 2ms/step - loss: 5949438976.0000 - mae: 8356.0029 - val_loss: 6770397696.0000 - val_mae: 10169.8398\n",
      "Epoch 124/500\n",
      "14767/14767 [==============================] - 28s 2ms/step - loss: 5928372736.0000 - mae: 8274.9893 - val_loss: 6610783232.0000 - val_mae: 10731.4404\n",
      "Epoch 125/500\n",
      "14767/14767 [==============================] - 28s 2ms/step - loss: 5971908096.0000 - mae: 8373.1270 - val_loss: 6231482368.0000 - val_mae: 8516.4492\n",
      "Epoch 126/500\n",
      "14767/14767 [==============================] - 28s 2ms/step - loss: 5941650944.0000 - mae: 8269.8096 - val_loss: 6342409728.0000 - val_mae: 7048.2129\n",
      "Epoch 127/500\n",
      "14767/14767 [==============================] - 28s 2ms/step - loss: 5936656384.0000 - mae: 8463.9092 - val_loss: 7199541760.0000 - val_mae: 7217.6172\n",
      "Epoch 128/500\n",
      "14767/14767 [==============================] - 28s 2ms/step - loss: 5741876224.0000 - mae: 8506.2305 - val_loss: 6365634560.0000 - val_mae: 8684.5576\n",
      "Epoch 129/500\n",
      "14767/14767 [==============================] - 28s 2ms/step - loss: 5992501248.0000 - mae: 8185.7666 - val_loss: 7029645824.0000 - val_mae: 7215.4907\n",
      "Epoch 130/500\n",
      "14767/14767 [==============================] - 28s 2ms/step - loss: 5865909760.0000 - mae: 8664.7510 - val_loss: 8385555456.0000 - val_mae: 14607.5859\n",
      "Epoch 131/500\n",
      "14767/14767 [==============================] - 28s 2ms/step - loss: 5595337216.0000 - mae: 8058.6660 - val_loss: 7562199552.0000 - val_mae: 8413.8643\n",
      "Epoch 132/500\n",
      "14767/14767 [==============================] - 28s 2ms/step - loss: 5920429568.0000 - mae: 8090.4814 - val_loss: 6764234240.0000 - val_mae: 6651.0371\n",
      "Epoch 133/500\n",
      "14767/14767 [==============================] - 28s 2ms/step - loss: 5844560896.0000 - mae: 8021.7275 - val_loss: 6935961600.0000 - val_mae: 6403.8521\n",
      "Epoch 134/500\n",
      "14767/14767 [==============================] - 28s 2ms/step - loss: 5786555392.0000 - mae: 8066.2578 - val_loss: 7585512448.0000 - val_mae: 6251.0063\n",
      "Epoch 135/500\n",
      "14767/14767 [==============================] - 28s 2ms/step - loss: 5901934080.0000 - mae: 8381.9229 - val_loss: 6677563392.0000 - val_mae: 12829.5859\n",
      "Epoch 136/500\n",
      "14767/14767 [==============================] - 28s 2ms/step - loss: 5688310272.0000 - mae: 8097.6587 - val_loss: 6009976832.0000 - val_mae: 8571.8740\n",
      "Epoch 137/500\n",
      "14767/14767 [==============================] - 28s 2ms/step - loss: 5584115712.0000 - mae: 8105.7754 - val_loss: 9482711040.0000 - val_mae: 22807.9824\n",
      "Epoch 138/500\n",
      "14767/14767 [==============================] - 28s 2ms/step - loss: 5808899072.0000 - mae: 8239.6426 - val_loss: 11174994944.0000 - val_mae: 13455.9277\n",
      "Epoch 139/500\n",
      "14767/14767 [==============================] - 28s 2ms/step - loss: 5820230144.0000 - mae: 8555.0850 - val_loss: 6022943232.0000 - val_mae: 7428.8110\n",
      "Epoch 140/500\n",
      "14767/14767 [==============================] - 28s 2ms/step - loss: 5759910400.0000 - mae: 8388.9854 - val_loss: 7458616320.0000 - val_mae: 6721.0566\n",
      "Epoch 141/500\n",
      "14767/14767 [==============================] - 31s 2ms/step - loss: 5778988544.0000 - mae: 8307.9043 - val_loss: 6741018112.0000 - val_mae: 6740.8076\n",
      "Epoch 142/500\n",
      "14767/14767 [==============================] - 30s 2ms/step - loss: 5776508928.0000 - mae: 8120.4561 - val_loss: 6793166336.0000 - val_mae: 16704.1582\n",
      "Epoch 143/500\n",
      "14767/14767 [==============================] - 30s 2ms/step - loss: 5776160256.0000 - mae: 8368.0166 - val_loss: 6481991680.0000 - val_mae: 7614.9194\n",
      "Epoch 144/500\n",
      "14767/14767 [==============================] - 30s 2ms/step - loss: 5818268672.0000 - mae: 8003.2002 - val_loss: 7072370176.0000 - val_mae: 9042.6250\n",
      "Epoch 145/500\n",
      "14767/14767 [==============================] - 30s 2ms/step - loss: 5868489728.0000 - mae: 8571.7109 - val_loss: 7051895808.0000 - val_mae: 6004.0562\n",
      "Epoch 146/500\n",
      "14767/14767 [==============================] - 31s 2ms/step - loss: 5846759424.0000 - mae: 8120.6328 - val_loss: 6465468416.0000 - val_mae: 6767.4199\n",
      "Epoch 147/500\n",
      "14767/14767 [==============================] - 29s 2ms/step - loss: 5577899008.0000 - mae: 8100.8154 - val_loss: 8179190272.0000 - val_mae: 8763.8770\n",
      "Epoch 148/500\n",
      "14767/14767 [==============================] - 28s 2ms/step - loss: 5749669376.0000 - mae: 8218.1816 - val_loss: 6231852544.0000 - val_mae: 6322.7900\n",
      "Epoch 149/500\n",
      "14767/14767 [==============================] - 28s 2ms/step - loss: 5734372864.0000 - mae: 8473.6836 - val_loss: 6058814976.0000 - val_mae: 7089.7129\n",
      "Epoch 150/500\n",
      "14767/14767 [==============================] - 28s 2ms/step - loss: 5604019712.0000 - mae: 8485.9316 - val_loss: 6924978688.0000 - val_mae: 7114.2363\n",
      "Epoch 151/500\n",
      "14767/14767 [==============================] - 28s 2ms/step - loss: 5874259456.0000 - mae: 8414.1455 - val_loss: 6258492928.0000 - val_mae: 9439.8779\n",
      "Epoch 152/500\n",
      "14767/14767 [==============================] - 28s 2ms/step - loss: 5702594560.0000 - mae: 8219.6445 - val_loss: 6182825984.0000 - val_mae: 6762.7480\n",
      "Epoch 153/500\n",
      "14767/14767 [==============================] - 28s 2ms/step - loss: 5761941504.0000 - mae: 8202.0146 - val_loss: 6553431552.0000 - val_mae: 6886.3774\n",
      "Epoch 154/500\n",
      "14767/14767 [==============================] - 28s 2ms/step - loss: 5854834688.0000 - mae: 8138.9849 - val_loss: 5909673472.0000 - val_mae: 6449.0708\n",
      "Epoch 155/500\n",
      "14767/14767 [==============================] - 28s 2ms/step - loss: 5665856512.0000 - mae: 8268.5244 - val_loss: 5897350656.0000 - val_mae: 6543.7798\n",
      "Epoch 156/500\n",
      "14767/14767 [==============================] - 28s 2ms/step - loss: 5749938688.0000 - mae: 7887.0615 - val_loss: 7172173312.0000 - val_mae: 6784.2529\n",
      "Epoch 157/500\n",
      "14767/14767 [==============================] - 28s 2ms/step - loss: 5758582784.0000 - mae: 8149.5322 - val_loss: 5992929792.0000 - val_mae: 7919.5879\n",
      "Epoch 158/500\n",
      "14767/14767 [==============================] - 28s 2ms/step - loss: 5742546944.0000 - mae: 8030.3750 - val_loss: 6027634688.0000 - val_mae: 6950.8979\n",
      "Epoch 159/500\n",
      "14767/14767 [==============================] - 28s 2ms/step - loss: 5542236160.0000 - mae: 8197.4795 - val_loss: 6555860992.0000 - val_mae: 8792.1699\n",
      "Epoch 160/500\n",
      "14767/14767 [==============================] - 28s 2ms/step - loss: 5549234688.0000 - mae: 8303.0518 - val_loss: 6516176384.0000 - val_mae: 13460.7012\n",
      "Epoch 161/500\n",
      "14767/14767 [==============================] - 28s 2ms/step - loss: 5715666944.0000 - mae: 7969.4087 - val_loss: 6190508032.0000 - val_mae: 6193.7993\n",
      "Epoch 162/500\n",
      "14767/14767 [==============================] - 28s 2ms/step - loss: 5790436352.0000 - mae: 8201.7568 - val_loss: 6797496832.0000 - val_mae: 8630.1699\n",
      "Epoch 163/500\n",
      "14767/14767 [==============================] - 28s 2ms/step - loss: 5700270080.0000 - mae: 7891.1807 - val_loss: 5931276288.0000 - val_mae: 7180.7534\n",
      "Epoch 164/500\n",
      "14767/14767 [==============================] - 28s 2ms/step - loss: 5635767808.0000 - mae: 7968.8589 - val_loss: 5707863552.0000 - val_mae: 7412.3843\n",
      "Epoch 165/500\n",
      "14767/14767 [==============================] - 28s 2ms/step - loss: 5622833664.0000 - mae: 8225.4922 - val_loss: 5958643712.0000 - val_mae: 7284.2993\n",
      "Epoch 166/500\n",
      "14767/14767 [==============================] - 28s 2ms/step - loss: 5724560896.0000 - mae: 8166.2275 - val_loss: 7358493696.0000 - val_mae: 9653.0215\n",
      "Epoch 167/500\n",
      "14767/14767 [==============================] - 28s 2ms/step - loss: 5737922048.0000 - mae: 8158.7007 - val_loss: 7906495488.0000 - val_mae: 8350.5879\n",
      "Epoch 168/500\n",
      "14767/14767 [==============================] - 28s 2ms/step - loss: 5638679552.0000 - mae: 8037.4878 - val_loss: 6981449216.0000 - val_mae: 5914.8467\n",
      "Epoch 169/500\n",
      "14767/14767 [==============================] - 29s 2ms/step - loss: 5760965632.0000 - mae: 8149.1240 - val_loss: 6272353792.0000 - val_mae: 6970.8076\n",
      "Epoch 170/500\n",
      "14767/14767 [==============================] - 28s 2ms/step - loss: 5607224832.0000 - mae: 8023.1606 - val_loss: 6854443008.0000 - val_mae: 6561.2856\n",
      "Epoch 171/500\n",
      "14767/14767 [==============================] - 28s 2ms/step - loss: 5633933824.0000 - mae: 8034.0020 - val_loss: 6227916288.0000 - val_mae: 9281.0127\n",
      "Epoch 172/500\n",
      "14767/14767 [==============================] - 28s 2ms/step - loss: 5745047040.0000 - mae: 8224.0889 - val_loss: 6524435456.0000 - val_mae: 7111.8145\n",
      "Epoch 173/500\n",
      "14767/14767 [==============================] - 28s 2ms/step - loss: 5613271552.0000 - mae: 8200.1035 - val_loss: 6078238208.0000 - val_mae: 7731.2979\n",
      "Epoch 174/500\n",
      "14767/14767 [==============================] - 28s 2ms/step - loss: 5549687808.0000 - mae: 7899.6138 - val_loss: 6466290688.0000 - val_mae: 6991.6040\n",
      "Epoch 175/500\n",
      "14767/14767 [==============================] - 28s 2ms/step - loss: 5849691648.0000 - mae: 8401.9287 - val_loss: 10865631232.0000 - val_mae: 15337.8057\n",
      "Epoch 176/500\n",
      "14767/14767 [==============================] - 28s 2ms/step - loss: 5809792512.0000 - mae: 8236.8906 - val_loss: 6028255744.0000 - val_mae: 10083.4941\n",
      "Epoch 177/500\n",
      "14767/14767 [==============================] - 28s 2ms/step - loss: 5630871552.0000 - mae: 7857.6802 - val_loss: 5904932352.0000 - val_mae: 8205.7100\n",
      "Epoch 178/500\n",
      "14767/14767 [==============================] - 28s 2ms/step - loss: 5606683136.0000 - mae: 7954.3335 - val_loss: 6109730304.0000 - val_mae: 8932.8623\n",
      "Epoch 179/500\n",
      "14767/14767 [==============================] - 28s 2ms/step - loss: 5620284928.0000 - mae: 7538.5488 - val_loss: 6171693568.0000 - val_mae: 6036.1240\n",
      "Epoch 180/500\n",
      "14767/14767 [==============================] - 28s 2ms/step - loss: 5600715776.0000 - mae: 7678.1807 - val_loss: 6423757824.0000 - val_mae: 8141.2158\n",
      "Epoch 181/500\n",
      "14767/14767 [==============================] - 28s 2ms/step - loss: 5435931648.0000 - mae: 7821.1626 - val_loss: 5770298368.0000 - val_mae: 9679.0381\n",
      "Epoch 182/500\n",
      "14767/14767 [==============================] - 28s 2ms/step - loss: 5653631488.0000 - mae: 7889.5034 - val_loss: 6774975488.0000 - val_mae: 6160.7788\n",
      "Epoch 183/500\n",
      "14767/14767 [==============================] - 28s 2ms/step - loss: 5603020800.0000 - mae: 7529.5054 - val_loss: 5749336576.0000 - val_mae: 8005.9829\n",
      "Epoch 184/500\n",
      "14767/14767 [==============================] - 28s 2ms/step - loss: 5609226240.0000 - mae: 7667.0488 - val_loss: 5768266240.0000 - val_mae: 7606.1816\n",
      "Epoch 185/500\n",
      "14767/14767 [==============================] - 28s 2ms/step - loss: 5440113664.0000 - mae: 7583.2065 - val_loss: 6301457920.0000 - val_mae: 5639.3223\n",
      "Epoch 186/500\n",
      "14767/14767 [==============================] - 29s 2ms/step - loss: 5646083584.0000 - mae: 7658.9536 - val_loss: 6484951040.0000 - val_mae: 5994.0156\n",
      "Epoch 187/500\n",
      "14767/14767 [==============================] - 31s 2ms/step - loss: 5566368256.0000 - mae: 7513.2402 - val_loss: 6413017600.0000 - val_mae: 6118.1553\n",
      "Epoch 188/500\n",
      "14767/14767 [==============================] - 30s 2ms/step - loss: 5446293504.0000 - mae: 7440.6519 - val_loss: 5965047808.0000 - val_mae: 9835.4199\n",
      "Epoch 189/500\n",
      "14767/14767 [==============================] - 30s 2ms/step - loss: 5675784192.0000 - mae: 7806.6709 - val_loss: 6291768832.0000 - val_mae: 7300.7734\n",
      "Epoch 190/500\n",
      "14767/14767 [==============================] - 30s 2ms/step - loss: 5380933632.0000 - mae: 8003.0361 - val_loss: 6943543296.0000 - val_mae: 7283.1060\n",
      "Epoch 191/500\n",
      "14767/14767 [==============================] - 30s 2ms/step - loss: 5388381696.0000 - mae: 8041.3511 - val_loss: 6896950784.0000 - val_mae: 6456.5479\n",
      "Epoch 192/500\n",
      "14767/14767 [==============================] - 30s 2ms/step - loss: 5646856704.0000 - mae: 7867.6123 - val_loss: 6153224192.0000 - val_mae: 6178.9390\n",
      "Epoch 193/500\n",
      "14767/14767 [==============================] - 30s 2ms/step - loss: 5636698112.0000 - mae: 7904.5234 - val_loss: 5655872000.0000 - val_mae: 7589.6416\n",
      "Epoch 194/500\n",
      "14767/14767 [==============================] - 29s 2ms/step - loss: 5532241408.0000 - mae: 7560.4658 - val_loss: 5918280192.0000 - val_mae: 6672.0449\n",
      "Epoch 195/500\n",
      "14767/14767 [==============================] - 28s 2ms/step - loss: 5509666304.0000 - mae: 7741.7437 - val_loss: 8008425984.0000 - val_mae: 30563.2578\n",
      "Epoch 196/500\n",
      "14767/14767 [==============================] - 28s 2ms/step - loss: 5594614272.0000 - mae: 7825.5859 - val_loss: 5963181056.0000 - val_mae: 9999.9961\n",
      "Epoch 197/500\n",
      "14767/14767 [==============================] - 28s 2ms/step - loss: 5564234240.0000 - mae: 7789.9053 - val_loss: 5553698816.0000 - val_mae: 7923.6250\n",
      "Epoch 198/500\n",
      "14767/14767 [==============================] - 28s 2ms/step - loss: 5576667648.0000 - mae: 7330.4663 - val_loss: 6271975936.0000 - val_mae: 7531.2949\n",
      "Epoch 199/500\n",
      "14767/14767 [==============================] - 28s 2ms/step - loss: 5388391424.0000 - mae: 7810.8906 - val_loss: 7872355328.0000 - val_mae: 7992.7490\n",
      "Epoch 200/500\n",
      "14767/14767 [==============================] - 28s 2ms/step - loss: 5534851584.0000 - mae: 7525.3193 - val_loss: 5534575104.0000 - val_mae: 8878.0068\n",
      "Epoch 201/500\n",
      "14767/14767 [==============================] - 28s 2ms/step - loss: 5531665920.0000 - mae: 7604.3745 - val_loss: 6068232192.0000 - val_mae: 6486.8530\n",
      "Epoch 202/500\n",
      "14767/14767 [==============================] - 29s 2ms/step - loss: 5595997696.0000 - mae: 7554.2402 - val_loss: 8653188096.0000 - val_mae: 9483.1455\n",
      "Epoch 203/500\n",
      "14767/14767 [==============================] - 28s 2ms/step - loss: 5362786816.0000 - mae: 7609.6743 - val_loss: 6411044864.0000 - val_mae: 9470.3887\n",
      "Epoch 204/500\n",
      "14767/14767 [==============================] - 28s 2ms/step - loss: 5384356864.0000 - mae: 7481.2861 - val_loss: 6890232320.0000 - val_mae: 6289.4858\n",
      "Epoch 205/500\n",
      "14767/14767 [==============================] - 28s 2ms/step - loss: 5370572800.0000 - mae: 7339.5801 - val_loss: 5769607680.0000 - val_mae: 7557.4707\n",
      "Epoch 206/500\n",
      "14767/14767 [==============================] - 28s 2ms/step - loss: 5512872448.0000 - mae: 7308.7368 - val_loss: 5700150784.0000 - val_mae: 7020.7588\n",
      "Epoch 207/500\n",
      "14767/14767 [==============================] - 29s 2ms/step - loss: 5522269696.0000 - mae: 7938.4419 - val_loss: 5911431680.0000 - val_mae: 8733.9131\n",
      "Epoch 208/500\n",
      "14767/14767 [==============================] - 28s 2ms/step - loss: 5662482432.0000 - mae: 8046.7671 - val_loss: 5673068544.0000 - val_mae: 6214.3296\n",
      "Epoch 209/500\n",
      "14767/14767 [==============================] - 29s 2ms/step - loss: 5553306112.0000 - mae: 7529.7378 - val_loss: 6471076864.0000 - val_mae: 6871.4434\n",
      "Epoch 210/500\n",
      "14767/14767 [==============================] - 28s 2ms/step - loss: 5534532608.0000 - mae: 8075.5249 - val_loss: 7153985536.0000 - val_mae: 6245.5229\n",
      "Epoch 211/500\n",
      "14767/14767 [==============================] - 28s 2ms/step - loss: 5512736256.0000 - mae: 7571.5474 - val_loss: 6062489600.0000 - val_mae: 7426.0342\n",
      "Epoch 212/500\n",
      "14767/14767 [==============================] - 28s 2ms/step - loss: 5524986880.0000 - mae: 7516.5161 - val_loss: 5727936000.0000 - val_mae: 8413.5225\n",
      "Epoch 213/500\n",
      "14767/14767 [==============================] - 28s 2ms/step - loss: 5565416448.0000 - mae: 7522.9253 - val_loss: 5559139840.0000 - val_mae: 6721.6255\n",
      "Epoch 214/500\n",
      "14767/14767 [==============================] - 28s 2ms/step - loss: 5504784384.0000 - mae: 7538.6416 - val_loss: 6644232192.0000 - val_mae: 6012.2715\n",
      "Epoch 215/500\n",
      "14767/14767 [==============================] - 28s 2ms/step - loss: 5546999296.0000 - mae: 7486.9707 - val_loss: 5466461696.0000 - val_mae: 6502.8032\n",
      "Epoch 216/500\n",
      "14767/14767 [==============================] - 28s 2ms/step - loss: 5474618880.0000 - mae: 7260.7988 - val_loss: 7434379776.0000 - val_mae: 6069.2520\n",
      "Epoch 217/500\n",
      "14767/14767 [==============================] - 28s 2ms/step - loss: 5548353024.0000 - mae: 7231.7227 - val_loss: 7424861696.0000 - val_mae: 8627.9990\n",
      "Epoch 218/500\n",
      "14767/14767 [==============================] - 28s 2ms/step - loss: 5493819904.0000 - mae: 7401.7578 - val_loss: 5867641344.0000 - val_mae: 6712.4268\n",
      "Epoch 219/500\n",
      "14767/14767 [==============================] - 28s 2ms/step - loss: 5329879552.0000 - mae: 7205.9404 - val_loss: 7817804800.0000 - val_mae: 8659.4346\n",
      "Epoch 220/500\n",
      "14767/14767 [==============================] - 28s 2ms/step - loss: 5426138112.0000 - mae: 7109.2896 - val_loss: 5990027776.0000 - val_mae: 9429.5488\n",
      "Epoch 221/500\n",
      "14767/14767 [==============================] - 28s 2ms/step - loss: 5458394624.0000 - mae: 7268.5879 - val_loss: 6226229248.0000 - val_mae: 6587.7300\n",
      "Epoch 222/500\n",
      "14767/14767 [==============================] - 28s 2ms/step - loss: 5502945792.0000 - mae: 7259.9897 - val_loss: 6238639104.0000 - val_mae: 9072.4883\n",
      "Epoch 223/500\n",
      "14767/14767 [==============================] - 28s 2ms/step - loss: 5467936256.0000 - mae: 7366.4946 - val_loss: 5965990400.0000 - val_mae: 8058.9941\n",
      "Epoch 224/500\n",
      "14767/14767 [==============================] - 28s 2ms/step - loss: 5390596608.0000 - mae: 7138.5640 - val_loss: 6109891584.0000 - val_mae: 6482.4517\n",
      "Epoch 225/500\n",
      "14767/14767 [==============================] - 28s 2ms/step - loss: 5532385792.0000 - mae: 7300.7837 - val_loss: 5745909760.0000 - val_mae: 10218.8105\n",
      "Epoch 226/500\n",
      "14767/14767 [==============================] - 28s 2ms/step - loss: 5516199936.0000 - mae: 7400.7861 - val_loss: 5705951232.0000 - val_mae: 7898.7241\n",
      "Epoch 227/500\n",
      "14767/14767 [==============================] - 28s 2ms/step - loss: 5402870784.0000 - mae: 7284.1250 - val_loss: 5742480384.0000 - val_mae: 7926.7729\n",
      "Epoch 228/500\n",
      "14767/14767 [==============================] - 28s 2ms/step - loss: 5350688768.0000 - mae: 6879.2891 - val_loss: 5246599680.0000 - val_mae: 6953.0923\n",
      "Epoch 229/500\n",
      "14767/14767 [==============================] - 28s 2ms/step - loss: 5391680000.0000 - mae: 7165.4497 - val_loss: 5575702016.0000 - val_mae: 6864.6177\n",
      "Epoch 230/500\n",
      "14767/14767 [==============================] - 28s 2ms/step - loss: 5375282688.0000 - mae: 7135.3530 - val_loss: 6667123712.0000 - val_mae: 5916.0547\n",
      "Epoch 231/500\n",
      "14767/14767 [==============================] - 28s 2ms/step - loss: 5403680768.0000 - mae: 7236.6743 - val_loss: 6482497536.0000 - val_mae: 8021.4224\n",
      "Epoch 232/500\n",
      "14767/14767 [==============================] - 28s 2ms/step - loss: 5462494208.0000 - mae: 7610.9873 - val_loss: 5911455744.0000 - val_mae: 7876.5469\n",
      "Epoch 233/500\n",
      "14767/14767 [==============================] - 28s 2ms/step - loss: 5103431680.0000 - mae: 7459.1523 - val_loss: 5405519360.0000 - val_mae: 9566.0273\n",
      "Epoch 234/500\n",
      "14767/14767 [==============================] - 28s 2ms/step - loss: 5327241728.0000 - mae: 7365.8047 - val_loss: 5635741184.0000 - val_mae: 9279.9111\n",
      "Epoch 235/500\n",
      "14767/14767 [==============================] - 28s 2ms/step - loss: 5406625792.0000 - mae: 7780.6328 - val_loss: 5717992960.0000 - val_mae: 7126.7295\n",
      "Epoch 236/500\n",
      "14767/14767 [==============================] - 28s 2ms/step - loss: 5449134592.0000 - mae: 7550.0405 - val_loss: 5848968704.0000 - val_mae: 5658.5781\n",
      "Epoch 237/500\n",
      "14767/14767 [==============================] - 28s 2ms/step - loss: 5415209472.0000 - mae: 7308.8433 - val_loss: 6553588224.0000 - val_mae: 5756.9595\n",
      "Epoch 238/500\n",
      "14767/14767 [==============================] - 28s 2ms/step - loss: 5306773504.0000 - mae: 7096.1660 - val_loss: 6497452032.0000 - val_mae: 6034.4575\n",
      "Epoch 239/500\n",
      "14767/14767 [==============================] - 28s 2ms/step - loss: 5516427776.0000 - mae: 7179.6978 - val_loss: 10209721344.0000 - val_mae: 17283.6270\n",
      "Epoch 240/500\n",
      "14767/14767 [==============================] - 28s 2ms/step - loss: 5311840256.0000 - mae: 7113.8926 - val_loss: 6470063104.0000 - val_mae: 9353.7021\n",
      "Epoch 241/500\n",
      "14767/14767 [==============================] - 28s 2ms/step - loss: 5380430336.0000 - mae: 7042.1567 - val_loss: 5912099840.0000 - val_mae: 8252.6582\n",
      "Epoch 242/500\n",
      "14767/14767 [==============================] - 28s 2ms/step - loss: 5384532480.0000 - mae: 7052.7231 - val_loss: 6664781312.0000 - val_mae: 6081.1455\n",
      "Epoch 243/500\n",
      "14767/14767 [==============================] - 28s 2ms/step - loss: 5391467520.0000 - mae: 6906.2461 - val_loss: 5824109056.0000 - val_mae: 7119.5488\n",
      "Epoch 244/500\n",
      "14767/14767 [==============================] - 28s 2ms/step - loss: 5425403904.0000 - mae: 7309.9644 - val_loss: 5848847872.0000 - val_mae: 10101.3115\n",
      "Epoch 245/500\n",
      "14767/14767 [==============================] - 28s 2ms/step - loss: 5344187392.0000 - mae: 7129.2178 - val_loss: 6654267392.0000 - val_mae: 6322.1987\n",
      "Epoch 246/500\n",
      "14767/14767 [==============================] - 28s 2ms/step - loss: 5325919232.0000 - mae: 6942.9248 - val_loss: 6340300288.0000 - val_mae: 7063.7275\n",
      "Epoch 247/500\n",
      "14767/14767 [==============================] - 28s 2ms/step - loss: 5177739776.0000 - mae: 7107.2744 - val_loss: 6084205056.0000 - val_mae: 8359.9365\n",
      "Epoch 248/500\n",
      "14767/14767 [==============================] - 28s 2ms/step - loss: 5304403456.0000 - mae: 6962.0991 - val_loss: 5800643584.0000 - val_mae: 6925.6362\n",
      "Epoch 249/500\n",
      "14767/14767 [==============================] - 28s 2ms/step - loss: 5224591360.0000 - mae: 6958.1357 - val_loss: 7889772032.0000 - val_mae: 6568.1978\n",
      "Epoch 250/500\n",
      "14767/14767 [==============================] - 28s 2ms/step - loss: 5360679424.0000 - mae: 7032.2446 - val_loss: 6389489664.0000 - val_mae: 7075.8330\n",
      "Epoch 251/500\n",
      "14767/14767 [==============================] - 28s 2ms/step - loss: 5514180608.0000 - mae: 7121.7661 - val_loss: 6370185728.0000 - val_mae: 5846.8237\n",
      "Epoch 252/500\n",
      "14767/14767 [==============================] - 28s 2ms/step - loss: 5411580416.0000 - mae: 7349.8643 - val_loss: 5765965312.0000 - val_mae: 6123.8652\n",
      "Epoch 253/500\n",
      "14767/14767 [==============================] - 28s 2ms/step - loss: 5448748544.0000 - mae: 7242.9541 - val_loss: 6016432640.0000 - val_mae: 6429.3101\n",
      "Epoch 254/500\n",
      "14767/14767 [==============================] - 28s 2ms/step - loss: 5262976512.0000 - mae: 6909.1709 - val_loss: 5834298368.0000 - val_mae: 6887.5483\n",
      "Epoch 255/500\n",
      "14767/14767 [==============================] - 28s 2ms/step - loss: 5393442816.0000 - mae: 7163.6895 - val_loss: 6640684544.0000 - val_mae: 5711.0698\n",
      "Epoch 256/500\n",
      "14767/14767 [==============================] - 28s 2ms/step - loss: 5378856448.0000 - mae: 7140.9243 - val_loss: 5668249088.0000 - val_mae: 5662.2666\n",
      "Epoch 257/500\n",
      "14767/14767 [==============================] - 28s 2ms/step - loss: 5385403392.0000 - mae: 7492.4248 - val_loss: 5648284160.0000 - val_mae: 6098.3115\n",
      "Epoch 258/500\n",
      "14767/14767 [==============================] - 28s 2ms/step - loss: 5265446400.0000 - mae: 6919.8018 - val_loss: 5835457536.0000 - val_mae: 6335.4062\n",
      "Epoch 259/500\n",
      "14767/14767 [==============================] - 28s 2ms/step - loss: 5286862336.0000 - mae: 7237.3604 - val_loss: 6687810560.0000 - val_mae: 6086.6479\n",
      "Epoch 260/500\n",
      "14767/14767 [==============================] - 28s 2ms/step - loss: 5277387264.0000 - mae: 7063.6699 - val_loss: 5874170368.0000 - val_mae: 6857.8833\n",
      "Epoch 261/500\n",
      "14767/14767 [==============================] - 28s 2ms/step - loss: 5287777792.0000 - mae: 6966.2202 - val_loss: 14671085568.0000 - val_mae: 14771.3340\n",
      "Epoch 262/500\n",
      "14767/14767 [==============================] - 28s 2ms/step - loss: 5188648448.0000 - mae: 6708.3027 - val_loss: 6468960256.0000 - val_mae: 5484.2915\n",
      "Epoch 263/500\n",
      "14767/14767 [==============================] - 28s 2ms/step - loss: 5232692736.0000 - mae: 6917.9199 - val_loss: 7187425280.0000 - val_mae: 5417.6943\n",
      "Epoch 264/500\n",
      "14767/14767 [==============================] - 28s 2ms/step - loss: 5314611712.0000 - mae: 6794.9043 - val_loss: 4970926592.0000 - val_mae: 5815.6777\n",
      "Epoch 265/500\n",
      "14767/14767 [==============================] - 28s 2ms/step - loss: 5257278976.0000 - mae: 6830.6772 - val_loss: 5557113856.0000 - val_mae: 6519.3252\n",
      "Epoch 266/500\n",
      "14767/14767 [==============================] - 28s 2ms/step - loss: 5135861248.0000 - mae: 6935.9614 - val_loss: 8041845760.0000 - val_mae: 12699.6123\n",
      "Epoch 267/500\n",
      "14767/14767 [==============================] - 28s 2ms/step - loss: 5283751424.0000 - mae: 6942.8311 - val_loss: 6119973376.0000 - val_mae: 7159.9956\n",
      "Epoch 268/500\n",
      "14767/14767 [==============================] - 28s 2ms/step - loss: 5079907328.0000 - mae: 6979.9692 - val_loss: 9261599744.0000 - val_mae: 10300.0342\n",
      "Epoch 269/500\n",
      "14767/14767 [==============================] - 28s 2ms/step - loss: 5273044992.0000 - mae: 7480.3848 - val_loss: 5615737856.0000 - val_mae: 6560.4907\n",
      "Epoch 270/500\n",
      "14767/14767 [==============================] - 28s 2ms/step - loss: 5101752832.0000 - mae: 7392.0332 - val_loss: 8975607808.0000 - val_mae: 12546.8564\n",
      "Epoch 271/500\n",
      "14767/14767 [==============================] - 28s 2ms/step - loss: 5225241600.0000 - mae: 7096.3008 - val_loss: 5120185856.0000 - val_mae: 7484.6279\n",
      "Epoch 272/500\n",
      "14767/14767 [==============================] - 28s 2ms/step - loss: 5222157824.0000 - mae: 7200.6343 - val_loss: 5479489024.0000 - val_mae: 7696.7549\n",
      "Epoch 273/500\n",
      "14767/14767 [==============================] - 28s 2ms/step - loss: 5242420736.0000 - mae: 6766.5806 - val_loss: 6521994240.0000 - val_mae: 7432.3989\n",
      "Epoch 274/500\n",
      "14767/14767 [==============================] - 28s 2ms/step - loss: 5152538112.0000 - mae: 6834.7891 - val_loss: 5658349056.0000 - val_mae: 7444.6504\n",
      "Epoch 275/500\n",
      "14767/14767 [==============================] - 28s 2ms/step - loss: 5334601216.0000 - mae: 7167.1709 - val_loss: 6764866560.0000 - val_mae: 6712.3838\n",
      "Epoch 276/500\n",
      "14767/14767 [==============================] - 28s 2ms/step - loss: 5272154112.0000 - mae: 6961.6372 - val_loss: 5161984000.0000 - val_mae: 7215.9932\n",
      "Epoch 277/500\n",
      "14767/14767 [==============================] - 28s 2ms/step - loss: 5313827328.0000 - mae: 6937.2725 - val_loss: 6087314432.0000 - val_mae: 5573.0083\n",
      "Epoch 278/500\n",
      "14767/14767 [==============================] - 28s 2ms/step - loss: 5322898944.0000 - mae: 6947.3887 - val_loss: 5168468480.0000 - val_mae: 9349.9014\n",
      "Epoch 279/500\n",
      "14767/14767 [==============================] - 28s 2ms/step - loss: 5169909760.0000 - mae: 6811.6123 - val_loss: 5120052736.0000 - val_mae: 9022.4570\n",
      "Epoch 280/500\n",
      "14767/14767 [==============================] - 28s 2ms/step - loss: 5098199040.0000 - mae: 7068.8018 - val_loss: 7242167808.0000 - val_mae: 5913.9277\n",
      "Epoch 281/500\n",
      "14767/14767 [==============================] - 28s 2ms/step - loss: 5184409088.0000 - mae: 6822.2329 - val_loss: 4979770368.0000 - val_mae: 5739.8228\n",
      "Epoch 282/500\n",
      "14767/14767 [==============================] - 28s 2ms/step - loss: 5103430656.0000 - mae: 6734.0107 - val_loss: 6473832960.0000 - val_mae: 6218.3818\n",
      "Epoch 283/500\n",
      "14767/14767 [==============================] - 28s 2ms/step - loss: 5298716160.0000 - mae: 6822.9214 - val_loss: 5991642112.0000 - val_mae: 7553.6274\n",
      "Epoch 284/500\n",
      "14767/14767 [==============================] - 28s 2ms/step - loss: 5199895040.0000 - mae: 6810.8984 - val_loss: 11998568448.0000 - val_mae: 10587.3418\n",
      "Epoch 285/500\n",
      "14767/14767 [==============================] - 28s 2ms/step - loss: 5319609856.0000 - mae: 6813.5054 - val_loss: 5724236800.0000 - val_mae: 6368.5508\n",
      "Epoch 286/500\n",
      "14767/14767 [==============================] - 28s 2ms/step - loss: 5255097344.0000 - mae: 6838.9224 - val_loss: 5721131008.0000 - val_mae: 5897.7617\n",
      "Epoch 287/500\n",
      "14767/14767 [==============================] - 28s 2ms/step - loss: 5298107904.0000 - mae: 6764.3882 - val_loss: 5628393472.0000 - val_mae: 7931.1553\n",
      "Epoch 288/500\n",
      "14767/14767 [==============================] - 28s 2ms/step - loss: 5109788160.0000 - mae: 6664.8828 - val_loss: 5589735424.0000 - val_mae: 8034.7300\n",
      "Epoch 289/500\n",
      "14767/14767 [==============================] - 28s 2ms/step - loss: 5095712256.0000 - mae: 6767.3911 - val_loss: 6088889856.0000 - val_mae: 10315.6289\n",
      "Epoch 290/500\n",
      "14767/14767 [==============================] - 28s 2ms/step - loss: 5199411200.0000 - mae: 6706.8052 - val_loss: 5430938112.0000 - val_mae: 7296.5034\n",
      "Epoch 291/500\n",
      "14767/14767 [==============================] - 28s 2ms/step - loss: 5053326848.0000 - mae: 6698.5742 - val_loss: 6288107520.0000 - val_mae: 6083.5469\n",
      "Epoch 292/500\n",
      "14767/14767 [==============================] - 28s 2ms/step - loss: 5170105344.0000 - mae: 6741.8516 - val_loss: 5239161856.0000 - val_mae: 6771.3335\n",
      "Epoch 293/500\n",
      "14767/14767 [==============================] - 28s 2ms/step - loss: 5184415232.0000 - mae: 6753.1836 - val_loss: 5826299392.0000 - val_mae: 5624.4131\n",
      "Epoch 294/500\n",
      "14767/14767 [==============================] - 28s 2ms/step - loss: 5199192576.0000 - mae: 6671.0293 - val_loss: 6804483584.0000 - val_mae: 8159.1616\n",
      "Epoch 295/500\n",
      "14767/14767 [==============================] - 28s 2ms/step - loss: 5126639104.0000 - mae: 6740.6538 - val_loss: 6402113024.0000 - val_mae: 5337.2422\n",
      "Epoch 296/500\n",
      "14767/14767 [==============================] - 28s 2ms/step - loss: 5168750080.0000 - mae: 6767.7788 - val_loss: 6610106880.0000 - val_mae: 7200.6191\n",
      "Epoch 297/500\n",
      "14767/14767 [==============================] - 28s 2ms/step - loss: 5231184896.0000 - mae: 6794.3408 - val_loss: 5522685440.0000 - val_mae: 6400.3223\n",
      "Epoch 298/500\n",
      "14767/14767 [==============================] - 28s 2ms/step - loss: 5118813184.0000 - mae: 6574.1470 - val_loss: 6340632576.0000 - val_mae: 5778.1724\n",
      "Epoch 299/500\n",
      "14767/14767 [==============================] - 28s 2ms/step - loss: 4998430720.0000 - mae: 6662.5713 - val_loss: 9375629312.0000 - val_mae: 15303.0410\n",
      "Epoch 300/500\n",
      "14767/14767 [==============================] - 28s 2ms/step - loss: 4912928768.0000 - mae: 6500.3921 - val_loss: 5172371456.0000 - val_mae: 5889.8711\n",
      "Epoch 301/500\n",
      "14767/14767 [==============================] - 28s 2ms/step - loss: 5160128000.0000 - mae: 6558.2163 - val_loss: 5536839680.0000 - val_mae: 6976.2192\n",
      "Epoch 302/500\n",
      "14767/14767 [==============================] - 28s 2ms/step - loss: 4978217984.0000 - mae: 6677.4443 - val_loss: 7097274880.0000 - val_mae: 7148.7598\n",
      "Epoch 303/500\n",
      "14767/14767 [==============================] - 28s 2ms/step - loss: 4993043968.0000 - mae: 6626.3970 - val_loss: 5100563456.0000 - val_mae: 7437.5195\n",
      "Epoch 304/500\n",
      "14767/14767 [==============================] - 28s 2ms/step - loss: 5060821504.0000 - mae: 6556.7246 - val_loss: 5566647808.0000 - val_mae: 5676.2461\n",
      "Epoch 305/500\n",
      "14767/14767 [==============================] - 28s 2ms/step - loss: 5113064448.0000 - mae: 6541.1167 - val_loss: 6066113536.0000 - val_mae: 6910.4531\n",
      "Epoch 306/500\n",
      "14767/14767 [==============================] - 28s 2ms/step - loss: 4978608640.0000 - mae: 6533.5479 - val_loss: 6519953920.0000 - val_mae: 5327.3013\n",
      "Epoch 307/500\n",
      "14767/14767 [==============================] - 28s 2ms/step - loss: 4916925952.0000 - mae: 6618.2324 - val_loss: 4894435328.0000 - val_mae: 5879.3989\n",
      "Epoch 308/500\n",
      "14767/14767 [==============================] - 28s 2ms/step - loss: 5018856448.0000 - mae: 6565.8164 - val_loss: 5125233664.0000 - val_mae: 6063.4785\n",
      "Epoch 309/500\n",
      "14767/14767 [==============================] - 28s 2ms/step - loss: 4989378048.0000 - mae: 6525.9565 - val_loss: 4903661056.0000 - val_mae: 6583.4102\n",
      "Epoch 310/500\n",
      "14767/14767 [==============================] - 28s 2ms/step - loss: 5162842112.0000 - mae: 6529.1299 - val_loss: 5490169856.0000 - val_mae: 5294.4810\n",
      "Epoch 311/500\n",
      "14767/14767 [==============================] - 28s 2ms/step - loss: 5072441344.0000 - mae: 6835.2905 - val_loss: 6980638208.0000 - val_mae: 5431.6724\n",
      "Epoch 312/500\n",
      "14767/14767 [==============================] - 28s 2ms/step - loss: 5283575808.0000 - mae: 6927.2690 - val_loss: 6017204224.0000 - val_mae: 6191.0264\n",
      "Epoch 313/500\n",
      "14767/14767 [==============================] - 28s 2ms/step - loss: 5154074624.0000 - mae: 7159.7271 - val_loss: 5769486848.0000 - val_mae: 5903.0303\n",
      "Epoch 314/500\n",
      "14767/14767 [==============================] - 28s 2ms/step - loss: 5096466432.0000 - mae: 6993.1514 - val_loss: 5210107392.0000 - val_mae: 6174.5039\n",
      "Epoch 315/500\n",
      "14767/14767 [==============================] - 28s 2ms/step - loss: 5206098944.0000 - mae: 6935.6367 - val_loss: 7122174464.0000 - val_mae: 5451.1631\n",
      "Epoch 316/500\n",
      "14767/14767 [==============================] - 28s 2ms/step - loss: 5247216640.0000 - mae: 6819.0200 - val_loss: 5010297856.0000 - val_mae: 6385.5732\n",
      "Epoch 317/500\n",
      "14767/14767 [==============================] - 28s 2ms/step - loss: 5018747904.0000 - mae: 6696.5620 - val_loss: 4889730560.0000 - val_mae: 7336.3491\n",
      "Epoch 318/500\n",
      "14767/14767 [==============================] - 28s 2ms/step - loss: 5029433344.0000 - mae: 6594.6206 - val_loss: 5727589376.0000 - val_mae: 8804.3730\n",
      "Epoch 319/500\n",
      "14767/14767 [==============================] - 28s 2ms/step - loss: 4955825152.0000 - mae: 6800.1592 - val_loss: 8803061760.0000 - val_mae: 13315.2256\n",
      "Epoch 320/500\n",
      "14767/14767 [==============================] - 28s 2ms/step - loss: 4947172352.0000 - mae: 6723.6616 - val_loss: 5246858752.0000 - val_mae: 7410.8403\n",
      "Epoch 321/500\n",
      "14767/14767 [==============================] - 28s 2ms/step - loss: 4953268736.0000 - mae: 6825.8682 - val_loss: 5658207744.0000 - val_mae: 6817.6836\n",
      "Epoch 322/500\n",
      "14767/14767 [==============================] - 28s 2ms/step - loss: 4994352640.0000 - mae: 6903.6279 - val_loss: 5026831872.0000 - val_mae: 6364.6133\n",
      "Epoch 323/500\n",
      "14767/14767 [==============================] - 28s 2ms/step - loss: 4821799424.0000 - mae: 6814.1768 - val_loss: 6840355840.0000 - val_mae: 8819.4854\n",
      "Epoch 324/500\n",
      "14767/14767 [==============================] - 28s 2ms/step - loss: 5265413632.0000 - mae: 7095.9839 - val_loss: 6023377408.0000 - val_mae: 6101.3501\n",
      "Epoch 325/500\n",
      "14767/14767 [==============================] - 28s 2ms/step - loss: 4997101568.0000 - mae: 6804.0786 - val_loss: 5961932288.0000 - val_mae: 6955.7891\n",
      "Epoch 326/500\n",
      "14767/14767 [==============================] - 28s 2ms/step - loss: 4751928320.0000 - mae: 6748.5063 - val_loss: 5708730368.0000 - val_mae: 5725.2749\n",
      "Epoch 327/500\n",
      "14767/14767 [==============================] - 28s 2ms/step - loss: 5015270912.0000 - mae: 6568.4683 - val_loss: 4913891840.0000 - val_mae: 6269.0044\n",
      "Epoch 328/500\n",
      "14767/14767 [==============================] - 28s 2ms/step - loss: 4977956864.0000 - mae: 6728.8828 - val_loss: 5581970944.0000 - val_mae: 5892.2969\n",
      "Epoch 329/500\n",
      "14767/14767 [==============================] - 28s 2ms/step - loss: 4974039552.0000 - mae: 6719.1025 - val_loss: 5233957376.0000 - val_mae: 7883.2407\n",
      "Epoch 330/500\n",
      "14767/14767 [==============================] - 28s 2ms/step - loss: 5208183808.0000 - mae: 6865.0361 - val_loss: 6068029952.0000 - val_mae: 5831.2949\n",
      "Epoch 331/500\n",
      "14767/14767 [==============================] - 28s 2ms/step - loss: 5139276800.0000 - mae: 6752.3447 - val_loss: 5255698944.0000 - val_mae: 7168.2432\n",
      "Epoch 332/500\n",
      "14767/14767 [==============================] - 28s 2ms/step - loss: 4914232832.0000 - mae: 6649.0913 - val_loss: 6179820032.0000 - val_mae: 5892.1997\n",
      "Epoch 333/500\n",
      "14767/14767 [==============================] - 28s 2ms/step - loss: 5051791360.0000 - mae: 6922.5039 - val_loss: 5964700672.0000 - val_mae: 6665.5420\n",
      "Epoch 334/500\n",
      "14767/14767 [==============================] - 28s 2ms/step - loss: 4904729600.0000 - mae: 6667.9976 - val_loss: 5391419904.0000 - val_mae: 7295.2764\n",
      "Epoch 335/500\n",
      "14767/14767 [==============================] - 28s 2ms/step - loss: 5110189568.0000 - mae: 7031.1973 - val_loss: 5259086848.0000 - val_mae: 6162.5747\n",
      "Epoch 336/500\n",
      "14767/14767 [==============================] - 28s 2ms/step - loss: 4859933696.0000 - mae: 6787.7910 - val_loss: 12805127168.0000 - val_mae: 11695.9795\n",
      "Epoch 337/500\n",
      "14767/14767 [==============================] - 28s 2ms/step - loss: 4951064064.0000 - mae: 6758.6440 - val_loss: 6173190656.0000 - val_mae: 7097.5454\n",
      "Epoch 338/500\n",
      "14767/14767 [==============================] - 28s 2ms/step - loss: 4840059392.0000 - mae: 6783.4531 - val_loss: 5608021504.0000 - val_mae: 6681.4043\n",
      "Epoch 339/500\n",
      "14767/14767 [==============================] - 28s 2ms/step - loss: 4990233600.0000 - mae: 6846.6060 - val_loss: 4724289536.0000 - val_mae: 6434.3569\n",
      "Epoch 340/500\n",
      "14767/14767 [==============================] - 28s 2ms/step - loss: 4937390080.0000 - mae: 6770.4009 - val_loss: 5571791872.0000 - val_mae: 6276.0464\n",
      "Epoch 341/500\n",
      "14767/14767 [==============================] - 28s 2ms/step - loss: 4981852160.0000 - mae: 6893.9263 - val_loss: 7968022528.0000 - val_mae: 7776.7793\n",
      "Epoch 342/500\n",
      "14767/14767 [==============================] - 28s 2ms/step - loss: 4879055360.0000 - mae: 6841.1753 - val_loss: 5072689664.0000 - val_mae: 6660.2676\n",
      "Epoch 343/500\n",
      "14767/14767 [==============================] - 28s 2ms/step - loss: 4965660160.0000 - mae: 6718.3994 - val_loss: 5517403648.0000 - val_mae: 6429.8374\n",
      "Epoch 344/500\n",
      "14767/14767 [==============================] - 28s 2ms/step - loss: 5161230848.0000 - mae: 6704.4668 - val_loss: 5976140800.0000 - val_mae: 5770.0786\n",
      "Epoch 345/500\n",
      "14767/14767 [==============================] - 28s 2ms/step - loss: 4747006464.0000 - mae: 6655.7646 - val_loss: 4855316480.0000 - val_mae: 7624.0791\n",
      "Epoch 346/500\n",
      "14767/14767 [==============================] - 28s 2ms/step - loss: 5070387712.0000 - mae: 6891.4414 - val_loss: 5492881408.0000 - val_mae: 5879.8662\n",
      "Epoch 347/500\n",
      "14767/14767 [==============================] - 28s 2ms/step - loss: 5010200064.0000 - mae: 6792.9751 - val_loss: 6122187776.0000 - val_mae: 5863.0464\n",
      "Epoch 348/500\n",
      "14767/14767 [==============================] - 28s 2ms/step - loss: 4828804096.0000 - mae: 6696.3882 - val_loss: 5252731904.0000 - val_mae: 6139.8989\n",
      "Epoch 349/500\n",
      "14767/14767 [==============================] - 28s 2ms/step - loss: 4939383808.0000 - mae: 6906.0386 - val_loss: 5649146880.0000 - val_mae: 6344.2285\n",
      "Epoch 350/500\n",
      "14767/14767 [==============================] - 28s 2ms/step - loss: 5227891712.0000 - mae: 6895.2407 - val_loss: 4721602048.0000 - val_mae: 6367.9014\n",
      "Epoch 351/500\n",
      "14767/14767 [==============================] - 28s 2ms/step - loss: 4964879360.0000 - mae: 6548.9590 - val_loss: 7069571072.0000 - val_mae: 8975.8340\n",
      "Epoch 352/500\n",
      "14767/14767 [==============================] - 28s 2ms/step - loss: 4820118528.0000 - mae: 7123.7651 - val_loss: 7570461184.0000 - val_mae: 7945.3188\n",
      "Epoch 353/500\n",
      "14767/14767 [==============================] - 28s 2ms/step - loss: 5006431744.0000 - mae: 7133.5249 - val_loss: 5821067264.0000 - val_mae: 7916.4272\n",
      "Epoch 354/500\n",
      "14767/14767 [==============================] - 28s 2ms/step - loss: 4686385664.0000 - mae: 6809.9844 - val_loss: 5278642688.0000 - val_mae: 8192.0674\n",
      "Epoch 355/500\n",
      "14767/14767 [==============================] - 28s 2ms/step - loss: 4827366912.0000 - mae: 6604.5610 - val_loss: 4839672320.0000 - val_mae: 8255.0645\n",
      "Epoch 356/500\n",
      "14767/14767 [==============================] - 28s 2ms/step - loss: 5149295616.0000 - mae: 6734.7241 - val_loss: 5309154816.0000 - val_mae: 6367.3374\n",
      "Epoch 357/500\n",
      "14767/14767 [==============================] - 28s 2ms/step - loss: 4883403264.0000 - mae: 6598.3960 - val_loss: 6083277312.0000 - val_mae: 5297.6045\n",
      "Epoch 358/500\n",
      "14767/14767 [==============================] - 28s 2ms/step - loss: 4820929024.0000 - mae: 6599.8887 - val_loss: 11107028992.0000 - val_mae: 10157.4775\n",
      "Epoch 359/500\n",
      "14767/14767 [==============================] - 28s 2ms/step - loss: 5092198912.0000 - mae: 6982.5273 - val_loss: 10510833664.0000 - val_mae: 18348.4590\n",
      "Epoch 360/500\n",
      "14767/14767 [==============================] - 28s 2ms/step - loss: 4739679744.0000 - mae: 6948.0005 - val_loss: 4782057472.0000 - val_mae: 6731.0234\n",
      "Epoch 361/500\n",
      "14767/14767 [==============================] - 28s 2ms/step - loss: 4716575232.0000 - mae: 6689.6748 - val_loss: 5074164736.0000 - val_mae: 5733.8799\n",
      "Epoch 362/500\n",
      "14767/14767 [==============================] - 28s 2ms/step - loss: 4890672128.0000 - mae: 6664.7949 - val_loss: 6175678976.0000 - val_mae: 6424.4419\n",
      "Epoch 363/500\n",
      "14767/14767 [==============================] - 28s 2ms/step - loss: 4890871808.0000 - mae: 6865.9531 - val_loss: 5325049856.0000 - val_mae: 6665.6763\n",
      "Epoch 364/500\n",
      "14767/14767 [==============================] - 28s 2ms/step - loss: 4913768448.0000 - mae: 6805.7725 - val_loss: 5831260672.0000 - val_mae: 6953.2871\n",
      "Epoch 365/500\n",
      "14767/14767 [==============================] - 28s 2ms/step - loss: 4936181248.0000 - mae: 6731.8892 - val_loss: 6297585152.0000 - val_mae: 6638.0078\n",
      "Epoch 366/500\n",
      "14767/14767 [==============================] - 28s 2ms/step - loss: 5031976448.0000 - mae: 6883.1626 - val_loss: 5478168064.0000 - val_mae: 5886.2227\n",
      "Epoch 367/500\n",
      "14767/14767 [==============================] - 28s 2ms/step - loss: 4811089408.0000 - mae: 6763.9102 - val_loss: 6142308864.0000 - val_mae: 5730.4097\n",
      "Epoch 368/500\n",
      "14767/14767 [==============================] - 28s 2ms/step - loss: 4890489344.0000 - mae: 6828.2363 - val_loss: 5446827008.0000 - val_mae: 6664.7207\n",
      "Epoch 369/500\n",
      "14767/14767 [==============================] - 28s 2ms/step - loss: 4989524480.0000 - mae: 6827.7920 - val_loss: 5097245696.0000 - val_mae: 6252.0146\n",
      "Epoch 370/500\n",
      "14767/14767 [==============================] - 28s 2ms/step - loss: 4922660352.0000 - mae: 6692.1992 - val_loss: 5955468288.0000 - val_mae: 5865.5957\n",
      "Epoch 371/500\n",
      "14767/14767 [==============================] - 28s 2ms/step - loss: 4838464512.0000 - mae: 6771.4253 - val_loss: 5695298048.0000 - val_mae: 5649.6929\n",
      "Epoch 372/500\n",
      "14767/14767 [==============================] - 28s 2ms/step - loss: 4638523392.0000 - mae: 6667.6904 - val_loss: 6345600512.0000 - val_mae: 6049.3774\n",
      "Epoch 373/500\n",
      "14767/14767 [==============================] - 31s 2ms/step - loss: 4926436864.0000 - mae: 6655.5913 - val_loss: 5881939456.0000 - val_mae: 5963.1826\n",
      "Epoch 374/500\n",
      "14767/14767 [==============================] - 28s 2ms/step - loss: 4847268864.0000 - mae: 6809.9370 - val_loss: 5011554816.0000 - val_mae: 6324.1914\n",
      "Epoch 375/500\n",
      "14767/14767 [==============================] - 28s 2ms/step - loss: 4976883200.0000 - mae: 7018.9824 - val_loss: 5007233024.0000 - val_mae: 6909.1113\n",
      "Epoch 376/500\n",
      "14767/14767 [==============================] - 28s 2ms/step - loss: 4913257984.0000 - mae: 6763.8672 - val_loss: 5476277248.0000 - val_mae: 5465.9634\n",
      "Epoch 377/500\n",
      "14767/14767 [==============================] - 28s 2ms/step - loss: 4859807744.0000 - mae: 6730.3682 - val_loss: 4939685888.0000 - val_mae: 7440.9668\n",
      "Epoch 378/500\n",
      "14767/14767 [==============================] - 28s 2ms/step - loss: 4875933696.0000 - mae: 6846.1519 - val_loss: 6954999296.0000 - val_mae: 6189.7783\n",
      "Epoch 379/500\n",
      "14767/14767 [==============================] - 28s 2ms/step - loss: 4771540480.0000 - mae: 6843.1470 - val_loss: 4832645632.0000 - val_mae: 6400.1978\n",
      "Epoch 380/500\n",
      "14767/14767 [==============================] - 28s 2ms/step - loss: 4787043840.0000 - mae: 6876.9395 - val_loss: 5053221376.0000 - val_mae: 6440.3296\n",
      "Epoch 381/500\n",
      "14767/14767 [==============================] - 28s 2ms/step - loss: 4837343232.0000 - mae: 6943.1519 - val_loss: 5779408384.0000 - val_mae: 5307.9922\n",
      "Epoch 382/500\n",
      "14767/14767 [==============================] - 28s 2ms/step - loss: 4713209344.0000 - mae: 6726.7842 - val_loss: 4775494656.0000 - val_mae: 5622.0962\n",
      "Epoch 383/500\n",
      "14767/14767 [==============================] - 28s 2ms/step - loss: 4855079424.0000 - mae: 6902.7720 - val_loss: 4782606848.0000 - val_mae: 8545.0498\n",
      "Epoch 384/500\n",
      "14767/14767 [==============================] - 28s 2ms/step - loss: 4960663040.0000 - mae: 6958.8452 - val_loss: 5532630016.0000 - val_mae: 6622.1987\n",
      "Epoch 385/500\n",
      "14767/14767 [==============================] - 28s 2ms/step - loss: 4802487808.0000 - mae: 7198.5234 - val_loss: 7027880960.0000 - val_mae: 6335.4424\n",
      "Epoch 386/500\n",
      "14767/14767 [==============================] - 28s 2ms/step - loss: 4707363840.0000 - mae: 6910.0386 - val_loss: 6247449088.0000 - val_mae: 5859.9517\n",
      "Epoch 387/500\n",
      "14767/14767 [==============================] - 28s 2ms/step - loss: 4764697088.0000 - mae: 6955.6245 - val_loss: 6623342592.0000 - val_mae: 5491.3584\n",
      "Epoch 388/500\n",
      "14767/14767 [==============================] - 28s 2ms/step - loss: 4726267392.0000 - mae: 6862.3716 - val_loss: 5339425792.0000 - val_mae: 4909.9658\n",
      "Epoch 389/500\n",
      "14767/14767 [==============================] - 28s 2ms/step - loss: 4885034496.0000 - mae: 6787.9380 - val_loss: 5537367040.0000 - val_mae: 6177.0576\n",
      "Epoch 390/500\n",
      "14767/14767 [==============================] - 28s 2ms/step - loss: 4653914112.0000 - mae: 6704.3179 - val_loss: 4689987584.0000 - val_mae: 6878.5513\n",
      "Epoch 391/500\n",
      "14767/14767 [==============================] - 28s 2ms/step - loss: 4873493504.0000 - mae: 6849.5220 - val_loss: 4820100096.0000 - val_mae: 7872.2524\n",
      "Epoch 392/500\n",
      "14767/14767 [==============================] - 28s 2ms/step - loss: 4770115584.0000 - mae: 6887.0820 - val_loss: 6249015296.0000 - val_mae: 8078.4004\n",
      "Epoch 393/500\n",
      "14767/14767 [==============================] - 28s 2ms/step - loss: 4610808832.0000 - mae: 6840.8735 - val_loss: 6330667520.0000 - val_mae: 5373.4468\n",
      "Epoch 394/500\n",
      "14767/14767 [==============================] - 28s 2ms/step - loss: 4532691968.0000 - mae: 6860.1470 - val_loss: 5674680320.0000 - val_mae: 5561.2539\n",
      "Epoch 395/500\n",
      "14767/14767 [==============================] - 28s 2ms/step - loss: 4762548736.0000 - mae: 6888.2432 - val_loss: 4754350592.0000 - val_mae: 7218.8936\n",
      "Epoch 396/500\n",
      "14767/14767 [==============================] - 28s 2ms/step - loss: 4704781312.0000 - mae: 6906.2373 - val_loss: 7163466752.0000 - val_mae: 7833.4736\n",
      "Epoch 397/500\n",
      "14767/14767 [==============================] - 28s 2ms/step - loss: 4792532992.0000 - mae: 7018.4824 - val_loss: 5295171584.0000 - val_mae: 7149.2148\n",
      "Epoch 398/500\n",
      "14767/14767 [==============================] - 28s 2ms/step - loss: 4742629888.0000 - mae: 6981.3755 - val_loss: 5650725888.0000 - val_mae: 5395.8833\n",
      "Epoch 399/500\n",
      "14767/14767 [==============================] - 28s 2ms/step - loss: 4759565824.0000 - mae: 6806.1387 - val_loss: 5125631488.0000 - val_mae: 6851.7212\n",
      "Epoch 400/500\n",
      "14767/14767 [==============================] - 28s 2ms/step - loss: 4818052608.0000 - mae: 6811.0698 - val_loss: 6168072192.0000 - val_mae: 7544.6431\n",
      "Epoch 401/500\n",
      "14767/14767 [==============================] - 28s 2ms/step - loss: 4786656768.0000 - mae: 6806.8555 - val_loss: 4796332544.0000 - val_mae: 8443.8047\n",
      "Epoch 402/500\n",
      "14767/14767 [==============================] - 28s 2ms/step - loss: 4853045248.0000 - mae: 6911.6641 - val_loss: 5704684032.0000 - val_mae: 7008.2920\n",
      "Epoch 403/500\n",
      "14767/14767 [==============================] - 28s 2ms/step - loss: 4873649664.0000 - mae: 7029.3335 - val_loss: 5876825088.0000 - val_mae: 5304.4351\n",
      "Epoch 404/500\n",
      "14767/14767 [==============================] - 28s 2ms/step - loss: 4752138240.0000 - mae: 7032.4590 - val_loss: 6622494720.0000 - val_mae: 8289.2959\n",
      "Epoch 405/500\n",
      "14767/14767 [==============================] - 28s 2ms/step - loss: 4855523840.0000 - mae: 6987.8623 - val_loss: 4592131584.0000 - val_mae: 7644.4531\n",
      "Epoch 406/500\n",
      "14767/14767 [==============================] - 28s 2ms/step - loss: 4625357824.0000 - mae: 6905.8442 - val_loss: 7619710464.0000 - val_mae: 12141.9629\n",
      "Epoch 407/500\n",
      "14767/14767 [==============================] - 28s 2ms/step - loss: 4856474624.0000 - mae: 7196.7354 - val_loss: 6863708672.0000 - val_mae: 5697.2520\n",
      "Epoch 408/500\n",
      "14767/14767 [==============================] - 28s 2ms/step - loss: 4794171392.0000 - mae: 7089.1372 - val_loss: 5894202368.0000 - val_mae: 6425.0376\n",
      "Epoch 409/500\n",
      "14767/14767 [==============================] - 28s 2ms/step - loss: 4565209088.0000 - mae: 6886.7178 - val_loss: 4512499200.0000 - val_mae: 6700.1587\n",
      "Epoch 410/500\n",
      "14767/14767 [==============================] - 28s 2ms/step - loss: 4797678592.0000 - mae: 7057.2314 - val_loss: 5533062656.0000 - val_mae: 9794.1016\n",
      "Epoch 411/500\n",
      "14767/14767 [==============================] - 28s 2ms/step - loss: 4709416448.0000 - mae: 7153.6719 - val_loss: 4556469760.0000 - val_mae: 5733.9380\n",
      "Epoch 412/500\n",
      "14767/14767 [==============================] - 28s 2ms/step - loss: 4713064960.0000 - mae: 7150.1196 - val_loss: 6829730304.0000 - val_mae: 6198.8701\n",
      "Epoch 413/500\n",
      "14767/14767 [==============================] - 28s 2ms/step - loss: 4664152576.0000 - mae: 7038.9214 - val_loss: 5750814208.0000 - val_mae: 6030.8110\n",
      "Epoch 414/500\n",
      "14767/14767 [==============================] - 28s 2ms/step - loss: 4722637824.0000 - mae: 7059.1426 - val_loss: 5242124800.0000 - val_mae: 5995.2690\n",
      "Epoch 415/500\n",
      "14767/14767 [==============================] - 28s 2ms/step - loss: 4800929792.0000 - mae: 7207.6396 - val_loss: 4775366144.0000 - val_mae: 7451.3682\n",
      "Epoch 416/500\n",
      "14767/14767 [==============================] - 28s 2ms/step - loss: 4669351424.0000 - mae: 6925.1118 - val_loss: 5548284416.0000 - val_mae: 5955.4976\n",
      "Epoch 417/500\n",
      "14767/14767 [==============================] - 28s 2ms/step - loss: 4800886272.0000 - mae: 7032.0796 - val_loss: 4857223168.0000 - val_mae: 5827.5088\n",
      "Epoch 418/500\n",
      "14767/14767 [==============================] - 28s 2ms/step - loss: 4702387200.0000 - mae: 6977.6445 - val_loss: 5084143616.0000 - val_mae: 7467.6870\n",
      "Epoch 419/500\n",
      "14767/14767 [==============================] - 28s 2ms/step - loss: 4487502336.0000 - mae: 6977.0488 - val_loss: 6254604288.0000 - val_mae: 7293.8535\n",
      "Epoch 420/500\n",
      "14767/14767 [==============================] - 28s 2ms/step - loss: 4694438912.0000 - mae: 6969.3008 - val_loss: 5957425664.0000 - val_mae: 7178.2500\n",
      "Epoch 421/500\n",
      "14767/14767 [==============================] - 28s 2ms/step - loss: 4638543872.0000 - mae: 6864.1729 - val_loss: 7062445056.0000 - val_mae: 5548.1006\n",
      "Epoch 422/500\n",
      "14767/14767 [==============================] - 28s 2ms/step - loss: 4722952192.0000 - mae: 6965.3965 - val_loss: 5006885888.0000 - val_mae: 8909.9531\n",
      "Epoch 423/500\n",
      "14767/14767 [==============================] - 28s 2ms/step - loss: 4786123776.0000 - mae: 6955.9702 - val_loss: 6034115072.0000 - val_mae: 5722.3970\n",
      "Epoch 424/500\n",
      "14767/14767 [==============================] - 28s 2ms/step - loss: 4505710592.0000 - mae: 6812.3828 - val_loss: 4582126592.0000 - val_mae: 6464.8232\n",
      "Epoch 425/500\n",
      "14767/14767 [==============================] - 28s 2ms/step - loss: 4656190464.0000 - mae: 6820.7222 - val_loss: 4518231552.0000 - val_mae: 6992.1304\n",
      "Epoch 426/500\n",
      "14767/14767 [==============================] - 28s 2ms/step - loss: 4730278912.0000 - mae: 6847.0332 - val_loss: 4354176512.0000 - val_mae: 6372.8735\n",
      "Epoch 427/500\n",
      "14767/14767 [==============================] - 28s 2ms/step - loss: 4635773440.0000 - mae: 6869.5762 - val_loss: 4650027008.0000 - val_mae: 6236.2827\n",
      "Epoch 428/500\n",
      "14767/14767 [==============================] - 28s 2ms/step - loss: 4527309312.0000 - mae: 6704.3955 - val_loss: 4985781248.0000 - val_mae: 6560.4585\n",
      "Epoch 429/500\n",
      "14767/14767 [==============================] - 28s 2ms/step - loss: 4669634048.0000 - mae: 6803.8896 - val_loss: 4571001856.0000 - val_mae: 6253.9756\n",
      "Epoch 430/500\n",
      "14767/14767 [==============================] - 28s 2ms/step - loss: 4739431936.0000 - mae: 6759.4434 - val_loss: 6025308160.0000 - val_mae: 7505.6543\n",
      "Epoch 431/500\n",
      "14767/14767 [==============================] - 28s 2ms/step - loss: 4930975744.0000 - mae: 6868.4087 - val_loss: 4790728192.0000 - val_mae: 15489.6387\n",
      "Epoch 432/500\n",
      "14767/14767 [==============================] - 28s 2ms/step - loss: 4730668032.0000 - mae: 6977.9404 - val_loss: 5024117760.0000 - val_mae: 5998.6157\n",
      "Epoch 433/500\n",
      "14767/14767 [==============================] - 28s 2ms/step - loss: 4794231808.0000 - mae: 7043.4214 - val_loss: 5374060032.0000 - val_mae: 5989.1855\n",
      "Epoch 434/500\n",
      "14767/14767 [==============================] - 28s 2ms/step - loss: 4653332992.0000 - mae: 7023.6870 - val_loss: 5997170176.0000 - val_mae: 6239.8237\n",
      "Epoch 435/500\n",
      "14767/14767 [==============================] - 28s 2ms/step - loss: 4922381824.0000 - mae: 6992.2144 - val_loss: 5372246016.0000 - val_mae: 5438.2646\n",
      "Epoch 436/500\n",
      "14767/14767 [==============================] - 28s 2ms/step - loss: 4725760000.0000 - mae: 6933.5112 - val_loss: 4636978688.0000 - val_mae: 5782.1704\n",
      "Epoch 437/500\n",
      "14767/14767 [==============================] - 28s 2ms/step - loss: 4564373504.0000 - mae: 6897.8472 - val_loss: 4634016768.0000 - val_mae: 5940.7983\n",
      "Epoch 438/500\n",
      "14767/14767 [==============================] - 28s 2ms/step - loss: 4804606976.0000 - mae: 6871.2046 - val_loss: 4929095680.0000 - val_mae: 6599.8931\n",
      "Epoch 439/500\n",
      "14767/14767 [==============================] - 28s 2ms/step - loss: 4730812928.0000 - mae: 6975.4395 - val_loss: 5188807168.0000 - val_mae: 8169.4761\n",
      "Epoch 440/500\n",
      "14767/14767 [==============================] - 28s 2ms/step - loss: 4452747776.0000 - mae: 6893.5269 - val_loss: 5386772992.0000 - val_mae: 6550.8057\n",
      "Epoch 441/500\n",
      "14767/14767 [==============================] - 28s 2ms/step - loss: 4843706880.0000 - mae: 7066.6348 - val_loss: 6349081088.0000 - val_mae: 6583.2310\n",
      "Epoch 442/500\n",
      "14767/14767 [==============================] - 28s 2ms/step - loss: 4696984576.0000 - mae: 6936.6196 - val_loss: 4841000448.0000 - val_mae: 5755.1108\n",
      "Epoch 443/500\n",
      "14767/14767 [==============================] - 28s 2ms/step - loss: 4622281216.0000 - mae: 6787.9990 - val_loss: 6593850368.0000 - val_mae: 5960.0620\n",
      "Epoch 444/500\n",
      "14767/14767 [==============================] - 28s 2ms/step - loss: 4808140800.0000 - mae: 6854.5518 - val_loss: 4509938176.0000 - val_mae: 11002.8203\n",
      "Epoch 445/500\n",
      "14767/14767 [==============================] - 28s 2ms/step - loss: 4699729920.0000 - mae: 7072.0898 - val_loss: 5865088000.0000 - val_mae: 6711.0166\n",
      "Epoch 446/500\n",
      "14767/14767 [==============================] - 28s 2ms/step - loss: 4909519360.0000 - mae: 6819.4224 - val_loss: 5248389120.0000 - val_mae: 5357.8530\n",
      "Epoch 447/500\n",
      "14767/14767 [==============================] - 28s 2ms/step - loss: 4764501504.0000 - mae: 6791.3882 - val_loss: 4952477184.0000 - val_mae: 6091.1509\n",
      "Epoch 448/500\n",
      "14767/14767 [==============================] - 28s 2ms/step - loss: 4774660608.0000 - mae: 6799.0420 - val_loss: 4956280832.0000 - val_mae: 5567.9819\n",
      "Epoch 449/500\n",
      "14767/14767 [==============================] - 28s 2ms/step - loss: 4747449344.0000 - mae: 6944.1670 - val_loss: 6502853120.0000 - val_mae: 6056.5269\n",
      "Epoch 450/500\n",
      "14767/14767 [==============================] - 28s 2ms/step - loss: 4725757952.0000 - mae: 7042.7974 - val_loss: 5967050752.0000 - val_mae: 6948.9053\n",
      "Epoch 451/500\n",
      "14767/14767 [==============================] - 28s 2ms/step - loss: 4810904064.0000 - mae: 6723.1465 - val_loss: 5076815360.0000 - val_mae: 6482.5161\n",
      "Epoch 452/500\n",
      "14767/14767 [==============================] - 28s 2ms/step - loss: 4759986688.0000 - mae: 6848.9023 - val_loss: 6289537536.0000 - val_mae: 8228.8135\n",
      "Epoch 453/500\n",
      "14767/14767 [==============================] - 28s 2ms/step - loss: 4760799744.0000 - mae: 7030.4805 - val_loss: 5042266112.0000 - val_mae: 7953.8179\n",
      "Epoch 454/500\n",
      "14767/14767 [==============================] - 28s 2ms/step - loss: 4702266368.0000 - mae: 7001.1455 - val_loss: 5438555136.0000 - val_mae: 5715.6963\n",
      "Epoch 455/500\n",
      "14767/14767 [==============================] - 28s 2ms/step - loss: 4722940416.0000 - mae: 6889.2075 - val_loss: 5055859712.0000 - val_mae: 11811.1455\n",
      "Epoch 456/500\n",
      "14767/14767 [==============================] - 28s 2ms/step - loss: 4622835712.0000 - mae: 6954.1914 - val_loss: 6221763072.0000 - val_mae: 11406.0039\n",
      "Epoch 457/500\n",
      "14767/14767 [==============================] - 28s 2ms/step - loss: 4632828928.0000 - mae: 7163.7280 - val_loss: 7309324800.0000 - val_mae: 6803.6064\n",
      "Epoch 458/500\n",
      "14767/14767 [==============================] - 28s 2ms/step - loss: 4672217600.0000 - mae: 6947.2861 - val_loss: 5210530304.0000 - val_mae: 5917.5845\n",
      "Epoch 459/500\n",
      "14767/14767 [==============================] - 28s 2ms/step - loss: 4820708352.0000 - mae: 6795.7783 - val_loss: 5000612352.0000 - val_mae: 6101.6411\n",
      "Epoch 460/500\n",
      "14767/14767 [==============================] - 28s 2ms/step - loss: 4768340480.0000 - mae: 6913.7266 - val_loss: 5737726976.0000 - val_mae: 7008.1562\n",
      "Epoch 461/500\n",
      "14767/14767 [==============================] - 28s 2ms/step - loss: 4591140352.0000 - mae: 7039.6704 - val_loss: 6031747584.0000 - val_mae: 5540.4932\n",
      "Epoch 462/500\n",
      "14767/14767 [==============================] - 28s 2ms/step - loss: 4735287296.0000 - mae: 6912.8818 - val_loss: 7180617216.0000 - val_mae: 12252.5654\n",
      "Epoch 463/500\n",
      "14767/14767 [==============================] - 28s 2ms/step - loss: 4543569408.0000 - mae: 6891.8843 - val_loss: 5566198784.0000 - val_mae: 6151.1670\n",
      "Epoch 464/500\n",
      "14767/14767 [==============================] - 28s 2ms/step - loss: 4597656576.0000 - mae: 6993.0620 - val_loss: 5643812864.0000 - val_mae: 9697.4863\n",
      "Epoch 465/500\n",
      "14767/14767 [==============================] - 28s 2ms/step - loss: 4434404864.0000 - mae: 6938.3555 - val_loss: 5458933248.0000 - val_mae: 5760.1426\n",
      "Epoch 466/500\n",
      "14767/14767 [==============================] - 28s 2ms/step - loss: 4620998144.0000 - mae: 6827.6182 - val_loss: 4988724736.0000 - val_mae: 7813.1592\n",
      "Epoch 467/500\n",
      "14767/14767 [==============================] - 28s 2ms/step - loss: 4561442304.0000 - mae: 6976.2451 - val_loss: 6419544576.0000 - val_mae: 6939.4248\n",
      "Epoch 468/500\n",
      "14767/14767 [==============================] - 28s 2ms/step - loss: 4761912832.0000 - mae: 6796.6987 - val_loss: 6274315264.0000 - val_mae: 8020.5010\n",
      "Epoch 469/500\n",
      "14767/14767 [==============================] - 29s 2ms/step - loss: 4248634624.0000 - mae: 6788.2808 - val_loss: 18367176704.0000 - val_mae: 19448.1484\n",
      "Epoch 470/500\n",
      "14767/14767 [==============================] - 29s 2ms/step - loss: 4559732224.0000 - mae: 6746.1226 - val_loss: 8694729728.0000 - val_mae: 16936.5918\n",
      "Epoch 471/500\n",
      "14767/14767 [==============================] - 29s 2ms/step - loss: 4697723392.0000 - mae: 6924.2495 - val_loss: 6056335872.0000 - val_mae: 7429.9927\n",
      "Epoch 472/500\n",
      "14767/14767 [==============================] - 28s 2ms/step - loss: 4644841472.0000 - mae: 6913.9922 - val_loss: 4385579008.0000 - val_mae: 5598.2939\n",
      "Epoch 473/500\n",
      "14767/14767 [==============================] - 28s 2ms/step - loss: 4562683904.0000 - mae: 6918.4912 - val_loss: 5525757440.0000 - val_mae: 11436.8711\n",
      "Epoch 474/500\n",
      "14767/14767 [==============================] - 28s 2ms/step - loss: 4539900416.0000 - mae: 6868.1665 - val_loss: 4801820672.0000 - val_mae: 5951.8613\n",
      "Epoch 475/500\n",
      "14767/14767 [==============================] - 28s 2ms/step - loss: 4733195264.0000 - mae: 6976.3008 - val_loss: 5744632832.0000 - val_mae: 5428.8428\n",
      "Epoch 476/500\n",
      "14767/14767 [==============================] - 28s 2ms/step - loss: 4559976960.0000 - mae: 7044.9976 - val_loss: 5444668416.0000 - val_mae: 16991.2227\n"
     ]
    }
   ],
   "source": [
    "history = ann.fit(X_train, y_train,\n",
    "                  validation_data = (X_val, y_val),\n",
    "                  callbacks=[es],\n",
    "                  epochs=500,\n",
    "                  batch_size=20,\n",
    "                  verbose=1)"
   ]
  },
  {
   "cell_type": "markdown",
   "metadata": {
    "colab_type": "text",
    "id": "0H0zKKNEBLD5"
   },
   "source": [
    "### Analyse learn history"
   ]
  },
  {
   "cell_type": "code",
   "execution_count": 24,
   "metadata": {
    "ExecuteTime": {
     "end_time": "2023-08-21T02:35:48.647551300Z",
     "start_time": "2023-08-21T02:35:48.347177900Z"
    }
   },
   "outputs": [
    {
     "data": {
      "text/plain": "<Figure size 640x480 with 1 Axes>",
      "image/png": "[encoded data removed]"
     },
     "metadata": {},
     "output_type": "display_data"
    }
   ],
   "source": [
    "# let's see the training and validation accuracy by epoch\n",
    "history_dict = history.history\n",
    "loss_values = history_dict['loss'] # you can change this\n",
    "val_loss_values = history_dict['val_loss'] # you can also change this\n",
    "epochs = range(1, len(loss_values) + 1) # range of X (no. of epochs)\n",
    "plt.plot(epochs, loss_values, 'blue', label='Train set loss')\n",
    "plt.plot(epochs, val_loss_values, 'orange', label='Validation set loss')\n",
    "#plt.title('Training and testing loss')\n",
    "plt.xlabel('Epochs')\n",
    "plt.ylabel('Loss (MSE)')\n",
    "plt.legend()\n",
    "plt.show()"
   ]
  },
  {
   "cell_type": "code",
   "execution_count": 25,
   "metadata": {
    "ExecuteTime": {
     "end_time": "2023-08-21T02:35:54.814962Z",
     "start_time": "2023-08-21T02:35:54.717163800Z"
    }
   },
   "outputs": [
    {
     "data": {
      "text/plain": "<Figure size 640x480 with 1 Axes>",
      "image/png": "[encoded data removed]"
     },
     "metadata": {},
     "output_type": "display_data"
    }
   ],
   "source": [
    "loss_values1 = history_dict['mae'] # you can change this\n",
    "val_loss_values1 = history_dict['val_mae'] # you can also change this\n",
    "epochs = range(1, len(loss_values1) + 1) # range of X (no. of epochs)\n",
    "plt.plot(epochs, loss_values1, 'blue', label='Train set MAE')\n",
    "plt.plot(epochs, val_loss_values1, 'orange', label='Validation set MAE')\n",
    "#plt.title('Training and testing MAE')\n",
    "plt.xlabel('Epochs')\n",
    "plt.ylabel('MAE')\n",
    "plt.legend()\n",
    "plt.show()"
   ]
  },
  {
   "cell_type": "code",
   "execution_count": 23,
   "metadata": {
    "ExecuteTime": {
     "end_time": "2023-08-18T06:39:50.255140200Z",
     "start_time": "2023-08-18T06:39:50.211117800Z"
    }
   },
   "outputs": [
    {
     "name": "stdout",
     "output_type": "stream",
     "text": [
      "range(1, 301)\n"
     ]
    }
   ],
   "source": [
    "print (epochs)"
   ]
  },
  {
   "cell_type": "markdown",
   "metadata": {},
   "source": [
    "### Save the model"
   ]
  },
  {
   "cell_type": "code",
   "execution_count": 23,
   "outputs": [],
   "source": [
    "#ann.save('Profile_ANN_model_1.h5')"
   ],
   "metadata": {
    "collapsed": false
   }
  },
  {
   "cell_type": "markdown",
   "metadata": {},
   "source": [
    "## Part 5 - Make predictions"
   ]
  },
  {
   "cell_type": "code",
   "execution_count": 9,
   "metadata": {},
   "outputs": [],
   "source": [
    "#ann = load_model('Profile_ANN_model_1.h5')"
   ]
  },
  {
   "cell_type": "code",
   "execution_count": 26,
   "metadata": {
    "ExecuteTime": {
     "end_time": "2023-08-21T02:36:17.791882300Z",
     "start_time": "2023-08-21T02:36:00.807685500Z"
    }
   },
   "outputs": [
    {
     "name": "stdout",
     "output_type": "stream",
     "text": [
      "9230/9230 [==============================] - 10s 1ms/step\n",
      "3077/3077 [==============================] - 3s 1ms/step\n"
     ]
    },
    {
     "data": {
      "text/plain": "<Figure size 640x480 with 2 Axes>",
      "image/png": "[encoded data removed]"
     },
     "metadata": {},
     "output_type": "display_data"
    }
   ],
   "source": [
    "# scatterplot of actual vs. pred\n",
    "# specify the dimensions \n",
    "fig, axes = plt.subplots(1,2) # 1 row, 2 columns\n",
    "\n",
    "# this makes the individual subplots\n",
    "# Training Results\n",
    "axes[0].scatter(x=y_train, y=ann.predict(X_train)) #first row, first entry (left top)\n",
    "axes[0].set_xlabel(\"Actual\", fontsize=10)\n",
    "axes[0].set_ylabel(\"Predicted\",  fontsize=10)\n",
    "axes[0].set_title(\"Training\")\n",
    "# add 45 deg line\n",
    "x = np.linspace(*axes[0].get_xlim())\n",
    "axes[0].plot(x, x, color='red')\n",
    "# Validation Results\n",
    "axes[1].scatter(x=y_val, y=ann.predict(X_val)) # first row, second entry (right top)\n",
    "axes[1].set_xlabel(\"Actual\", fontsize=10)\n",
    "axes[1].set_ylabel(\"Predicted\",  fontsize=10)\n",
    "axes[1].set_title(\"Validation\")\n",
    "# add 45 deg line\n",
    "x = np.linspace(*axes[1].get_xlim())\n",
    "axes[1].plot(x, x, color='red')\n",
    "\n",
    "# tight layout\n",
    "fig.tight_layout()\n",
    "\n",
    "# show the plot\n",
    "plt.show()"
   ]
  },
  {
   "cell_type": "code",
   "execution_count": 27,
   "metadata": {
    "colab": {
     "base_uri": "https://localhost:8080/",
     "height": 134
    },
    "colab_type": "code",
    "id": "IA0yApEmBG1X",
    "outputId": "cb981e1f-9204-4a2a-fece-9d66a6919189",
    "ExecuteTime": {
     "end_time": "2023-08-21T02:36:28.119770700Z",
     "start_time": "2023-08-21T02:36:24.059145300Z"
    }
   },
   "outputs": [
    {
     "name": "stdout",
     "output_type": "stream",
     "text": [
      "3077/3077 [==============================] - 3s 1ms/step\n",
      "[[100821.27 100586.38]\n",
      " [100021.31  99539.41]\n",
      " [ 68580.62  66058.25]\n",
      " ...\n",
      " [ 93812.07  97004.73]\n",
      " [ 79351.42  79968.45]\n",
      " [ 98301.36 100345.09]]\n"
     ]
    }
   ],
   "source": [
    "y_pred = ann.predict(X_test)\n",
    "np.set_printoptions(precision=2)\n",
    "print(np.concatenate((y_pred.reshape(len(y_pred),1), y_test.reshape(len(y_test),1)),1))"
   ]
  },
  {
   "cell_type": "code",
   "execution_count": null,
   "outputs": [],
   "source": [
    "df = pd.DataFrame(file).T\n",
    "df.to_excel(excel_writer = \"E:/PhD/Machine Learning/Pressure_paper1/Output_XGB.xlsx\")"
   ],
   "metadata": {
    "collapsed": false
   }
  },
  {
   "cell_type": "code",
   "execution_count": 28,
   "metadata": {
    "ExecuteTime": {
     "end_time": "2023-08-21T02:36:32.648012500Z",
     "start_time": "2023-08-21T02:36:32.093511900Z"
    }
   },
   "outputs": [
    {
     "data": {
      "text/plain": "Text(0, 0.5, 'Predicted data')"
     },
     "execution_count": 28,
     "metadata": {},
     "output_type": "execute_result"
    },
    {
     "data": {
      "text/plain": "<Figure size 640x480 with 1 Axes>",
      "image/png": "[encoded data removed]"
     },
     "metadata": {},
     "output_type": "display_data"
    }
   ],
   "source": [
    "import matplotlib.pyplot as plt\n",
    "plt.scatter(y_test, y_pred, color=\"blue\")\n",
    "plt.plot ( color = \"red\")\n",
    "plt.axis ()\n",
    "plt.xlabel ('Actual data')\n",
    "plt.ylabel ('Predicted data')"
   ]
  },
  {
   "cell_type": "code",
   "execution_count": 38,
   "metadata": {
    "ExecuteTime": {
     "end_time": "2023-08-22T02:04:40.211887Z",
     "start_time": "2023-08-22T02:04:39.054493600Z"
    }
   },
   "outputs": [
    {
     "data": {
      "text/plain": "<Figure size 900x900 with 1 Axes>",
      "image/png": "[encoded data removed]"
     },
     "metadata": {},
     "output_type": "display_data"
    }
   ],
   "source": [
    "from sklearn.metrics import r2_score\n",
    "# Initialize layout\n",
    "fig1, ax1 = plt.subplots(figsize = (9, 9))\n",
    "\n",
    "\n",
    "#y = y_pred         # Model on prvious line is called here\n",
    "#x = y_test\n",
    "\n",
    "\n",
    "\n",
    "# Add scatterplot\n",
    "ax1.scatter(y_test, y_pred, s=70, alpha=1, edgecolors=\"k\",c='mediumblue',zorder=5, label = 'Points')\n",
    "\n",
    "\n",
    "plt.ylabel('Predicted Incident Pressure (x $10^6$ Pa)',fontsize = 25)\n",
    "plt.xlabel('Actual Incident Pressure (x $10^6$ Pa)',fontsize = 25)\n",
    "plt.xticks(fontsize = 19)\n",
    "plt.yticks(fontsize = 19)\n",
    "\n",
    "\n",
    "x1 = np.linspace(0,8000000)\n",
    "\n",
    "plt.plot(x1, x1, 'Red', label='45\\N{DEGREE SIGN} line',lw=2.5,alpha=1)\n",
    "plt.plot(x1, 1.1*x1, '--m', label='\\u00B110% Error',lw=2.5,alpha=0.7)\n",
    "plt.plot(x1, 0.9*x1,'m', linestyle='--',lw=2.5,alpha=0.7)\n",
    "plt.plot(x1, 1.2*x1, '-.g', label='\\u00B120% Error',lw=2.5,alpha=0.7)\n",
    "plt.plot(x1, 0.8*x1,'-.g',lw=2.5,alpha=0.7)\n",
    "\n",
    "plt.ylim(0, 8000000)\n",
    "plt.xlim(0, 8000000)\n",
    "plt.legend(loc='upper left',fontsize = 25)\n",
    "\n",
    "plt.grid()\n",
    "\n",
    "ax1.spines['left'].set_color('black')        # setting up Y-axis tick color to red\n",
    "ax1.spines['bottom'].set_color('black')         #setting up above X-axis tick color to red\n",
    "\n",
    "\n",
    "\n",
    "#ax1.annotate(\"$R^2$ = {:.3f}\".format(r2), (2500, 1000),fontsize = 25)  #Model is called here\n",
    "#ax1.annotate(\"Adj.$R^2$ = {:.3f}\".format(adj_r2), (2500, 750),fontsize = 25)\n",
    "\n",
    "#plt.savefig('plot1.png', dpi = 600, bbox_inches = 'tight')"
   ]
  },
  {
   "cell_type": "code",
   "execution_count": 30,
   "metadata": {
    "ExecuteTime": {
     "end_time": "2023-08-21T02:37:12.380488500Z",
     "start_time": "2023-08-21T02:37:00.132803500Z"
    }
   },
   "outputs": [
    {
     "name": "stdout",
     "output_type": "stream",
     "text": [
      "9230/9230 [==============================] - 10s 1ms/step\n",
      "6190.178102035456\n",
      "6098.563746719584\n"
     ]
    }
   ],
   "source": [
    "trainpreds = ann.predict(X_train)\n",
    "\n",
    "from sklearn.metrics import mean_absolute_error\n",
    "print(mean_absolute_error(y_train, trainpreds)) # train\n",
    "print(mean_absolute_error(y_test, y_pred)) # test"
   ]
  },
  {
   "cell_type": "code",
   "execution_count": 31,
   "metadata": {
    "ExecuteTime": {
     "end_time": "2023-08-21T02:37:12.446689500Z",
     "start_time": "2023-08-21T02:37:12.376488900Z"
    }
   },
   "outputs": [
    {
     "name": "stdout",
     "output_type": "stream",
     "text": [
      "0.6201440936322092\n"
     ]
    }
   ],
   "source": [
    "from sklearn.metrics import r2_score\n",
    "r2 = r2_score(y_test, y_pred)\n",
    "print (r2)"
   ]
  },
  {
   "cell_type": "code",
   "execution_count": 32,
   "metadata": {
    "ExecuteTime": {
     "end_time": "2023-08-21T02:37:16.215887800Z",
     "start_time": "2023-08-21T02:37:16.156914500Z"
    }
   },
   "outputs": [
    {
     "name": "stdout",
     "output_type": "stream",
     "text": [
      "0.606250703820054\n"
     ]
    }
   ],
   "source": [
    "r2_train = r2_score(y_train, trainpreds)\n",
    "print (r2_train)"
   ]
  },
  {
   "cell_type": "code",
   "execution_count": 33,
   "metadata": {
    "ExecuteTime": {
     "end_time": "2023-08-21T02:37:23.439480400Z",
     "start_time": "2023-08-21T02:37:18.859831600Z"
    }
   },
   "outputs": [
    {
     "name": "stdout",
     "output_type": "stream",
     "text": [
      "Within 10% margin 90.12%\n",
      "Within 20% margin 97.10%\n",
      "Out of 20% margin 2.90%\n"
     ]
    }
   ],
   "source": [
    "count1 = 0\n",
    "for i in range(len(y_pred)):\n",
    "    line1 = y_pred[i] - 0.9*y_test[i]\n",
    "    line2 = y_pred[i] - 1.1*y_test[i]\n",
    "    #print ('line 1 ', line1)\n",
    "    #print ('line 2 ', line2)\n",
    "    mask1 = (line1 > 0) & (line2 < 0)\n",
    "    #print (mask)\n",
    "    count1 = np.sum(mask1+count1)\n",
    "    #print (count)\n",
    "\n",
    "count2 = 0\n",
    "for j in range(len(y_pred)):\n",
    "    line3 = y_pred[j] - 0.8*y_test[j]\n",
    "    line4 = y_pred[j] - 1.2*y_test[j]\n",
    "    mask2 = (line3 > 0) & (line4 < 0)\n",
    "    count2 = np.sum(mask2+count2)\n",
    "\n",
    "\n",
    "count3 = 0    \n",
    "for k in range(len(y_pred)):\n",
    "    line5 = y_pred[k] - 0.8*y_test[k]\n",
    "    line6 = y_pred[k] - 1.2*y_test[k]\n",
    "    mask3 = (line5 < 0) or (line6 > 0)\n",
    "    count3 = np.sum(mask3+count3)\n",
    "   \n",
    "\n",
    "print ('Within 10% margin', format((count1/len (y_pred)),'.2%'))\n",
    "print ('Within 20% margin', format((count2/len (y_pred)),'.2%'))\n",
    "print ('Out of 20% margin', format((count3/len (y_pred)),'.2%'))"
   ]
  },
  {
   "cell_type": "code",
   "execution_count": 34,
   "metadata": {
    "ExecuteTime": {
     "end_time": "2023-08-21T02:38:03.413336300Z",
     "start_time": "2023-08-21T02:38:03.347821200Z"
    }
   },
   "outputs": [
    {
     "name": "stdout",
     "output_type": "stream",
     "text": [
      "0.6201325172476553\n"
     ]
    }
   ],
   "source": [
    "adj_r2 = 1 - ((1 - r2) * (len(X_test) - 1) / (len(X_test) - len (X_test[0]) - 1))\n",
    "print (adj_r2)"
   ]
  },
  {
   "cell_type": "code",
   "execution_count": 35,
   "metadata": {
    "ExecuteTime": {
     "end_time": "2023-08-21T02:38:04.968746100Z",
     "start_time": "2023-08-21T02:38:04.911600500Z"
    }
   },
   "outputs": [
    {
     "data": {
      "text/plain": "59688.13406199908"
     },
     "execution_count": 35,
     "metadata": {},
     "output_type": "execute_result"
    }
   ],
   "source": [
    "import math\n",
    "from sklearn.metrics import mean_squared_error\n",
    "\n",
    "math.sqrt(mean_squared_error(y_test, y_pred))"
   ]
  },
  {
   "cell_type": "code",
   "execution_count": 36,
   "metadata": {
    "ExecuteTime": {
     "end_time": "2023-08-21T02:38:06.559161500Z",
     "start_time": "2023-08-21T02:38:06.515372300Z"
    }
   },
   "outputs": [
    {
     "data": {
      "text/plain": "6098.563746719584"
     },
     "execution_count": 36,
     "metadata": {},
     "output_type": "execute_result"
    }
   ],
   "source": [
    "from sklearn.metrics import mean_absolute_error\n",
    "\n",
    "mean_absolute_error(y_test, y_pred)"
   ]
  },
  {
   "cell_type": "code",
   "execution_count": 40,
   "outputs": [],
   "source": [
    "X_test_inverse = sc.inverse_transform(X_test)\n",
    "nparray = np.concatenate((X_test_inverse,y_pred.reshape(len(y_pred),1), y_test.reshape(len(y_test),1)),1)"
   ],
   "metadata": {
    "collapsed": false,
    "ExecuteTime": {
     "end_time": "2023-08-22T04:37:55.124490600Z",
     "start_time": "2023-08-22T04:37:55.008661900Z"
    }
   }
  },
  {
   "cell_type": "code",
   "execution_count": 41,
   "outputs": [],
   "source": [
    "np.savetxt(\"test_predictions.csv\", nparray, delimiter=\",\")"
   ],
   "metadata": {
    "collapsed": false,
    "ExecuteTime": {
     "end_time": "2023-08-22T04:38:08.528412700Z",
     "start_time": "2023-08-22T04:38:07.875914300Z"
    }
   }
  }
 ],
 "metadata": {
  "colab": {
   "collapsed_sections": [],
   "name": "Artificial Neural Network",
   "provenance": [],
   "toc_visible": true
  },
  "kernelspec": {
   "display_name": "Python 3 (ipykernel)",
   "language": "python",
   "name": "python3"
  },
  "language_info": {
   "codemirror_mode": {
    "name": "ipython",
    "version": 3
   },
   "file_extension": ".py",
   "mimetype": "text/x-python",
   "name": "python",
   "nbconvert_exporter": "python",
   "pygments_lexer": "ipython3",
   "version": "3.9.7"
  }
 },
 "nbformat": 4,
 "nbformat_minor": 4
}
