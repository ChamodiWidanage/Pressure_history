{
 "cells": [
  {
   "cell_type": "markdown",
   "source": [
    "# Part 1 - Data Preprocessing"
   ],
   "metadata": {
    "collapsed": false
   }
  },
  {
   "cell_type": "markdown",
   "source": [
    "### Importing the libraries"
   ],
   "metadata": {
    "collapsed": false
   }
  },
  {
   "cell_type": "code",
   "execution_count": 1,
   "metadata": {
    "colab": {},
    "colab_type": "code",
    "id": "lxChR1Rk-umf"
   },
   "outputs": [],
   "source": [
    "import numpy as np\n",
    "import pandas as pd\n",
    "import tensorflow as tf\n",
    "import matplotlib.pyplot as plt\n",
    "from keras.models import load_model"
   ]
  },
  {
   "cell_type": "markdown",
   "metadata": {
    "colab_type": "text",
    "id": "-4zq8Mza_D9O"
   },
   "source": [
    "### Importing the dataset"
   ]
  },
  {
   "cell_type": "code",
   "execution_count": 2,
   "metadata": {
    "colab": {},
    "colab_type": "code",
    "id": "B9CV13Co_HHM"
   },
   "outputs": [
    {
     "name": "stdout",
     "output_type": "stream",
     "text": [
      "<class 'pandas.core.frame.DataFrame'>\n",
      "RangeIndex: 576 entries, 0 to 575\n",
      "Data columns (total 4 columns):\n",
      " #   Column             Non-Null Count  Dtype  \n",
      "---  ------             --------------  -----  \n",
      " 0   Charge_mass        576 non-null    float64\n",
      " 1   Standoff_distance  576 non-null    int64  \n",
      " 2   End_time           576 non-null    float64\n",
      " 3   End_index          576 non-null    int64  \n",
      "dtypes: float64(2), int64(2)\n",
      "memory usage: 18.1 KB\n"
     ]
    }
   ],
   "source": [
    "dataset = pd.read_excel('End_time.xlsx')\n",
    "dataset.info()"
   ]
  },
  {
   "cell_type": "code",
   "execution_count": 3,
   "metadata": {},
   "outputs": [
    {
     "name": "stdout",
     "output_type": "stream",
     "text": [
      "(576, 2) (576,)\n"
     ]
    }
   ],
   "source": [
    "y = dataset['End_time']\n",
    "X = dataset.drop(['End_time','End_index'], axis=1)\n",
    "print(X.shape, y.shape)"
   ]
  },
  {
   "cell_type": "code",
   "execution_count": 4,
   "metadata": {},
   "outputs": [],
   "source": [
    "# convert to numpy array\n",
    "X = np.array(X)\n",
    "y = np.array(y)"
   ]
  },
  {
   "cell_type": "markdown",
   "metadata": {
    "colab_type": "text",
    "id": "VC6omXel_Up0"
   },
   "source": [
    "### Splitting the dataset into the Training set and Test set"
   ]
  },
  {
   "cell_type": "code",
   "execution_count": 5,
   "metadata": {
    "colab": {},
    "colab_type": "code",
    "id": "L5edeb2r_agx"
   },
   "outputs": [],
   "source": [
    "from sklearn.model_selection import train_test_split\n",
    "X_train, X_test, y_train, y_test = train_test_split(X,\n",
    "                                                    y,\n",
    "                                                    test_size = 0.3,\n",
    "                                                    random_state = 0)"
   ]
  },
  {
   "cell_type": "code",
   "execution_count": 6,
   "metadata": {
    "colab": {},
    "colab_type": "code",
    "id": "L5edeb2r_agx"
   },
   "outputs": [],
   "source": [
    "X_val, X_test, y_val, y_test = train_test_split(X_test,\n",
    "                                                y_test,\n",
    "                                                test_size = 0.5,\n",
    "                                                random_state = 0)"
   ]
  },
  {
   "cell_type": "markdown",
   "metadata": {
    "colab_type": "text",
    "id": "_mSLlAT9_eyI"
   },
   "source": [
    "# Part 2 - Building the ANN"
   ]
  },
  {
   "cell_type": "markdown",
   "metadata": {
    "colab_type": "text",
    "id": "CsBULd_f_wLY"
   },
   "source": [
    "### Initializing the ANN"
   ]
  },
  {
   "cell_type": "code",
   "execution_count": 7,
   "metadata": {
    "colab": {},
    "colab_type": "code",
    "id": "J6Hd97Ls__Nz"
   },
   "outputs": [],
   "source": [
    "ann = tf.keras.models.Sequential()"
   ]
  },
  {
   "cell_type": "markdown",
   "metadata": {
    "colab_type": "text",
    "id": "iitAFJS_ABUn"
   },
   "source": [
    "### Adding the input layer and the first hidden layer"
   ]
  },
  {
   "cell_type": "code",
   "execution_count": 8,
   "metadata": {
    "colab": {},
    "colab_type": "code",
    "id": "ksO_Vv40AHix"
   },
   "outputs": [],
   "source": [
    "ann.add(tf.keras.layers.Dense(units=75,\n",
    "                              input_shape=(X_train.shape[1],),\n",
    "                              activation='softplus'))"
   ]
  },
  {
   "cell_type": "markdown",
   "metadata": {
    "colab_type": "text",
    "id": "-lb4kK_wAKbs"
   },
   "source": [
    "### Adding the second hidden layer"
   ]
  },
  {
   "cell_type": "code",
   "execution_count": 9,
   "metadata": {
    "colab": {},
    "colab_type": "code",
    "id": "c2357OqEAQOQ",
    "tags": []
   },
   "outputs": [],
   "source": [
    "ann.add(tf.keras.layers.Dense(units=55,\n",
    "                              activation='softplus'))"
   ]
  },
  {
   "cell_type": "markdown",
   "metadata": {
    "colab_type": "text",
    "id": "-lb4kK_wAKbs"
   },
   "source": [
    "### Adding the third hidden layer"
   ]
  },
  {
   "cell_type": "code",
   "execution_count": 10,
   "metadata": {
    "colab": {},
    "colab_type": "code",
    "id": "c2357OqEAQOQ",
    "tags": []
   },
   "outputs": [],
   "source": [
    "ann.add(tf.keras.layers.Dense(units=35,\n",
    "                              activation='softplus'))"
   ]
  },
  {
   "cell_type": "markdown",
   "metadata": {
    "colab_type": "text",
    "id": "jwMOmKb3AdBY"
   },
   "source": [
    "### Adding the output layer"
   ]
  },
  {
   "cell_type": "code",
   "execution_count": 11,
   "metadata": {
    "colab": {},
    "colab_type": "code",
    "id": "YFATpzsUAkLL"
   },
   "outputs": [],
   "source": [
    "ann.add(tf.keras.layers.Dense(units=1,\n",
    "                              activation='linear'))"
   ]
  },
  {
   "cell_type": "markdown",
   "metadata": {},
   "source": [
    "### what model looks like"
   ]
  },
  {
   "cell_type": "code",
   "execution_count": 12,
   "metadata": {},
   "outputs": [
    {
     "name": "stdout",
     "output_type": "stream",
     "text": [
      "Model: \"sequential\"\n",
      "_________________________________________________________________\n",
      " Layer (type)                Output Shape              Param #   \n",
      "=================================================================\n",
      " dense (Dense)               (None, 75)                225       \n",
      "                                                                 \n",
      " dense_1 (Dense)             (None, 55)                4180      \n",
      "                                                                 \n",
      " dense_2 (Dense)             (None, 35)                1960      \n",
      "                                                                 \n",
      " dense_3 (Dense)             (None, 1)                 36        \n",
      "                                                                 \n",
      "=================================================================\n",
      "Total params: 6,401\n",
      "Trainable params: 6,401\n",
      "Non-trainable params: 0\n",
      "_________________________________________________________________\n"
     ]
    }
   ],
   "source": [
    "ann.summary()"
   ]
  },
  {
   "cell_type": "markdown",
   "metadata": {
    "colab_type": "text",
    "id": "fq7e4fF6A1yy"
   },
   "source": [
    "# Part 3 - Training the ANN"
   ]
  },
  {
   "cell_type": "markdown",
   "metadata": {
    "colab_type": "text",
    "id": "qDeylAs2An25"
   },
   "source": [
    "### Compiling the ANN"
   ]
  },
  {
   "cell_type": "code",
   "execution_count": 13,
   "metadata": {
    "colab": {},
    "colab_type": "code",
    "id": "pesgbWlCAtB4"
   },
   "outputs": [],
   "source": [
    "from tensorflow.keras.optimizers import Adam\n",
    "opt = Adam(learning_rate=0.01)\n",
    "ann.compile(optimizer = opt,\n",
    "            loss = 'mean_squared_error',\n",
    "            metrics = ['mae'])"
   ]
  },
  {
   "cell_type": "markdown",
   "metadata": {},
   "source": [
    "### early stopping callback"
   ]
  },
  {
   "cell_type": "code",
   "execution_count": 14,
   "metadata": {},
   "outputs": [],
   "source": [
    "# protects from unnecessary further training of the model if a particular metric does not continue to improve over a number of n epochs. In such a case, the model training would be automatically aborted.\n",
    "from keras.callbacks import EarlyStopping\n",
    "es = EarlyStopping(monitor='val_loss',\n",
    "                   mode='min',\n",
    "                   patience=50,\n",
    "                   restore_best_weights = True)"
   ]
  },
  {
   "cell_type": "markdown",
   "metadata": {
    "colab_type": "text",
    "id": "YjVuiybYOo7r"
   },
   "source": [
    "### Training the ANN model on the Training set"
   ]
  },
  {
   "cell_type": "code",
   "execution_count": 15,
   "metadata": {
    "colab": {
     "base_uri": "https://localhost:8080/",
     "height": 1000
    },
    "colab_type": "code",
    "id": "c_vV-tiiA5zn",
    "outputId": "4a2b6ee6-ed75-4698-9069-b250e613803f"
   },
   "outputs": [
    {
     "name": "stdout",
     "output_type": "stream",
     "text": [
      "Epoch 1/500\n",
      "11/11 [==============================] - 1s 17ms/step - loss: 4.6513 - mae: 1.4902 - val_loss: 0.6279 - val_mae: 0.7404\n",
      "Epoch 2/500\n",
      "11/11 [==============================] - 0s 6ms/step - loss: 0.1949 - mae: 0.3760 - val_loss: 0.0058 - val_mae: 0.0614\n",
      "Epoch 3/500\n",
      "11/11 [==============================] - 0s 5ms/step - loss: 0.0464 - mae: 0.1853 - val_loss: 0.0320 - val_mae: 0.1480\n",
      "Epoch 4/500\n",
      "11/11 [==============================] - 0s 5ms/step - loss: 0.0179 - mae: 0.1057 - val_loss: 0.0137 - val_mae: 0.1100\n",
      "Epoch 5/500\n",
      "11/11 [==============================] - 0s 6ms/step - loss: 0.0079 - mae: 0.0744 - val_loss: 0.0100 - val_mae: 0.0789\n",
      "Epoch 6/500\n",
      "11/11 [==============================] - 0s 5ms/step - loss: 0.0039 - mae: 0.0477 - val_loss: 0.0020 - val_mae: 0.0347\n",
      "Epoch 7/500\n",
      "11/11 [==============================] - 0s 7ms/step - loss: 0.0017 - mae: 0.0326 - val_loss: 0.0010 - val_mae: 0.0269\n",
      "Epoch 8/500\n",
      "11/11 [==============================] - 0s 6ms/step - loss: 8.0141e-04 - mae: 0.0218 - val_loss: 5.0695e-04 - val_mae: 0.0190\n",
      "Epoch 9/500\n",
      "11/11 [==============================] - 0s 5ms/step - loss: 4.7382e-04 - mae: 0.0176 - val_loss: 3.1556e-04 - val_mae: 0.0123\n",
      "Epoch 10/500\n",
      "11/11 [==============================] - 0s 6ms/step - loss: 3.1427e-04 - mae: 0.0133 - val_loss: 3.0753e-04 - val_mae: 0.0159\n",
      "Epoch 11/500\n",
      "11/11 [==============================] - 0s 6ms/step - loss: 2.6239e-04 - mae: 0.0125 - val_loss: 1.8536e-04 - val_mae: 0.0119\n",
      "Epoch 12/500\n",
      "11/11 [==============================] - 0s 4ms/step - loss: 1.9982e-04 - mae: 0.0117 - val_loss: 1.3455e-04 - val_mae: 0.0080\n",
      "Epoch 13/500\n",
      "11/11 [==============================] - 0s 5ms/step - loss: 1.6791e-04 - mae: 0.0101 - val_loss: 9.7856e-05 - val_mae: 0.0074\n",
      "Epoch 14/500\n",
      "11/11 [==============================] - 0s 6ms/step - loss: 1.3995e-04 - mae: 0.0088 - val_loss: 1.2443e-04 - val_mae: 0.0096\n",
      "Epoch 15/500\n",
      "11/11 [==============================] - 0s 7ms/step - loss: 1.1669e-04 - mae: 0.0083 - val_loss: 6.9096e-05 - val_mae: 0.0060\n",
      "Epoch 16/500\n",
      "11/11 [==============================] - 0s 6ms/step - loss: 9.2989e-05 - mae: 0.0074 - val_loss: 5.9362e-05 - val_mae: 0.0055\n",
      "Epoch 17/500\n",
      "11/11 [==============================] - 0s 6ms/step - loss: 8.8922e-05 - mae: 0.0071 - val_loss: 6.3445e-05 - val_mae: 0.0064\n",
      "Epoch 18/500\n",
      "11/11 [==============================] - 0s 6ms/step - loss: 8.0748e-05 - mae: 0.0067 - val_loss: 6.0989e-05 - val_mae: 0.0065\n",
      "Epoch 19/500\n",
      "11/11 [==============================] - 0s 6ms/step - loss: 6.7607e-05 - mae: 0.0063 - val_loss: 6.4114e-05 - val_mae: 0.0067\n",
      "Epoch 20/500\n",
      "11/11 [==============================] - 0s 6ms/step - loss: 8.3538e-05 - mae: 0.0075 - val_loss: 8.2744e-05 - val_mae: 0.0078\n",
      "Epoch 21/500\n",
      "11/11 [==============================] - 0s 5ms/step - loss: 7.8104e-05 - mae: 0.0071 - val_loss: 4.6685e-05 - val_mae: 0.0054\n",
      "Epoch 22/500\n",
      "11/11 [==============================] - 0s 4ms/step - loss: 6.3797e-05 - mae: 0.0065 - val_loss: 4.6995e-05 - val_mae: 0.0056\n",
      "Epoch 23/500\n",
      "11/11 [==============================] - 0s 5ms/step - loss: 6.1296e-05 - mae: 0.0062 - val_loss: 6.5237e-05 - val_mae: 0.0067\n",
      "Epoch 24/500\n",
      "11/11 [==============================] - 0s 6ms/step - loss: 5.5128e-05 - mae: 0.0060 - val_loss: 4.9671e-05 - val_mae: 0.0058\n",
      "Epoch 25/500\n",
      "11/11 [==============================] - 0s 5ms/step - loss: 4.8212e-05 - mae: 0.0056 - val_loss: 3.8130e-05 - val_mae: 0.0051\n",
      "Epoch 26/500\n",
      "11/11 [==============================] - 0s 6ms/step - loss: 4.3729e-05 - mae: 0.0052 - val_loss: 3.6047e-05 - val_mae: 0.0050\n",
      "Epoch 27/500\n",
      "11/11 [==============================] - 0s 6ms/step - loss: 4.1407e-05 - mae: 0.0052 - val_loss: 3.7468e-05 - val_mae: 0.0051\n",
      "Epoch 28/500\n",
      "11/11 [==============================] - 0s 7ms/step - loss: 3.9931e-05 - mae: 0.0052 - val_loss: 3.1333e-05 - val_mae: 0.0047\n",
      "Epoch 29/500\n",
      "11/11 [==============================] - 0s 6ms/step - loss: 3.8391e-05 - mae: 0.0051 - val_loss: 3.0395e-05 - val_mae: 0.0047\n",
      "Epoch 30/500\n",
      "11/11 [==============================] - 0s 6ms/step - loss: 3.8196e-05 - mae: 0.0049 - val_loss: 2.9747e-05 - val_mae: 0.0046\n",
      "Epoch 31/500\n",
      "11/11 [==============================] - 0s 6ms/step - loss: 3.6991e-05 - mae: 0.0049 - val_loss: 2.8684e-05 - val_mae: 0.0046\n",
      "Epoch 32/500\n",
      "11/11 [==============================] - 0s 6ms/step - loss: 3.8910e-05 - mae: 0.0051 - val_loss: 2.7505e-05 - val_mae: 0.0045\n",
      "Epoch 33/500\n",
      "11/11 [==============================] - 0s 5ms/step - loss: 3.5487e-05 - mae: 0.0048 - val_loss: 2.7204e-05 - val_mae: 0.0044\n",
      "Epoch 34/500\n",
      "11/11 [==============================] - 0s 7ms/step - loss: 3.2854e-05 - mae: 0.0046 - val_loss: 2.6609e-05 - val_mae: 0.0043\n",
      "Epoch 35/500\n",
      "11/11 [==============================] - 0s 5ms/step - loss: 3.4329e-05 - mae: 0.0047 - val_loss: 3.5241e-05 - val_mae: 0.0049\n",
      "Epoch 36/500\n",
      "11/11 [==============================] - 0s 6ms/step - loss: 3.5253e-05 - mae: 0.0048 - val_loss: 2.6684e-05 - val_mae: 0.0043\n",
      "Epoch 37/500\n",
      "11/11 [==============================] - 0s 5ms/step - loss: 3.4194e-05 - mae: 0.0046 - val_loss: 2.2665e-05 - val_mae: 0.0040\n",
      "Epoch 38/500\n",
      "11/11 [==============================] - 0s 5ms/step - loss: 3.0302e-05 - mae: 0.0044 - val_loss: 2.3905e-05 - val_mae: 0.0040\n",
      "Epoch 39/500\n",
      "11/11 [==============================] - 0s 6ms/step - loss: 2.9017e-05 - mae: 0.0043 - val_loss: 2.2733e-05 - val_mae: 0.0039\n",
      "Epoch 40/500\n",
      "11/11 [==============================] - 0s 6ms/step - loss: 2.7229e-05 - mae: 0.0042 - val_loss: 2.1446e-05 - val_mae: 0.0039\n",
      "Epoch 41/500\n",
      "11/11 [==============================] - 0s 5ms/step - loss: 2.8086e-05 - mae: 0.0043 - val_loss: 2.0698e-05 - val_mae: 0.0038\n",
      "Epoch 42/500\n",
      "11/11 [==============================] - 0s 6ms/step - loss: 2.7586e-05 - mae: 0.0041 - val_loss: 3.0313e-05 - val_mae: 0.0043\n",
      "Epoch 43/500\n",
      "11/11 [==============================] - 0s 5ms/step - loss: 2.8237e-05 - mae: 0.0041 - val_loss: 2.0607e-05 - val_mae: 0.0037\n",
      "Epoch 44/500\n",
      "11/11 [==============================] - 0s 5ms/step - loss: 2.9060e-05 - mae: 0.0042 - val_loss: 1.8831e-05 - val_mae: 0.0036\n",
      "Epoch 45/500\n",
      "11/11 [==============================] - 0s 11ms/step - loss: 2.6020e-05 - mae: 0.0041 - val_loss: 1.7976e-05 - val_mae: 0.0036\n",
      "Epoch 46/500\n",
      "11/11 [==============================] - 0s 5ms/step - loss: 2.5707e-05 - mae: 0.0040 - val_loss: 1.8121e-05 - val_mae: 0.0036\n",
      "Epoch 47/500\n",
      "11/11 [==============================] - 0s 5ms/step - loss: 2.3316e-05 - mae: 0.0039 - val_loss: 1.7138e-05 - val_mae: 0.0035\n",
      "Epoch 48/500\n",
      "11/11 [==============================] - 0s 5ms/step - loss: 2.3426e-05 - mae: 0.0039 - val_loss: 1.7746e-05 - val_mae: 0.0035\n",
      "Epoch 49/500\n",
      "11/11 [==============================] - 0s 6ms/step - loss: 2.6606e-05 - mae: 0.0041 - val_loss: 1.9771e-05 - val_mae: 0.0036\n",
      "Epoch 50/500\n",
      "11/11 [==============================] - 0s 5ms/step - loss: 2.5059e-05 - mae: 0.0038 - val_loss: 1.7301e-05 - val_mae: 0.0035\n",
      "Epoch 51/500\n",
      "11/11 [==============================] - 0s 6ms/step - loss: 2.2113e-05 - mae: 0.0037 - val_loss: 1.5969e-05 - val_mae: 0.0033\n",
      "Epoch 52/500\n",
      "11/11 [==============================] - 0s 6ms/step - loss: 2.2260e-05 - mae: 0.0036 - val_loss: 1.5991e-05 - val_mae: 0.0033\n",
      "Epoch 53/500\n",
      "11/11 [==============================] - 0s 6ms/step - loss: 2.2038e-05 - mae: 0.0037 - val_loss: 1.5776e-05 - val_mae: 0.0033\n",
      "Epoch 54/500\n",
      "11/11 [==============================] - 0s 7ms/step - loss: 2.0906e-05 - mae: 0.0037 - val_loss: 1.5756e-05 - val_mae: 0.0033\n",
      "Epoch 55/500\n",
      "11/11 [==============================] - 0s 6ms/step - loss: 2.2095e-05 - mae: 0.0038 - val_loss: 1.4907e-05 - val_mae: 0.0032\n",
      "Epoch 56/500\n",
      "11/11 [==============================] - 0s 5ms/step - loss: 2.0082e-05 - mae: 0.0036 - val_loss: 1.5383e-05 - val_mae: 0.0032\n",
      "Epoch 57/500\n",
      "11/11 [==============================] - 0s 5ms/step - loss: 1.8813e-05 - mae: 0.0034 - val_loss: 1.5619e-05 - val_mae: 0.0033\n",
      "Epoch 58/500\n",
      "11/11 [==============================] - 0s 5ms/step - loss: 1.9614e-05 - mae: 0.0035 - val_loss: 1.6023e-05 - val_mae: 0.0033\n",
      "Epoch 59/500\n",
      "11/11 [==============================] - 0s 6ms/step - loss: 1.9192e-05 - mae: 0.0035 - val_loss: 1.4669e-05 - val_mae: 0.0031\n",
      "Epoch 60/500\n",
      "11/11 [==============================] - 0s 6ms/step - loss: 1.9624e-05 - mae: 0.0035 - val_loss: 2.2236e-05 - val_mae: 0.0035\n",
      "Epoch 61/500\n",
      "11/11 [==============================] - 0s 5ms/step - loss: 1.9959e-05 - mae: 0.0034 - val_loss: 1.5040e-05 - val_mae: 0.0030\n",
      "Epoch 62/500\n",
      "11/11 [==============================] - 0s 5ms/step - loss: 1.8357e-05 - mae: 0.0034 - val_loss: 1.7067e-05 - val_mae: 0.0035\n",
      "Epoch 63/500\n",
      "11/11 [==============================] - 0s 6ms/step - loss: 1.9245e-05 - mae: 0.0035 - val_loss: 1.4157e-05 - val_mae: 0.0032\n",
      "Epoch 64/500\n",
      "11/11 [==============================] - 0s 5ms/step - loss: 1.7746e-05 - mae: 0.0033 - val_loss: 1.3105e-05 - val_mae: 0.0030\n",
      "Epoch 65/500\n",
      "11/11 [==============================] - 0s 5ms/step - loss: 1.6962e-05 - mae: 0.0032 - val_loss: 1.3153e-05 - val_mae: 0.0029\n",
      "Epoch 66/500\n",
      "11/11 [==============================] - 0s 5ms/step - loss: 1.7654e-05 - mae: 0.0033 - val_loss: 1.4797e-05 - val_mae: 0.0032\n",
      "Epoch 67/500\n",
      "11/11 [==============================] - 0s 6ms/step - loss: 1.7675e-05 - mae: 0.0033 - val_loss: 1.3259e-05 - val_mae: 0.0030\n",
      "Epoch 68/500\n",
      "11/11 [==============================] - 0s 6ms/step - loss: 1.8520e-05 - mae: 0.0034 - val_loss: 1.2642e-05 - val_mae: 0.0029\n",
      "Epoch 69/500\n",
      "11/11 [==============================] - 0s 5ms/step - loss: 1.6438e-05 - mae: 0.0032 - val_loss: 2.1207e-05 - val_mae: 0.0035\n",
      "Epoch 70/500\n",
      "11/11 [==============================] - 0s 5ms/step - loss: 2.0711e-05 - mae: 0.0035 - val_loss: 1.5031e-05 - val_mae: 0.0029\n",
      "Epoch 71/500\n",
      "11/11 [==============================] - 0s 5ms/step - loss: 1.6551e-05 - mae: 0.0032 - val_loss: 1.3095e-05 - val_mae: 0.0028\n",
      "Epoch 72/500\n",
      "11/11 [==============================] - 0s 6ms/step - loss: 1.8356e-05 - mae: 0.0033 - val_loss: 1.3375e-05 - val_mae: 0.0029\n",
      "Epoch 73/500\n",
      "11/11 [==============================] - 0s 5ms/step - loss: 1.5325e-05 - mae: 0.0030 - val_loss: 1.1793e-05 - val_mae: 0.0028\n",
      "Epoch 74/500\n",
      "11/11 [==============================] - 0s 6ms/step - loss: 1.4822e-05 - mae: 0.0030 - val_loss: 1.2357e-05 - val_mae: 0.0028\n",
      "Epoch 75/500\n",
      "11/11 [==============================] - 0s 6ms/step - loss: 1.5508e-05 - mae: 0.0031 - val_loss: 2.5260e-05 - val_mae: 0.0041\n",
      "Epoch 76/500\n",
      "11/11 [==============================] - 0s 5ms/step - loss: 2.5029e-05 - mae: 0.0040 - val_loss: 2.7172e-05 - val_mae: 0.0043\n",
      "Epoch 77/500\n",
      "11/11 [==============================] - 0s 5ms/step - loss: 1.9654e-05 - mae: 0.0036 - val_loss: 1.2662e-05 - val_mae: 0.0030\n",
      "Epoch 78/500\n",
      "11/11 [==============================] - 0s 5ms/step - loss: 1.4383e-05 - mae: 0.0031 - val_loss: 1.2342e-05 - val_mae: 0.0029\n",
      "Epoch 79/500\n",
      "11/11 [==============================] - 0s 6ms/step - loss: 1.4729e-05 - mae: 0.0030 - val_loss: 1.1846e-05 - val_mae: 0.0029\n",
      "Epoch 80/500\n",
      "11/11 [==============================] - 0s 5ms/step - loss: 1.3927e-05 - mae: 0.0030 - val_loss: 1.3936e-05 - val_mae: 0.0031\n",
      "Epoch 81/500\n",
      "11/11 [==============================] - 0s 6ms/step - loss: 1.5881e-05 - mae: 0.0032 - val_loss: 1.2173e-05 - val_mae: 0.0027\n",
      "Epoch 82/500\n",
      "11/11 [==============================] - 0s 6ms/step - loss: 1.3986e-05 - mae: 0.0029 - val_loss: 1.3014e-05 - val_mae: 0.0030\n",
      "Epoch 83/500\n",
      "11/11 [==============================] - 0s 6ms/step - loss: 1.5571e-05 - mae: 0.0031 - val_loss: 1.1273e-05 - val_mae: 0.0028\n",
      "Epoch 84/500\n",
      "11/11 [==============================] - 0s 6ms/step - loss: 1.4683e-05 - mae: 0.0030 - val_loss: 1.1222e-05 - val_mae: 0.0027\n",
      "Epoch 85/500\n",
      "11/11 [==============================] - 0s 7ms/step - loss: 1.3454e-05 - mae: 0.0029 - val_loss: 1.8184e-05 - val_mae: 0.0035\n",
      "Epoch 86/500\n",
      "11/11 [==============================] - 0s 5ms/step - loss: 1.6754e-05 - mae: 0.0032 - val_loss: 1.1911e-05 - val_mae: 0.0029\n",
      "Epoch 87/500\n",
      "11/11 [==============================] - 0s 6ms/step - loss: 1.3862e-05 - mae: 0.0030 - val_loss: 1.0881e-05 - val_mae: 0.0026\n",
      "Epoch 88/500\n",
      "11/11 [==============================] - 0s 5ms/step - loss: 1.2820e-05 - mae: 0.0029 - val_loss: 1.0396e-05 - val_mae: 0.0026\n",
      "Epoch 89/500\n",
      "11/11 [==============================] - 0s 6ms/step - loss: 1.3214e-05 - mae: 0.0029 - val_loss: 9.9840e-06 - val_mae: 0.0026\n",
      "Epoch 90/500\n",
      "11/11 [==============================] - 0s 6ms/step - loss: 1.2611e-05 - mae: 0.0028 - val_loss: 1.0858e-05 - val_mae: 0.0028\n",
      "Epoch 91/500\n",
      "11/11 [==============================] - 0s 6ms/step - loss: 1.2924e-05 - mae: 0.0028 - val_loss: 1.2601e-05 - val_mae: 0.0029\n",
      "Epoch 92/500\n",
      "11/11 [==============================] - 0s 5ms/step - loss: 1.2515e-05 - mae: 0.0028 - val_loss: 1.0369e-05 - val_mae: 0.0025\n",
      "Epoch 93/500\n",
      "11/11 [==============================] - 0s 6ms/step - loss: 1.3442e-05 - mae: 0.0028 - val_loss: 9.5649e-06 - val_mae: 0.0025\n",
      "Epoch 94/500\n",
      "11/11 [==============================] - 0s 5ms/step - loss: 1.4534e-05 - mae: 0.0030 - val_loss: 1.1944e-05 - val_mae: 0.0028\n",
      "Epoch 95/500\n",
      "11/11 [==============================] - 0s 6ms/step - loss: 1.2785e-05 - mae: 0.0027 - val_loss: 9.7283e-06 - val_mae: 0.0026\n",
      "Epoch 96/500\n",
      "11/11 [==============================] - 0s 6ms/step - loss: 1.1602e-05 - mae: 0.0027 - val_loss: 9.8033e-06 - val_mae: 0.0026\n",
      "Epoch 97/500\n",
      "11/11 [==============================] - 0s 6ms/step - loss: 1.2186e-05 - mae: 0.0027 - val_loss: 1.0323e-05 - val_mae: 0.0027\n",
      "Epoch 98/500\n",
      "11/11 [==============================] - 0s 5ms/step - loss: 1.2986e-05 - mae: 0.0028 - val_loss: 9.6552e-06 - val_mae: 0.0026\n",
      "Epoch 99/500\n",
      "11/11 [==============================] - 0s 5ms/step - loss: 1.1729e-05 - mae: 0.0027 - val_loss: 1.0181e-05 - val_mae: 0.0026\n",
      "Epoch 100/500\n",
      "11/11 [==============================] - 0s 6ms/step - loss: 1.1170e-05 - mae: 0.0026 - val_loss: 9.5625e-06 - val_mae: 0.0024\n",
      "Epoch 101/500\n",
      "11/11 [==============================] - 0s 5ms/step - loss: 1.1013e-05 - mae: 0.0026 - val_loss: 1.1300e-05 - val_mae: 0.0026\n",
      "Epoch 102/500\n",
      "11/11 [==============================] - 0s 5ms/step - loss: 1.1873e-05 - mae: 0.0027 - val_loss: 1.0916e-05 - val_mae: 0.0027\n",
      "Epoch 103/500\n",
      "11/11 [==============================] - 0s 5ms/step - loss: 1.3250e-05 - mae: 0.0030 - val_loss: 1.1492e-05 - val_mae: 0.0026\n",
      "Epoch 104/500\n",
      "11/11 [==============================] - 0s 6ms/step - loss: 1.3601e-05 - mae: 0.0029 - val_loss: 8.7117e-06 - val_mae: 0.0024\n",
      "Epoch 105/500\n",
      "11/11 [==============================] - 0s 5ms/step - loss: 1.0621e-05 - mae: 0.0026 - val_loss: 8.9312e-06 - val_mae: 0.0024\n",
      "Epoch 106/500\n",
      "11/11 [==============================] - 0s 6ms/step - loss: 1.0606e-05 - mae: 0.0025 - val_loss: 8.7082e-06 - val_mae: 0.0024\n",
      "Epoch 107/500\n",
      "11/11 [==============================] - 0s 6ms/step - loss: 1.0667e-05 - mae: 0.0026 - val_loss: 8.3815e-06 - val_mae: 0.0023\n",
      "Epoch 108/500\n",
      "11/11 [==============================] - 0s 6ms/step - loss: 1.1121e-05 - mae: 0.0026 - val_loss: 8.7502e-06 - val_mae: 0.0023\n",
      "Epoch 109/500\n",
      "11/11 [==============================] - 0s 6ms/step - loss: 1.0503e-05 - mae: 0.0025 - val_loss: 1.3646e-05 - val_mae: 0.0030\n",
      "Epoch 110/500\n",
      "11/11 [==============================] - 0s 5ms/step - loss: 1.2889e-05 - mae: 0.0028 - val_loss: 1.2578e-05 - val_mae: 0.0028\n",
      "Epoch 111/500\n",
      "11/11 [==============================] - 0s 5ms/step - loss: 1.1179e-05 - mae: 0.0026 - val_loss: 2.1714e-05 - val_mae: 0.0038\n",
      "Epoch 112/500\n",
      "11/11 [==============================] - 0s 5ms/step - loss: 1.4225e-05 - mae: 0.0030 - val_loss: 9.3060e-06 - val_mae: 0.0024\n",
      "Epoch 113/500\n",
      "11/11 [==============================] - 0s 5ms/step - loss: 1.0802e-05 - mae: 0.0026 - val_loss: 1.1379e-05 - val_mae: 0.0028\n",
      "Epoch 114/500\n",
      "11/11 [==============================] - 0s 6ms/step - loss: 1.2792e-05 - mae: 0.0028 - val_loss: 1.0361e-05 - val_mae: 0.0026\n",
      "Epoch 115/500\n",
      "11/11 [==============================] - 0s 6ms/step - loss: 9.5920e-06 - mae: 0.0025 - val_loss: 1.3425e-05 - val_mae: 0.0030\n",
      "Epoch 116/500\n",
      "11/11 [==============================] - 0s 6ms/step - loss: 1.1104e-05 - mae: 0.0027 - val_loss: 7.7263e-06 - val_mae: 0.0023\n",
      "Epoch 117/500\n",
      "11/11 [==============================] - 0s 5ms/step - loss: 9.4533e-06 - mae: 0.0024 - val_loss: 1.2837e-05 - val_mae: 0.0028\n",
      "Epoch 118/500\n",
      "11/11 [==============================] - 0s 5ms/step - loss: 1.1190e-05 - mae: 0.0027 - val_loss: 8.5544e-06 - val_mae: 0.0024\n",
      "Epoch 119/500\n",
      "11/11 [==============================] - 0s 6ms/step - loss: 1.0108e-05 - mae: 0.0025 - val_loss: 1.6905e-05 - val_mae: 0.0033\n",
      "Epoch 120/500\n",
      "11/11 [==============================] - 0s 6ms/step - loss: 1.3102e-05 - mae: 0.0029 - val_loss: 7.7878e-06 - val_mae: 0.0023\n",
      "Epoch 121/500\n",
      "11/11 [==============================] - 0s 6ms/step - loss: 9.4567e-06 - mae: 0.0024 - val_loss: 7.3738e-06 - val_mae: 0.0022\n",
      "Epoch 122/500\n",
      "11/11 [==============================] - 0s 6ms/step - loss: 9.6931e-06 - mae: 0.0024 - val_loss: 7.8157e-06 - val_mae: 0.0023\n",
      "Epoch 123/500\n",
      "11/11 [==============================] - 0s 5ms/step - loss: 9.2661e-06 - mae: 0.0024 - val_loss: 1.3705e-05 - val_mae: 0.0031\n",
      "Epoch 124/500\n",
      "11/11 [==============================] - 0s 5ms/step - loss: 1.0903e-05 - mae: 0.0026 - val_loss: 1.7851e-05 - val_mae: 0.0035\n",
      "Epoch 125/500\n",
      "11/11 [==============================] - 0s 5ms/step - loss: 1.3211e-05 - mae: 0.0029 - val_loss: 1.2796e-05 - val_mae: 0.0029\n",
      "Epoch 126/500\n",
      "11/11 [==============================] - 0s 5ms/step - loss: 9.2584e-06 - mae: 0.0024 - val_loss: 1.1367e-05 - val_mae: 0.0027\n",
      "Epoch 127/500\n",
      "11/11 [==============================] - 0s 6ms/step - loss: 1.1784e-05 - mae: 0.0027 - val_loss: 1.3531e-05 - val_mae: 0.0030\n",
      "Epoch 128/500\n",
      "11/11 [==============================] - 0s 5ms/step - loss: 9.4165e-06 - mae: 0.0024 - val_loss: 9.4721e-06 - val_mae: 0.0023\n",
      "Epoch 129/500\n",
      "11/11 [==============================] - 0s 6ms/step - loss: 1.1430e-05 - mae: 0.0026 - val_loss: 7.2849e-06 - val_mae: 0.0022\n",
      "Epoch 130/500\n",
      "11/11 [==============================] - 0s 5ms/step - loss: 7.8658e-06 - mae: 0.0022 - val_loss: 8.8718e-06 - val_mae: 0.0024\n",
      "Epoch 131/500\n",
      "11/11 [==============================] - 0s 5ms/step - loss: 9.7181e-06 - mae: 0.0025 - val_loss: 7.1815e-06 - val_mae: 0.0022\n",
      "Epoch 132/500\n",
      "11/11 [==============================] - 0s 8ms/step - loss: 1.0379e-05 - mae: 0.0025 - val_loss: 1.1118e-05 - val_mae: 0.0027\n",
      "Epoch 133/500\n",
      "11/11 [==============================] - 0s 5ms/step - loss: 8.8832e-06 - mae: 0.0023 - val_loss: 1.0181e-05 - val_mae: 0.0026\n",
      "Epoch 134/500\n",
      "11/11 [==============================] - 0s 6ms/step - loss: 8.8095e-06 - mae: 0.0023 - val_loss: 6.9595e-06 - val_mae: 0.0021\n",
      "Epoch 135/500\n",
      "11/11 [==============================] - 0s 6ms/step - loss: 8.0163e-06 - mae: 0.0022 - val_loss: 8.0301e-06 - val_mae: 0.0023\n",
      "Epoch 136/500\n",
      "11/11 [==============================] - 0s 6ms/step - loss: 7.0380e-06 - mae: 0.0021 - val_loss: 2.1107e-05 - val_mae: 0.0038\n",
      "Epoch 137/500\n",
      "11/11 [==============================] - 0s 5ms/step - loss: 1.1202e-05 - mae: 0.0026 - val_loss: 5.9971e-06 - val_mae: 0.0020\n",
      "Epoch 138/500\n",
      "11/11 [==============================] - 0s 6ms/step - loss: 7.7182e-06 - mae: 0.0022 - val_loss: 7.9232e-06 - val_mae: 0.0022\n",
      "Epoch 139/500\n",
      "11/11 [==============================] - 0s 5ms/step - loss: 7.4521e-06 - mae: 0.0022 - val_loss: 8.3566e-06 - val_mae: 0.0023\n",
      "Epoch 140/500\n",
      "11/11 [==============================] - 0s 5ms/step - loss: 7.6419e-06 - mae: 0.0021 - val_loss: 1.1767e-05 - val_mae: 0.0028\n",
      "Epoch 141/500\n",
      "11/11 [==============================] - 0s 5ms/step - loss: 1.1070e-05 - mae: 0.0026 - val_loss: 2.2101e-05 - val_mae: 0.0040\n",
      "Epoch 142/500\n",
      "11/11 [==============================] - 0s 5ms/step - loss: 8.4215e-06 - mae: 0.0023 - val_loss: 6.4820e-06 - val_mae: 0.0020\n",
      "Epoch 143/500\n",
      "11/11 [==============================] - 0s 5ms/step - loss: 7.0331e-06 - mae: 0.0021 - val_loss: 5.5955e-06 - val_mae: 0.0019\n",
      "Epoch 144/500\n",
      "11/11 [==============================] - 0s 5ms/step - loss: 6.7089e-06 - mae: 0.0020 - val_loss: 6.4066e-06 - val_mae: 0.0020\n",
      "Epoch 145/500\n",
      "11/11 [==============================] - 0s 5ms/step - loss: 6.7892e-06 - mae: 0.0021 - val_loss: 9.3725e-06 - val_mae: 0.0024\n",
      "Epoch 146/500\n",
      "11/11 [==============================] - 0s 6ms/step - loss: 8.1382e-06 - mae: 0.0022 - val_loss: 5.4183e-06 - val_mae: 0.0018\n",
      "Epoch 147/500\n",
      "11/11 [==============================] - 0s 6ms/step - loss: 7.8163e-06 - mae: 0.0022 - val_loss: 1.2101e-05 - val_mae: 0.0029\n",
      "Epoch 148/500\n",
      "11/11 [==============================] - 0s 5ms/step - loss: 7.7088e-06 - mae: 0.0022 - val_loss: 7.6319e-06 - val_mae: 0.0022\n",
      "Epoch 149/500\n",
      "11/11 [==============================] - 0s 5ms/step - loss: 6.0531e-06 - mae: 0.0020 - val_loss: 5.0831e-06 - val_mae: 0.0018\n",
      "Epoch 150/500\n",
      "11/11 [==============================] - 0s 6ms/step - loss: 5.8785e-06 - mae: 0.0019 - val_loss: 6.9665e-06 - val_mae: 0.0021\n",
      "Epoch 151/500\n",
      "11/11 [==============================] - 0s 6ms/step - loss: 6.7172e-06 - mae: 0.0020 - val_loss: 5.2094e-06 - val_mae: 0.0018\n",
      "Epoch 152/500\n",
      "11/11 [==============================] - 0s 6ms/step - loss: 5.7828e-06 - mae: 0.0019 - val_loss: 7.7732e-06 - val_mae: 0.0022\n",
      "Epoch 153/500\n",
      "11/11 [==============================] - 0s 5ms/step - loss: 6.2395e-06 - mae: 0.0019 - val_loss: 4.9421e-06 - val_mae: 0.0017\n",
      "Epoch 154/500\n",
      "11/11 [==============================] - 0s 5ms/step - loss: 5.4932e-06 - mae: 0.0019 - val_loss: 7.4190e-06 - val_mae: 0.0022\n",
      "Epoch 155/500\n",
      "11/11 [==============================] - 0s 5ms/step - loss: 6.5385e-06 - mae: 0.0020 - val_loss: 8.8905e-06 - val_mae: 0.0024\n",
      "Epoch 156/500\n",
      "11/11 [==============================] - 0s 5ms/step - loss: 6.8806e-06 - mae: 0.0021 - val_loss: 5.6045e-06 - val_mae: 0.0018\n",
      "Epoch 157/500\n",
      "11/11 [==============================] - 0s 6ms/step - loss: 6.3735e-06 - mae: 0.0020 - val_loss: 1.7726e-05 - val_mae: 0.0036\n",
      "Epoch 158/500\n",
      "11/11 [==============================] - 0s 6ms/step - loss: 1.5229e-05 - mae: 0.0032 - val_loss: 6.0555e-06 - val_mae: 0.0020\n",
      "Epoch 159/500\n",
      "11/11 [==============================] - 0s 6ms/step - loss: 5.9717e-06 - mae: 0.0019 - val_loss: 4.5404e-06 - val_mae: 0.0017\n",
      "Epoch 160/500\n",
      "11/11 [==============================] - 0s 5ms/step - loss: 6.3314e-06 - mae: 0.0020 - val_loss: 1.0726e-05 - val_mae: 0.0026\n",
      "Epoch 161/500\n",
      "11/11 [==============================] - 0s 5ms/step - loss: 6.7897e-06 - mae: 0.0021 - val_loss: 1.2468e-05 - val_mae: 0.0029\n",
      "Epoch 162/500\n",
      "11/11 [==============================] - 0s 5ms/step - loss: 8.2907e-06 - mae: 0.0023 - val_loss: 9.0032e-06 - val_mae: 0.0024\n",
      "Epoch 163/500\n",
      "11/11 [==============================] - 0s 5ms/step - loss: 8.3750e-06 - mae: 0.0023 - val_loss: 4.7446e-06 - val_mae: 0.0017\n",
      "Epoch 164/500\n",
      "11/11 [==============================] - 0s 5ms/step - loss: 6.0303e-06 - mae: 0.0020 - val_loss: 7.6351e-06 - val_mae: 0.0022\n",
      "Epoch 165/500\n",
      "11/11 [==============================] - 0s 5ms/step - loss: 6.6308e-06 - mae: 0.0020 - val_loss: 7.9563e-06 - val_mae: 0.0022\n",
      "Epoch 166/500\n",
      "11/11 [==============================] - 0s 6ms/step - loss: 5.4813e-06 - mae: 0.0018 - val_loss: 5.0918e-06 - val_mae: 0.0017\n",
      "Epoch 167/500\n",
      "11/11 [==============================] - 0s 6ms/step - loss: 5.2947e-06 - mae: 0.0018 - val_loss: 4.7143e-06 - val_mae: 0.0017\n",
      "Epoch 168/500\n",
      "11/11 [==============================] - 0s 6ms/step - loss: 5.3264e-06 - mae: 0.0018 - val_loss: 8.2017e-06 - val_mae: 0.0023\n",
      "Epoch 169/500\n",
      "11/11 [==============================] - 0s 6ms/step - loss: 5.3907e-06 - mae: 0.0018 - val_loss: 4.3445e-06 - val_mae: 0.0016\n",
      "Epoch 170/500\n",
      "11/11 [==============================] - 0s 8ms/step - loss: 4.6891e-06 - mae: 0.0017 - val_loss: 4.5161e-06 - val_mae: 0.0016\n",
      "Epoch 171/500\n",
      "11/11 [==============================] - 0s 5ms/step - loss: 5.0290e-06 - mae: 0.0017 - val_loss: 5.3255e-06 - val_mae: 0.0019\n",
      "Epoch 172/500\n",
      "11/11 [==============================] - 0s 6ms/step - loss: 6.6222e-06 - mae: 0.0020 - val_loss: 8.8392e-06 - val_mae: 0.0024\n",
      "Epoch 173/500\n",
      "11/11 [==============================] - 0s 5ms/step - loss: 6.7483e-06 - mae: 0.0020 - val_loss: 4.8913e-06 - val_mae: 0.0017\n",
      "Epoch 174/500\n",
      "11/11 [==============================] - 0s 5ms/step - loss: 4.2919e-06 - mae: 0.0016 - val_loss: 5.8173e-06 - val_mae: 0.0020\n",
      "Epoch 175/500\n",
      "11/11 [==============================] - 0s 5ms/step - loss: 6.9486e-06 - mae: 0.0021 - val_loss: 4.7365e-06 - val_mae: 0.0018\n",
      "Epoch 176/500\n",
      "11/11 [==============================] - 0s 5ms/step - loss: 5.5287e-06 - mae: 0.0019 - val_loss: 7.5086e-06 - val_mae: 0.0022\n",
      "Epoch 177/500\n",
      "11/11 [==============================] - 0s 5ms/step - loss: 7.5384e-06 - mae: 0.0022 - val_loss: 1.4562e-05 - val_mae: 0.0033\n",
      "Epoch 178/500\n",
      "11/11 [==============================] - 0s 5ms/step - loss: 6.9423e-06 - mae: 0.0021 - val_loss: 4.1950e-06 - val_mae: 0.0016\n",
      "Epoch 179/500\n",
      "11/11 [==============================] - 0s 5ms/step - loss: 5.5354e-06 - mae: 0.0019 - val_loss: 9.9608e-06 - val_mae: 0.0026\n",
      "Epoch 180/500\n",
      "11/11 [==============================] - 0s 7ms/step - loss: 1.0573e-05 - mae: 0.0026 - val_loss: 9.4680e-06 - val_mae: 0.0026\n",
      "Epoch 181/500\n",
      "11/11 [==============================] - 0s 5ms/step - loss: 7.6770e-06 - mae: 0.0022 - val_loss: 3.6039e-06 - val_mae: 0.0015\n",
      "Epoch 182/500\n",
      "11/11 [==============================] - 0s 5ms/step - loss: 6.0467e-06 - mae: 0.0019 - val_loss: 7.3186e-06 - val_mae: 0.0023\n",
      "Epoch 183/500\n",
      "11/11 [==============================] - 0s 5ms/step - loss: 7.9910e-06 - mae: 0.0023 - val_loss: 5.6619e-06 - val_mae: 0.0019\n",
      "Epoch 184/500\n",
      "11/11 [==============================] - 0s 5ms/step - loss: 4.6777e-06 - mae: 0.0017 - val_loss: 4.1775e-06 - val_mae: 0.0016\n",
      "Epoch 185/500\n",
      "11/11 [==============================] - 0s 6ms/step - loss: 4.2631e-06 - mae: 0.0016 - val_loss: 5.9383e-06 - val_mae: 0.0019\n",
      "Epoch 186/500\n",
      "11/11 [==============================] - 0s 4ms/step - loss: 4.7462e-06 - mae: 0.0017 - val_loss: 9.6274e-06 - val_mae: 0.0024\n",
      "Epoch 187/500\n",
      "11/11 [==============================] - 0s 4ms/step - loss: 4.6480e-06 - mae: 0.0017 - val_loss: 8.4102e-06 - val_mae: 0.0023\n",
      "Epoch 188/500\n",
      "11/11 [==============================] - 0s 4ms/step - loss: 4.3074e-06 - mae: 0.0016 - val_loss: 4.3268e-06 - val_mae: 0.0018\n",
      "Epoch 189/500\n",
      "11/11 [==============================] - 0s 5ms/step - loss: 4.1729e-06 - mae: 0.0016 - val_loss: 3.8214e-06 - val_mae: 0.0015\n",
      "Epoch 190/500\n",
      "11/11 [==============================] - 0s 5ms/step - loss: 3.7381e-06 - mae: 0.0015 - val_loss: 4.0792e-06 - val_mae: 0.0016\n",
      "Epoch 191/500\n",
      "11/11 [==============================] - 0s 4ms/step - loss: 3.7089e-06 - mae: 0.0015 - val_loss: 3.3736e-06 - val_mae: 0.0014\n",
      "Epoch 192/500\n",
      "11/11 [==============================] - 0s 5ms/step - loss: 3.6714e-06 - mae: 0.0015 - val_loss: 4.2742e-06 - val_mae: 0.0016\n",
      "Epoch 193/500\n",
      "11/11 [==============================] - 0s 6ms/step - loss: 3.9241e-06 - mae: 0.0016 - val_loss: 1.3321e-05 - val_mae: 0.0031\n",
      "Epoch 194/500\n",
      "11/11 [==============================] - 0s 5ms/step - loss: 8.1558e-06 - mae: 0.0023 - val_loss: 1.4726e-05 - val_mae: 0.0033\n",
      "Epoch 195/500\n",
      "11/11 [==============================] - 0s 5ms/step - loss: 4.9397e-06 - mae: 0.0017 - val_loss: 2.0247e-05 - val_mae: 0.0039\n",
      "Epoch 196/500\n",
      "11/11 [==============================] - 0s 5ms/step - loss: 1.1852e-05 - mae: 0.0028 - val_loss: 1.7071e-05 - val_mae: 0.0034\n",
      "Epoch 197/500\n",
      "11/11 [==============================] - 0s 5ms/step - loss: 5.8160e-06 - mae: 0.0019 - val_loss: 8.0497e-06 - val_mae: 0.0021\n",
      "Epoch 198/500\n",
      "11/11 [==============================] - 0s 5ms/step - loss: 5.7003e-06 - mae: 0.0019 - val_loss: 1.5631e-05 - val_mae: 0.0034\n",
      "Epoch 199/500\n",
      "11/11 [==============================] - 0s 4ms/step - loss: 8.6430e-06 - mae: 0.0024 - val_loss: 9.6810e-06 - val_mae: 0.0025\n",
      "Epoch 200/500\n",
      "11/11 [==============================] - 0s 4ms/step - loss: 5.4417e-06 - mae: 0.0019 - val_loss: 3.4471e-06 - val_mae: 0.0014\n",
      "Epoch 201/500\n",
      "11/11 [==============================] - 0s 5ms/step - loss: 4.1372e-06 - mae: 0.0016 - val_loss: 3.4746e-06 - val_mae: 0.0016\n",
      "Epoch 202/500\n",
      "11/11 [==============================] - 0s 5ms/step - loss: 3.5578e-06 - mae: 0.0015 - val_loss: 6.0001e-06 - val_mae: 0.0018\n",
      "Epoch 203/500\n",
      "11/11 [==============================] - 0s 5ms/step - loss: 4.6000e-06 - mae: 0.0017 - val_loss: 3.2225e-06 - val_mae: 0.0014\n",
      "Epoch 204/500\n",
      "11/11 [==============================] - 0s 5ms/step - loss: 3.5171e-06 - mae: 0.0015 - val_loss: 5.2267e-06 - val_mae: 0.0019\n",
      "Epoch 205/500\n",
      "11/11 [==============================] - 0s 5ms/step - loss: 4.1655e-06 - mae: 0.0016 - val_loss: 3.0913e-06 - val_mae: 0.0014\n",
      "Epoch 206/500\n",
      "11/11 [==============================] - 0s 5ms/step - loss: 3.5100e-06 - mae: 0.0014 - val_loss: 1.1383e-05 - val_mae: 0.0028\n",
      "Epoch 207/500\n",
      "11/11 [==============================] - 0s 4ms/step - loss: 1.1469e-05 - mae: 0.0027 - val_loss: 4.0993e-06 - val_mae: 0.0015\n",
      "Epoch 208/500\n",
      "11/11 [==============================] - 0s 5ms/step - loss: 4.2167e-06 - mae: 0.0016 - val_loss: 1.0793e-05 - val_mae: 0.0028\n",
      "Epoch 209/500\n",
      "11/11 [==============================] - 0s 5ms/step - loss: 7.0080e-06 - mae: 0.0021 - val_loss: 4.0634e-06 - val_mae: 0.0016\n",
      "Epoch 210/500\n",
      "11/11 [==============================] - 0s 5ms/step - loss: 2.9349e-06 - mae: 0.0014 - val_loss: 3.0327e-06 - val_mae: 0.0014\n",
      "Epoch 211/500\n",
      "11/11 [==============================] - 0s 4ms/step - loss: 3.0454e-06 - mae: 0.0013 - val_loss: 7.7942e-06 - val_mae: 0.0021\n",
      "Epoch 212/500\n",
      "11/11 [==============================] - 0s 5ms/step - loss: 4.8441e-06 - mae: 0.0017 - val_loss: 4.3618e-06 - val_mae: 0.0016\n",
      "Epoch 213/500\n",
      "11/11 [==============================] - 0s 6ms/step - loss: 3.6146e-06 - mae: 0.0015 - val_loss: 5.9800e-06 - val_mae: 0.0020\n",
      "Epoch 214/500\n",
      "11/11 [==============================] - 0s 5ms/step - loss: 3.3446e-06 - mae: 0.0015 - val_loss: 6.6745e-06 - val_mae: 0.0019\n",
      "Epoch 215/500\n",
      "11/11 [==============================] - 0s 5ms/step - loss: 3.1987e-06 - mae: 0.0014 - val_loss: 4.6017e-06 - val_mae: 0.0016\n",
      "Epoch 216/500\n",
      "11/11 [==============================] - 0s 6ms/step - loss: 3.6581e-06 - mae: 0.0015 - val_loss: 2.9425e-06 - val_mae: 0.0015\n",
      "Epoch 217/500\n",
      "11/11 [==============================] - 0s 5ms/step - loss: 4.1605e-06 - mae: 0.0016 - val_loss: 2.5799e-06 - val_mae: 0.0012\n",
      "Epoch 218/500\n",
      "11/11 [==============================] - 0s 4ms/step - loss: 2.6628e-06 - mae: 0.0013 - val_loss: 3.4547e-06 - val_mae: 0.0014\n",
      "Epoch 219/500\n",
      "11/11 [==============================] - 0s 5ms/step - loss: 2.7645e-06 - mae: 0.0013 - val_loss: 3.3187e-06 - val_mae: 0.0016\n",
      "Epoch 220/500\n",
      "11/11 [==============================] - 0s 4ms/step - loss: 2.7325e-06 - mae: 0.0013 - val_loss: 6.0799e-06 - val_mae: 0.0019\n",
      "Epoch 221/500\n",
      "11/11 [==============================] - 0s 6ms/step - loss: 3.3588e-06 - mae: 0.0014 - val_loss: 1.1104e-05 - val_mae: 0.0028\n",
      "Epoch 222/500\n",
      "11/11 [==============================] - 0s 4ms/step - loss: 5.7395e-06 - mae: 0.0019 - val_loss: 3.0489e-06 - val_mae: 0.0013\n",
      "Epoch 223/500\n",
      "11/11 [==============================] - 0s 4ms/step - loss: 2.6456e-06 - mae: 0.0012 - val_loss: 1.3486e-05 - val_mae: 0.0032\n",
      "Epoch 224/500\n",
      "11/11 [==============================] - 0s 4ms/step - loss: 7.9073e-06 - mae: 0.0024 - val_loss: 3.1897e-06 - val_mae: 0.0015\n",
      "Epoch 225/500\n",
      "11/11 [==============================] - 0s 4ms/step - loss: 3.9859e-06 - mae: 0.0016 - val_loss: 3.6362e-06 - val_mae: 0.0015\n",
      "Epoch 226/500\n",
      "11/11 [==============================] - 0s 4ms/step - loss: 2.6121e-06 - mae: 0.0013 - val_loss: 3.2989e-06 - val_mae: 0.0014\n",
      "Epoch 227/500\n",
      "11/11 [==============================] - 0s 4ms/step - loss: 3.5197e-06 - mae: 0.0015 - val_loss: 3.2658e-06 - val_mae: 0.0013\n",
      "Epoch 228/500\n",
      "11/11 [==============================] - 0s 4ms/step - loss: 2.4579e-06 - mae: 0.0012 - val_loss: 3.1693e-06 - val_mae: 0.0016\n",
      "Epoch 229/500\n",
      "11/11 [==============================] - 0s 4ms/step - loss: 2.9707e-06 - mae: 0.0014 - val_loss: 1.0285e-05 - val_mae: 0.0028\n",
      "Epoch 230/500\n",
      "11/11 [==============================] - 0s 4ms/step - loss: 6.1821e-06 - mae: 0.0020 - val_loss: 2.3897e-06 - val_mae: 0.0012\n",
      "Epoch 231/500\n",
      "11/11 [==============================] - 0s 4ms/step - loss: 3.3408e-06 - mae: 0.0015 - val_loss: 6.5595e-06 - val_mae: 0.0023\n",
      "Epoch 232/500\n",
      "11/11 [==============================] - 0s 5ms/step - loss: 4.2465e-06 - mae: 0.0016 - val_loss: 3.0696e-06 - val_mae: 0.0013\n",
      "Epoch 233/500\n",
      "11/11 [==============================] - 0s 4ms/step - loss: 3.0068e-06 - mae: 0.0014 - val_loss: 4.4956e-06 - val_mae: 0.0017\n",
      "Epoch 234/500\n",
      "11/11 [==============================] - 0s 5ms/step - loss: 2.3281e-06 - mae: 0.0012 - val_loss: 2.4167e-06 - val_mae: 0.0012\n",
      "Epoch 235/500\n",
      "11/11 [==============================] - 0s 4ms/step - loss: 2.5179e-06 - mae: 0.0012 - val_loss: 2.8626e-06 - val_mae: 0.0014\n",
      "Epoch 236/500\n",
      "11/11 [==============================] - 0s 4ms/step - loss: 3.4190e-06 - mae: 0.0014 - val_loss: 2.7054e-06 - val_mae: 0.0012\n",
      "Epoch 237/500\n",
      "11/11 [==============================] - 0s 4ms/step - loss: 2.1321e-06 - mae: 0.0011 - val_loss: 3.3193e-06 - val_mae: 0.0016\n",
      "Epoch 238/500\n",
      "11/11 [==============================] - 0s 4ms/step - loss: 2.6444e-06 - mae: 0.0013 - val_loss: 4.9395e-06 - val_mae: 0.0017\n",
      "Epoch 239/500\n",
      "11/11 [==============================] - 0s 5ms/step - loss: 2.9703e-06 - mae: 0.0013 - val_loss: 2.4677e-06 - val_mae: 0.0013\n",
      "Epoch 240/500\n",
      "11/11 [==============================] - 0s 5ms/step - loss: 2.4132e-06 - mae: 0.0012 - val_loss: 2.9878e-06 - val_mae: 0.0013\n",
      "Epoch 241/500\n",
      "11/11 [==============================] - 0s 4ms/step - loss: 3.0251e-06 - mae: 0.0014 - val_loss: 7.7951e-06 - val_mae: 0.0025\n",
      "Epoch 242/500\n",
      "11/11 [==============================] - 0s 5ms/step - loss: 3.9323e-06 - mae: 0.0016 - val_loss: 2.5822e-06 - val_mae: 0.0014\n",
      "Epoch 243/500\n",
      "11/11 [==============================] - 0s 4ms/step - loss: 2.5440e-06 - mae: 0.0012 - val_loss: 2.3192e-06 - val_mae: 0.0012\n",
      "Epoch 244/500\n",
      "11/11 [==============================] - 0s 4ms/step - loss: 2.3965e-06 - mae: 0.0012 - val_loss: 3.6474e-06 - val_mae: 0.0017\n",
      "Epoch 245/500\n",
      "11/11 [==============================] - 0s 4ms/step - loss: 2.8537e-06 - mae: 0.0013 - val_loss: 5.4040e-06 - val_mae: 0.0016\n",
      "Epoch 246/500\n",
      "11/11 [==============================] - 0s 4ms/step - loss: 3.5861e-06 - mae: 0.0015 - val_loss: 2.3982e-06 - val_mae: 0.0013\n",
      "Epoch 247/500\n",
      "11/11 [==============================] - 0s 4ms/step - loss: 2.1471e-06 - mae: 0.0011 - val_loss: 2.7785e-06 - val_mae: 0.0013\n",
      "Epoch 248/500\n",
      "11/11 [==============================] - 0s 4ms/step - loss: 3.5928e-06 - mae: 0.0015 - val_loss: 2.5444e-06 - val_mae: 0.0014\n",
      "Epoch 249/500\n",
      "11/11 [==============================] - 0s 4ms/step - loss: 3.0627e-06 - mae: 0.0014 - val_loss: 3.7850e-06 - val_mae: 0.0014\n",
      "Epoch 250/500\n",
      "11/11 [==============================] - 0s 4ms/step - loss: 3.6150e-06 - mae: 0.0015 - val_loss: 6.9755e-06 - val_mae: 0.0023\n",
      "Epoch 251/500\n",
      "11/11 [==============================] - 0s 4ms/step - loss: 4.6131e-06 - mae: 0.0017 - val_loss: 5.5445e-06 - val_mae: 0.0019\n",
      "Epoch 252/500\n",
      "11/11 [==============================] - 0s 5ms/step - loss: 2.4943e-06 - mae: 0.0012 - val_loss: 2.2320e-06 - val_mae: 0.0013\n",
      "Epoch 253/500\n",
      "11/11 [==============================] - 0s 4ms/step - loss: 2.4840e-06 - mae: 0.0012 - val_loss: 5.6612e-06 - val_mae: 0.0021\n",
      "Epoch 254/500\n",
      "11/11 [==============================] - 0s 4ms/step - loss: 4.1610e-06 - mae: 0.0016 - val_loss: 8.2595e-06 - val_mae: 0.0025\n",
      "Epoch 255/500\n",
      "11/11 [==============================] - 0s 4ms/step - loss: 4.3550e-06 - mae: 0.0016 - val_loss: 2.7324e-06 - val_mae: 0.0013\n",
      "Epoch 256/500\n",
      "11/11 [==============================] - 0s 4ms/step - loss: 2.5700e-06 - mae: 0.0013 - val_loss: 2.3406e-06 - val_mae: 0.0014\n",
      "Epoch 257/500\n",
      "11/11 [==============================] - 0s 4ms/step - loss: 2.1933e-06 - mae: 0.0011 - val_loss: 2.1959e-06 - val_mae: 0.0013\n",
      "Epoch 258/500\n",
      "11/11 [==============================] - 0s 4ms/step - loss: 2.9043e-06 - mae: 0.0014 - val_loss: 2.1636e-06 - val_mae: 0.0012\n",
      "Epoch 259/500\n",
      "11/11 [==============================] - 0s 4ms/step - loss: 3.2676e-06 - mae: 0.0014 - val_loss: 2.7245e-06 - val_mae: 0.0015\n",
      "Epoch 260/500\n",
      "11/11 [==============================] - 0s 4ms/step - loss: 2.3594e-06 - mae: 0.0012 - val_loss: 7.8669e-06 - val_mae: 0.0022\n",
      "Epoch 261/500\n",
      "11/11 [==============================] - 0s 4ms/step - loss: 4.2017e-06 - mae: 0.0016 - val_loss: 2.0898e-06 - val_mae: 0.0011\n",
      "Epoch 262/500\n",
      "11/11 [==============================] - 0s 4ms/step - loss: 2.2433e-06 - mae: 0.0012 - val_loss: 2.7524e-06 - val_mae: 0.0015\n",
      "Epoch 263/500\n",
      "11/11 [==============================] - 0s 4ms/step - loss: 2.3745e-06 - mae: 0.0012 - val_loss: 2.8645e-06 - val_mae: 0.0015\n",
      "Epoch 264/500\n",
      "11/11 [==============================] - 0s 4ms/step - loss: 2.1320e-06 - mae: 0.0011 - val_loss: 3.5588e-06 - val_mae: 0.0014\n",
      "Epoch 265/500\n",
      "11/11 [==============================] - 0s 5ms/step - loss: 2.4094e-06 - mae: 0.0012 - val_loss: 3.8312e-06 - val_mae: 0.0016\n",
      "Epoch 266/500\n",
      "11/11 [==============================] - 0s 4ms/step - loss: 3.3604e-06 - mae: 0.0014 - val_loss: 2.9011e-06 - val_mae: 0.0015\n",
      "Epoch 267/500\n",
      "11/11 [==============================] - 0s 4ms/step - loss: 1.9863e-06 - mae: 0.0011 - val_loss: 1.9857e-06 - val_mae: 0.0012\n",
      "Epoch 268/500\n",
      "11/11 [==============================] - 0s 4ms/step - loss: 1.8714e-06 - mae: 0.0011 - val_loss: 6.8065e-06 - val_mae: 0.0021\n",
      "Epoch 269/500\n",
      "11/11 [==============================] - 0s 4ms/step - loss: 5.1893e-06 - mae: 0.0018 - val_loss: 2.1980e-06 - val_mae: 0.0011\n",
      "Epoch 270/500\n",
      "11/11 [==============================] - 0s 4ms/step - loss: 4.2760e-06 - mae: 0.0016 - val_loss: 1.7979e-05 - val_mae: 0.0040\n",
      "Epoch 271/500\n",
      "11/11 [==============================] - 0s 4ms/step - loss: 6.4200e-06 - mae: 0.0020 - val_loss: 2.4618e-05 - val_mae: 0.0047\n",
      "Epoch 272/500\n",
      "11/11 [==============================] - 0s 4ms/step - loss: 1.1195e-05 - mae: 0.0028 - val_loss: 3.2719e-06 - val_mae: 0.0015\n",
      "Epoch 273/500\n",
      "11/11 [==============================] - 0s 4ms/step - loss: 7.1210e-06 - mae: 0.0022 - val_loss: 3.9041e-05 - val_mae: 0.0059\n",
      "Epoch 274/500\n",
      "11/11 [==============================] - 0s 5ms/step - loss: 1.6522e-05 - mae: 0.0033 - val_loss: 4.8405e-06 - val_mae: 0.0015\n",
      "Epoch 275/500\n",
      "11/11 [==============================] - 0s 4ms/step - loss: 8.9756e-06 - mae: 0.0024 - val_loss: 2.3601e-06 - val_mae: 0.0012\n",
      "Epoch 276/500\n",
      "11/11 [==============================] - 0s 5ms/step - loss: 2.6031e-06 - mae: 0.0013 - val_loss: 5.4575e-06 - val_mae: 0.0020\n",
      "Epoch 277/500\n",
      "11/11 [==============================] - 0s 4ms/step - loss: 4.5246e-06 - mae: 0.0017 - val_loss: 2.0133e-06 - val_mae: 0.0011\n",
      "Epoch 278/500\n",
      "11/11 [==============================] - 0s 4ms/step - loss: 2.0785e-06 - mae: 0.0011 - val_loss: 1.3513e-05 - val_mae: 0.0032\n",
      "Epoch 279/500\n",
      "11/11 [==============================] - 0s 4ms/step - loss: 4.5122e-06 - mae: 0.0017 - val_loss: 6.7069e-06 - val_mae: 0.0021\n",
      "Epoch 280/500\n",
      "11/11 [==============================] - 0s 4ms/step - loss: 3.8384e-06 - mae: 0.0016 - val_loss: 2.1357e-06 - val_mae: 0.0012\n",
      "Epoch 281/500\n",
      "11/11 [==============================] - 0s 4ms/step - loss: 3.5644e-06 - mae: 0.0015 - val_loss: 6.2882e-06 - val_mae: 0.0022\n",
      "Epoch 282/500\n",
      "11/11 [==============================] - 0s 5ms/step - loss: 3.4713e-06 - mae: 0.0015 - val_loss: 1.7341e-06 - val_mae: 0.0010\n",
      "Epoch 283/500\n",
      "11/11 [==============================] - 0s 4ms/step - loss: 1.8907e-06 - mae: 0.0011 - val_loss: 7.8800e-06 - val_mae: 0.0025\n",
      "Epoch 284/500\n",
      "11/11 [==============================] - 0s 4ms/step - loss: 4.8862e-06 - mae: 0.0018 - val_loss: 4.2114e-06 - val_mae: 0.0016\n",
      "Epoch 285/500\n",
      "11/11 [==============================] - 0s 5ms/step - loss: 4.8165e-06 - mae: 0.0018 - val_loss: 1.7810e-05 - val_mae: 0.0038\n",
      "Epoch 286/500\n",
      "11/11 [==============================] - 0s 4ms/step - loss: 6.7907e-06 - mae: 0.0022 - val_loss: 1.5572e-05 - val_mae: 0.0035\n",
      "Epoch 287/500\n",
      "11/11 [==============================] - 0s 4ms/step - loss: 5.5960e-06 - mae: 0.0018 - val_loss: 1.8097e-05 - val_mae: 0.0037\n",
      "Epoch 288/500\n",
      "11/11 [==============================] - 0s 4ms/step - loss: 8.7967e-06 - mae: 0.0024 - val_loss: 5.5110e-06 - val_mae: 0.0017\n",
      "Epoch 289/500\n",
      "11/11 [==============================] - 0s 4ms/step - loss: 3.7931e-06 - mae: 0.0015 - val_loss: 2.1553e-06 - val_mae: 0.0013\n",
      "Epoch 290/500\n",
      "11/11 [==============================] - 0s 4ms/step - loss: 6.6367e-06 - mae: 0.0021 - val_loss: 1.9321e-05 - val_mae: 0.0041\n",
      "Epoch 291/500\n",
      "11/11 [==============================] - 0s 4ms/step - loss: 9.3910e-06 - mae: 0.0027 - val_loss: 1.9351e-06 - val_mae: 0.0012\n",
      "Epoch 292/500\n",
      "11/11 [==============================] - 0s 4ms/step - loss: 2.3731e-06 - mae: 0.0013 - val_loss: 3.6055e-06 - val_mae: 0.0017\n",
      "Epoch 293/500\n",
      "11/11 [==============================] - 0s 4ms/step - loss: 5.1993e-06 - mae: 0.0019 - val_loss: 2.2276e-06 - val_mae: 0.0011\n",
      "Epoch 294/500\n",
      "11/11 [==============================] - 0s 4ms/step - loss: 6.8681e-06 - mae: 0.0021 - val_loss: 1.7872e-06 - val_mae: 0.0011\n",
      "Epoch 295/500\n",
      "11/11 [==============================] - 0s 4ms/step - loss: 5.5226e-06 - mae: 0.0018 - val_loss: 1.0194e-05 - val_mae: 0.0027\n",
      "Epoch 296/500\n",
      "11/11 [==============================] - 0s 5ms/step - loss: 6.1671e-06 - mae: 0.0021 - val_loss: 1.3506e-05 - val_mae: 0.0033\n",
      "Epoch 297/500\n",
      "11/11 [==============================] - 0s 4ms/step - loss: 5.2382e-06 - mae: 0.0018 - val_loss: 2.3776e-05 - val_mae: 0.0044\n",
      "Epoch 298/500\n",
      "11/11 [==============================] - 0s 4ms/step - loss: 1.1243e-05 - mae: 0.0029 - val_loss: 3.6668e-05 - val_mae: 0.0057\n",
      "Epoch 299/500\n",
      "11/11 [==============================] - 0s 5ms/step - loss: 8.8323e-06 - mae: 0.0023 - val_loss: 1.6717e-06 - val_mae: 0.0011\n",
      "Epoch 300/500\n",
      "11/11 [==============================] - 0s 4ms/step - loss: 2.6596e-06 - mae: 0.0013 - val_loss: 1.0293e-05 - val_mae: 0.0028\n",
      "Epoch 301/500\n",
      "11/11 [==============================] - 0s 4ms/step - loss: 4.3673e-06 - mae: 0.0017 - val_loss: 2.1487e-06 - val_mae: 0.0013\n",
      "Epoch 302/500\n",
      "11/11 [==============================] - 0s 4ms/step - loss: 1.9330e-06 - mae: 0.0011 - val_loss: 4.9464e-06 - val_mae: 0.0019\n",
      "Epoch 303/500\n",
      "11/11 [==============================] - 0s 4ms/step - loss: 3.6223e-06 - mae: 0.0015 - val_loss: 2.7224e-06 - val_mae: 0.0015\n",
      "Epoch 304/500\n",
      "11/11 [==============================] - 0s 5ms/step - loss: 2.5090e-06 - mae: 0.0013 - val_loss: 1.5654e-06 - val_mae: 0.0011\n",
      "Epoch 305/500\n",
      "11/11 [==============================] - 0s 4ms/step - loss: 1.4531e-06 - mae: 9.0685e-04 - val_loss: 1.5281e-06 - val_mae: 9.8767e-04\n",
      "Epoch 306/500\n",
      "11/11 [==============================] - 0s 4ms/step - loss: 1.5011e-06 - mae: 9.4046e-04 - val_loss: 6.5311e-06 - val_mae: 0.0023\n",
      "Epoch 307/500\n",
      "11/11 [==============================] - 0s 5ms/step - loss: 5.0161e-06 - mae: 0.0019 - val_loss: 3.7684e-06 - val_mae: 0.0017\n",
      "Epoch 308/500\n",
      "11/11 [==============================] - 0s 4ms/step - loss: 3.6148e-06 - mae: 0.0015 - val_loss: 1.2714e-05 - val_mae: 0.0033\n",
      "Epoch 309/500\n",
      "11/11 [==============================] - 0s 4ms/step - loss: 4.3297e-06 - mae: 0.0016 - val_loss: 6.0773e-06 - val_mae: 0.0022\n",
      "Epoch 310/500\n",
      "11/11 [==============================] - 0s 7ms/step - loss: 2.9989e-06 - mae: 0.0013 - val_loss: 2.7848e-06 - val_mae: 0.0013\n",
      "Epoch 311/500\n",
      "11/11 [==============================] - 0s 4ms/step - loss: 1.7849e-06 - mae: 0.0010 - val_loss: 4.2163e-06 - val_mae: 0.0017\n",
      "Epoch 312/500\n",
      "11/11 [==============================] - 0s 5ms/step - loss: 4.9434e-06 - mae: 0.0018 - val_loss: 9.3604e-06 - val_mae: 0.0027\n",
      "Epoch 313/500\n",
      "11/11 [==============================] - 0s 4ms/step - loss: 4.2179e-06 - mae: 0.0017 - val_loss: 3.2545e-06 - val_mae: 0.0014\n",
      "Epoch 314/500\n",
      "11/11 [==============================] - 0s 4ms/step - loss: 5.3053e-06 - mae: 0.0019 - val_loss: 1.7158e-06 - val_mae: 0.0010\n",
      "Epoch 315/500\n",
      "11/11 [==============================] - 0s 5ms/step - loss: 2.5078e-06 - mae: 0.0013 - val_loss: 2.9881e-05 - val_mae: 0.0053\n",
      "Epoch 316/500\n",
      "11/11 [==============================] - 0s 4ms/step - loss: 1.2795e-05 - mae: 0.0030 - val_loss: 3.4764e-06 - val_mae: 0.0014\n",
      "Epoch 317/500\n",
      "11/11 [==============================] - 0s 4ms/step - loss: 1.9934e-06 - mae: 0.0011 - val_loss: 2.9505e-06 - val_mae: 0.0012\n",
      "Epoch 318/500\n",
      "11/11 [==============================] - 0s 4ms/step - loss: 2.4289e-06 - mae: 0.0012 - val_loss: 2.8668e-06 - val_mae: 0.0012\n",
      "Epoch 319/500\n",
      "11/11 [==============================] - 0s 4ms/step - loss: 2.4081e-06 - mae: 0.0012 - val_loss: 2.0152e-06 - val_mae: 0.0011\n",
      "Epoch 320/500\n",
      "11/11 [==============================] - 0s 4ms/step - loss: 3.0688e-06 - mae: 0.0014 - val_loss: 2.2007e-05 - val_mae: 0.0045\n",
      "Epoch 321/500\n",
      "11/11 [==============================] - 0s 5ms/step - loss: 9.2588e-06 - mae: 0.0026 - val_loss: 4.5530e-06 - val_mae: 0.0018\n",
      "Epoch 322/500\n",
      "11/11 [==============================] - 0s 4ms/step - loss: 3.1048e-06 - mae: 0.0014 - val_loss: 1.9640e-06 - val_mae: 0.0012\n",
      "Epoch 323/500\n",
      "11/11 [==============================] - 0s 5ms/step - loss: 1.8026e-06 - mae: 0.0011 - val_loss: 1.5156e-06 - val_mae: 9.9642e-04\n",
      "Epoch 324/500\n",
      "11/11 [==============================] - 0s 4ms/step - loss: 1.4688e-06 - mae: 9.3435e-04 - val_loss: 1.3734e-06 - val_mae: 8.5758e-04\n",
      "Epoch 325/500\n",
      "11/11 [==============================] - 0s 4ms/step - loss: 2.0234e-06 - mae: 0.0011 - val_loss: 3.0812e-06 - val_mae: 0.0012\n",
      "Epoch 326/500\n",
      "11/11 [==============================] - 0s 5ms/step - loss: 2.8239e-06 - mae: 0.0013 - val_loss: 7.3276e-06 - val_mae: 0.0025\n",
      "Epoch 327/500\n",
      "11/11 [==============================] - 0s 4ms/step - loss: 9.7929e-06 - mae: 0.0026 - val_loss: 1.1214e-05 - val_mae: 0.0029\n",
      "Epoch 328/500\n",
      "11/11 [==============================] - 0s 4ms/step - loss: 4.8639e-06 - mae: 0.0018 - val_loss: 5.7507e-06 - val_mae: 0.0020\n",
      "Epoch 329/500\n",
      "11/11 [==============================] - 0s 4ms/step - loss: 7.9095e-06 - mae: 0.0024 - val_loss: 1.8737e-06 - val_mae: 0.0011\n",
      "Epoch 330/500\n",
      "11/11 [==============================] - 0s 4ms/step - loss: 2.5934e-06 - mae: 0.0013 - val_loss: 1.3774e-06 - val_mae: 8.6275e-04\n",
      "Epoch 331/500\n",
      "11/11 [==============================] - 0s 4ms/step - loss: 2.6114e-06 - mae: 0.0013 - val_loss: 1.9117e-06 - val_mae: 9.6874e-04\n",
      "Epoch 332/500\n",
      "11/11 [==============================] - 0s 4ms/step - loss: 2.0814e-06 - mae: 0.0011 - val_loss: 1.1076e-05 - val_mae: 0.0029\n",
      "Epoch 333/500\n",
      "11/11 [==============================] - 0s 4ms/step - loss: 8.1982e-06 - mae: 0.0024 - val_loss: 2.1835e-05 - val_mae: 0.0043\n",
      "Epoch 334/500\n",
      "11/11 [==============================] - 0s 4ms/step - loss: 1.1719e-05 - mae: 0.0029 - val_loss: 1.5863e-06 - val_mae: 0.0010\n",
      "Epoch 335/500\n",
      "11/11 [==============================] - 0s 4ms/step - loss: 7.7998e-06 - mae: 0.0022 - val_loss: 3.0708e-06 - val_mae: 0.0015\n",
      "Epoch 336/500\n",
      "11/11 [==============================] - 0s 4ms/step - loss: 2.0618e-06 - mae: 0.0011 - val_loss: 1.5535e-06 - val_mae: 0.0010\n",
      "Epoch 337/500\n",
      "11/11 [==============================] - 0s 4ms/step - loss: 4.1263e-06 - mae: 0.0017 - val_loss: 4.0386e-05 - val_mae: 0.0059\n",
      "Epoch 338/500\n",
      "11/11 [==============================] - 0s 5ms/step - loss: 3.4605e-05 - mae: 0.0050 - val_loss: 1.0402e-04 - val_mae: 0.0093\n",
      "Epoch 339/500\n",
      "11/11 [==============================] - 0s 4ms/step - loss: 4.4317e-05 - mae: 0.0053 - val_loss: 1.2508e-05 - val_mae: 0.0029\n",
      "Epoch 340/500\n",
      "11/11 [==============================] - 0s 4ms/step - loss: 1.9914e-05 - mae: 0.0037 - val_loss: 3.5930e-05 - val_mae: 0.0056\n",
      "Epoch 341/500\n",
      "11/11 [==============================] - 0s 4ms/step - loss: 1.3537e-05 - mae: 0.0031 - val_loss: 1.4852e-05 - val_mae: 0.0036\n",
      "Epoch 342/500\n",
      "11/11 [==============================] - 0s 5ms/step - loss: 2.7873e-05 - mae: 0.0045 - val_loss: 1.3066e-05 - val_mae: 0.0033\n",
      "Epoch 343/500\n",
      "11/11 [==============================] - 0s 4ms/step - loss: 3.4401e-06 - mae: 0.0014 - val_loss: 1.9701e-06 - val_mae: 0.0011\n",
      "Epoch 344/500\n",
      "11/11 [==============================] - 0s 4ms/step - loss: 3.0162e-06 - mae: 0.0014 - val_loss: 2.2657e-06 - val_mae: 0.0010\n",
      "Epoch 345/500\n",
      "11/11 [==============================] - 0s 4ms/step - loss: 1.7288e-06 - mae: 0.0010 - val_loss: 1.2566e-05 - val_mae: 0.0034\n",
      "Epoch 346/500\n",
      "11/11 [==============================] - 0s 5ms/step - loss: 7.8775e-06 - mae: 0.0024 - val_loss: 1.2395e-05 - val_mae: 0.0030\n",
      "Epoch 347/500\n",
      "11/11 [==============================] - 0s 4ms/step - loss: 3.4028e-06 - mae: 0.0014 - val_loss: 7.7551e-06 - val_mae: 0.0025\n",
      "Epoch 348/500\n",
      "11/11 [==============================] - 0s 5ms/step - loss: 3.2810e-06 - mae: 0.0014 - val_loss: 2.6282e-06 - val_mae: 0.0012\n",
      "Epoch 349/500\n",
      "11/11 [==============================] - 0s 4ms/step - loss: 3.7216e-06 - mae: 0.0015 - val_loss: 3.1831e-06 - val_mae: 0.0013\n",
      "Epoch 350/500\n",
      "11/11 [==============================] - 0s 4ms/step - loss: 1.1907e-05 - mae: 0.0029 - val_loss: 2.0361e-05 - val_mae: 0.0039\n",
      "Epoch 351/500\n",
      "11/11 [==============================] - 0s 5ms/step - loss: 7.1401e-06 - mae: 0.0022 - val_loss: 8.9553e-06 - val_mae: 0.0026\n",
      "Epoch 352/500\n",
      "11/11 [==============================] - 0s 5ms/step - loss: 4.2911e-06 - mae: 0.0017 - val_loss: 1.8348e-06 - val_mae: 0.0011\n",
      "Epoch 353/500\n",
      "11/11 [==============================] - 0s 5ms/step - loss: 1.5669e-06 - mae: 9.9352e-04 - val_loss: 6.1778e-06 - val_mae: 0.0022\n",
      "Epoch 354/500\n",
      "11/11 [==============================] - 0s 4ms/step - loss: 6.0240e-06 - mae: 0.0021 - val_loss: 6.8218e-06 - val_mae: 0.0022\n",
      "Epoch 355/500\n",
      "11/11 [==============================] - 0s 4ms/step - loss: 3.2231e-06 - mae: 0.0015 - val_loss: 1.9081e-06 - val_mae: 0.0012\n",
      "Epoch 356/500\n",
      "11/11 [==============================] - 0s 5ms/step - loss: 1.7650e-06 - mae: 0.0011 - val_loss: 6.5545e-06 - val_mae: 0.0022\n",
      "Epoch 357/500\n",
      "11/11 [==============================] - 0s 4ms/step - loss: 2.2838e-06 - mae: 0.0012 - val_loss: 1.2407e-06 - val_mae: 8.8984e-04\n",
      "Epoch 358/500\n",
      "11/11 [==============================] - 0s 4ms/step - loss: 1.1263e-06 - mae: 8.1547e-04 - val_loss: 3.4906e-06 - val_mae: 0.0014\n",
      "Epoch 359/500\n",
      "11/11 [==============================] - 0s 4ms/step - loss: 1.7204e-06 - mae: 0.0011 - val_loss: 4.6775e-06 - val_mae: 0.0018\n",
      "Epoch 360/500\n",
      "11/11 [==============================] - 0s 4ms/step - loss: 2.0814e-06 - mae: 0.0011 - val_loss: 2.5402e-06 - val_mae: 0.0014\n",
      "Epoch 361/500\n",
      "11/11 [==============================] - 0s 4ms/step - loss: 2.6860e-06 - mae: 0.0014 - val_loss: 5.1281e-06 - val_mae: 0.0020\n",
      "Epoch 362/500\n",
      "11/11 [==============================] - 0s 4ms/step - loss: 3.7468e-06 - mae: 0.0016 - val_loss: 2.6056e-06 - val_mae: 0.0012\n",
      "Epoch 363/500\n",
      "11/11 [==============================] - 0s 4ms/step - loss: 2.4280e-06 - mae: 0.0013 - val_loss: 1.2655e-05 - val_mae: 0.0032\n",
      "Epoch 364/500\n",
      "11/11 [==============================] - 0s 4ms/step - loss: 8.3926e-06 - mae: 0.0024 - val_loss: 2.4341e-05 - val_mae: 0.0044\n",
      "Epoch 365/500\n",
      "11/11 [==============================] - 0s 4ms/step - loss: 1.5227e-05 - mae: 0.0032 - val_loss: 1.2661e-04 - val_mae: 0.0106\n",
      "Epoch 366/500\n",
      "11/11 [==============================] - 0s 4ms/step - loss: 4.0716e-05 - mae: 0.0054 - val_loss: 8.8550e-05 - val_mae: 0.0091\n",
      "Epoch 367/500\n",
      "11/11 [==============================] - 0s 5ms/step - loss: 4.8332e-05 - mae: 0.0060 - val_loss: 1.2066e-05 - val_mae: 0.0029\n",
      "Epoch 368/500\n",
      "11/11 [==============================] - 0s 5ms/step - loss: 7.9588e-05 - mae: 0.0071 - val_loss: 8.4975e-05 - val_mae: 0.0082\n",
      "Epoch 369/500\n",
      "11/11 [==============================] - 0s 4ms/step - loss: 2.8042e-05 - mae: 0.0045 - val_loss: 1.0691e-05 - val_mae: 0.0027\n",
      "Epoch 370/500\n",
      "11/11 [==============================] - 0s 4ms/step - loss: 2.1496e-05 - mae: 0.0038 - val_loss: 4.8916e-06 - val_mae: 0.0018\n",
      "Epoch 371/500\n",
      "11/11 [==============================] - 0s 4ms/step - loss: 1.4010e-05 - mae: 0.0031 - val_loss: 6.4432e-05 - val_mae: 0.0077\n",
      "Epoch 372/500\n",
      "11/11 [==============================] - 0s 4ms/step - loss: 5.7314e-05 - mae: 0.0064 - val_loss: 9.8337e-05 - val_mae: 0.0084\n",
      "Epoch 373/500\n",
      "11/11 [==============================] - 0s 4ms/step - loss: 4.0998e-05 - mae: 0.0052 - val_loss: 4.4889e-05 - val_mae: 0.0061\n",
      "Epoch 374/500\n",
      "11/11 [==============================] - 0s 5ms/step - loss: 4.2820e-05 - mae: 0.0056 - val_loss: 1.1283e-05 - val_mae: 0.0027\n",
      "Epoch 375/500\n",
      "11/11 [==============================] - 0s 5ms/step - loss: 2.5878e-05 - mae: 0.0041 - val_loss: 3.4975e-05 - val_mae: 0.0057\n",
      "Epoch 376/500\n",
      "11/11 [==============================] - 0s 4ms/step - loss: 1.5018e-05 - mae: 0.0032 - val_loss: 4.3939e-05 - val_mae: 0.0063\n",
      "Epoch 377/500\n",
      "11/11 [==============================] - 0s 4ms/step - loss: 2.0327e-05 - mae: 0.0038 - val_loss: 2.6819e-06 - val_mae: 0.0013\n",
      "Epoch 378/500\n",
      "11/11 [==============================] - 0s 4ms/step - loss: 1.4180e-05 - mae: 0.0031 - val_loss: 4.2908e-05 - val_mae: 0.0063\n",
      "Epoch 379/500\n",
      "11/11 [==============================] - 0s 4ms/step - loss: 3.4264e-05 - mae: 0.0049 - val_loss: 1.3208e-04 - val_mae: 0.0110\n",
      "Epoch 380/500\n",
      "11/11 [==============================] - 0s 4ms/step - loss: 1.3422e-04 - mae: 0.0103 - val_loss: 6.2598e-06 - val_mae: 0.0023\n",
      "Epoch 381/500\n",
      "11/11 [==============================] - 0s 5ms/step - loss: 2.1042e-05 - mae: 0.0038 - val_loss: 4.4154e-06 - val_mae: 0.0017\n",
      "Epoch 382/500\n",
      "11/11 [==============================] - 0s 4ms/step - loss: 5.3858e-06 - mae: 0.0018 - val_loss: 8.0333e-05 - val_mae: 0.0083\n",
      "Epoch 383/500\n",
      "11/11 [==============================] - 0s 4ms/step - loss: 4.9731e-05 - mae: 0.0059 - val_loss: 6.5581e-05 - val_mae: 0.0074\n",
      "Epoch 384/500\n",
      "11/11 [==============================] - 0s 5ms/step - loss: 3.0626e-05 - mae: 0.0045 - val_loss: 7.8789e-06 - val_mae: 0.0022\n",
      "Epoch 385/500\n",
      "11/11 [==============================] - 0s 4ms/step - loss: 1.1418e-05 - mae: 0.0027 - val_loss: 2.8981e-05 - val_mae: 0.0049\n",
      "Epoch 386/500\n",
      "11/11 [==============================] - 0s 4ms/step - loss: 1.2582e-05 - mae: 0.0030 - val_loss: 2.4810e-05 - val_mae: 0.0044\n",
      "Epoch 387/500\n",
      "11/11 [==============================] - 0s 4ms/step - loss: 1.9203e-05 - mae: 0.0036 - val_loss: 1.1655e-05 - val_mae: 0.0030\n",
      "Epoch 388/500\n",
      "11/11 [==============================] - 0s 4ms/step - loss: 1.6690e-05 - mae: 0.0033 - val_loss: 1.2407e-04 - val_mae: 0.0106\n",
      "Epoch 389/500\n",
      "11/11 [==============================] - 0s 4ms/step - loss: 6.3414e-05 - mae: 0.0069 - val_loss: 1.3280e-05 - val_mae: 0.0030\n",
      "Epoch 390/500\n",
      "11/11 [==============================] - 0s 4ms/step - loss: 7.4696e-05 - mae: 0.0072 - val_loss: 1.0214e-04 - val_mae: 0.0098\n",
      "Epoch 391/500\n",
      "11/11 [==============================] - 0s 4ms/step - loss: 5.3943e-05 - mae: 0.0064 - val_loss: 9.9874e-05 - val_mae: 0.0093\n",
      "Epoch 392/500\n",
      "11/11 [==============================] - 0s 5ms/step - loss: 3.7383e-05 - mae: 0.0052 - val_loss: 6.0253e-06 - val_mae: 0.0022\n",
      "Epoch 393/500\n",
      "11/11 [==============================] - 0s 4ms/step - loss: 5.6541e-06 - mae: 0.0019 - val_loss: 6.4112e-05 - val_mae: 0.0074\n",
      "Epoch 394/500\n",
      "11/11 [==============================] - 0s 4ms/step - loss: 3.6770e-05 - mae: 0.0052 - val_loss: 7.6722e-06 - val_mae: 0.0024\n",
      "Epoch 395/500\n",
      "11/11 [==============================] - 0s 5ms/step - loss: 1.5458e-05 - mae: 0.0030 - val_loss: 4.9396e-06 - val_mae: 0.0016\n",
      "Epoch 396/500\n",
      "11/11 [==============================] - 0s 4ms/step - loss: 7.1869e-06 - mae: 0.0021 - val_loss: 7.0400e-05 - val_mae: 0.0080\n",
      "Epoch 397/500\n",
      "11/11 [==============================] - 0s 4ms/step - loss: 4.7818e-05 - mae: 0.0059 - val_loss: 0.0016 - val_mae: 0.0381\n",
      "Epoch 398/500\n",
      "11/11 [==============================] - 0s 5ms/step - loss: 7.1976e-04 - mae: 0.0229 - val_loss: 8.1605e-05 - val_mae: 0.0078\n",
      "Epoch 399/500\n",
      "11/11 [==============================] - 0s 4ms/step - loss: 1.8941e-04 - mae: 0.0113 - val_loss: 1.6827e-05 - val_mae: 0.0036\n",
      "Epoch 400/500\n",
      "11/11 [==============================] - 0s 4ms/step - loss: 3.7802e-05 - mae: 0.0050 - val_loss: 7.4529e-04 - val_mae: 0.0263\n",
      "Epoch 401/500\n",
      "11/11 [==============================] - 0s 4ms/step - loss: 1.6812e-04 - mae: 0.0102 - val_loss: 3.1644e-04 - val_mae: 0.0171\n",
      "Epoch 402/500\n",
      "11/11 [==============================] - 0s 4ms/step - loss: 1.2438e-04 - mae: 0.0090 - val_loss: 4.4127e-05 - val_mae: 0.0054\n",
      "Epoch 403/500\n",
      "11/11 [==============================] - 0s 4ms/step - loss: 1.2428e-04 - mae: 0.0090 - val_loss: 2.0081e-04 - val_mae: 0.0123\n",
      "Epoch 404/500\n",
      "11/11 [==============================] - 0s 5ms/step - loss: 4.5911e-05 - mae: 0.0051 - val_loss: 4.4089e-05 - val_mae: 0.0054\n",
      "Epoch 405/500\n",
      "11/11 [==============================] - 0s 4ms/step - loss: 2.7604e-05 - mae: 0.0041 - val_loss: 1.2044e-05 - val_mae: 0.0029\n",
      "Epoch 406/500\n",
      "11/11 [==============================] - 0s 4ms/step - loss: 2.1671e-05 - mae: 0.0038 - val_loss: 8.7016e-06 - val_mae: 0.0023\n",
      "Epoch 407/500\n",
      "11/11 [==============================] - 0s 4ms/step - loss: 7.3694e-06 - mae: 0.0022 - val_loss: 6.2027e-06 - val_mae: 0.0020\n"
     ]
    }
   ],
   "source": [
    "history = ann.fit(X_train, y_train,\n",
    "                    validation_data = (X_val, y_val),\n",
    "                    callbacks=[es],\n",
    "                    epochs=500,\n",
    "                    batch_size=40,\n",
    "                    verbose=1)"
   ]
  },
  {
   "cell_type": "markdown",
   "metadata": {
    "colab_type": "text",
    "id": "0H0zKKNEBLD5"
   },
   "source": [
    "### Analyse learn history"
   ]
  },
  {
   "cell_type": "code",
   "execution_count": 16,
   "metadata": {},
   "outputs": [
    {
     "data": {
      "image/png": "[encoded data removed]",
      "text/plain": [
       "<Figure size 432x288 with 1 Axes>"
      ]
     },
     "metadata": {
      "needs_background": "light"
     },
     "output_type": "display_data"
    }
   ],
   "source": [
    "# let's see the training and validation accuracy by epoch\n",
    "history_dict = history.history\n",
    "loss_values = history_dict['loss'] # you can change this\n",
    "val_loss_values = history_dict['val_loss'] # you can also change this\n",
    "epochs = range(1, len(loss_values) + 1) # range of X (no. of epochs)\n",
    "plt.plot(epochs, loss_values, 'blue', label='Train set loss')\n",
    "plt.plot(epochs, val_loss_values, 'orange', label='Validation set loss')\n",
    "#plt.title('Training and testing loss')\n",
    "plt.xlabel('Epochs')\n",
    "plt.ylabel('Loss (MSE)')\n",
    "plt.legend()\n",
    "plt.show()"
   ]
  },
  {
   "cell_type": "code",
   "execution_count": 17,
   "metadata": {},
   "outputs": [
    {
     "data": {
      "image/png": "[encoded data removed]",
      "text/plain": [
       "<Figure size 432x288 with 1 Axes>"
      ]
     },
     "metadata": {
      "needs_background": "light"
     },
     "output_type": "display_data"
    }
   ],
   "source": [
    "loss_values1 = history_dict['mae'] # you can change this\n",
    "val_loss_values1 = history_dict['val_mae'] # you can also change this\n",
    "epochs = range(1, len(loss_values1) + 1) # range of X (no. of epochs)\n",
    "plt.plot(epochs, loss_values1, 'blue', label='Train set MAE')\n",
    "plt.plot(epochs, val_loss_values1, 'orange', label='Validation set MAE')\n",
    "#plt.title('Training and testing MAE')\n",
    "plt.xlabel('Epochs')\n",
    "plt.ylabel('MAE')\n",
    "plt.legend()\n",
    "plt.show()"
   ]
  },
  {
   "cell_type": "code",
   "execution_count": 18,
   "metadata": {},
   "outputs": [
    {
     "name": "stdout",
     "output_type": "stream",
     "text": [
      "range(1, 408)\n"
     ]
    }
   ],
   "source": [
    "print (epochs)"
   ]
  },
  {
   "cell_type": "markdown",
   "metadata": {},
   "source": [
    "### Save the model"
   ]
  },
  {
   "cell_type": "code",
   "execution_count": 19,
   "metadata": {},
   "outputs": [],
   "source": [
    "ann.save('End_ANN_model_8.h5')"
   ]
  },
  {
   "cell_type": "markdown",
   "metadata": {},
   "source": [
    "# Part 4 - Make predictions"
   ]
  },
  {
   "cell_type": "code",
   "execution_count": 7,
   "metadata": {},
   "outputs": [],
   "source": [
    "ann = load_model('End_ANN_model_8.h5')"
   ]
  },
  {
   "cell_type": "code",
   "execution_count": 8,
   "metadata": {},
   "outputs": [
    {
     "name": "stdout",
     "output_type": "stream",
     "text": [
      "13/13 [==============================] - 0s 1ms/step\n",
      "3/3 [==============================] - 0s 2ms/step\n"
     ]
    },
    {
     "data": {
      "image/png": "[encoded data removed]",
      "text/plain": [
       "<Figure size 432x288 with 2 Axes>"
      ]
     },
     "metadata": {
      "needs_background": "light"
     },
     "output_type": "display_data"
    }
   ],
   "source": [
    "# scatterplot of actual vs. pred\n",
    "# specify the dimensions \n",
    "fig, axes = plt.subplots(1,2) # 1 row, 2 columns\n",
    "\n",
    "# this makes the individual subplots\n",
    "# Training Results\n",
    "axes[0].scatter(x=y_train, y=ann.predict(X_train)) #first row, first entry (left top)\n",
    "axes[0].set_xlabel(\"Actual\", fontsize=10)\n",
    "axes[0].set_ylabel(\"Predicted\",  fontsize=10)\n",
    "axes[0].set_title(\"Training\")\n",
    "# add 45 deg line\n",
    "x = np.linspace(*axes[0].get_xlim())\n",
    "axes[0].plot(x, x, color='red')\n",
    "# Validation Results\n",
    "axes[1].scatter(x=y_val, y=ann.predict(X_val)) # first row, second entry (right top)\n",
    "axes[1].set_xlabel(\"Actual\", fontsize=10)\n",
    "axes[1].set_ylabel(\"Predicted\",  fontsize=10)\n",
    "axes[1].set_title(\"Validation\")\n",
    "# add 45 deg line\n",
    "x = np.linspace(*axes[1].get_xlim())\n",
    "axes[1].plot(x, x, color='red')\n",
    "\n",
    "# tight layout\n",
    "fig.tight_layout()\n",
    "\n",
    "# show the plot\n",
    "plt.show()"
   ]
  },
  {
   "cell_type": "code",
   "execution_count": 9,
   "metadata": {
    "colab": {
     "base_uri": "https://localhost:8080/",
     "height": 134
    },
    "colab_type": "code",
    "id": "IA0yApEmBG1X",
    "outputId": "cb981e1f-9204-4a2a-fece-9d66a6919189"
   },
   "outputs": [
    {
     "name": "stdout",
     "output_type": "stream",
     "text": [
      "3/3 [==============================] - 0s 2ms/step\n",
      "[[0.1  0.1 ]\n",
      " [0.07 0.07]\n",
      " [0.1  0.1 ]\n",
      " [0.03 0.03]\n",
      " [0.04 0.04]\n",
      " [0.06 0.06]\n",
      " [0.1  0.11]\n",
      " [0.09 0.09]\n",
      " [0.04 0.04]\n",
      " [0.11 0.11]\n",
      " [0.06 0.06]\n",
      " [0.06 0.06]\n",
      " [0.06 0.07]\n",
      " [0.11 0.11]\n",
      " [0.09 0.09]\n",
      " [0.04 0.04]\n",
      " [0.08 0.08]\n",
      " [0.05 0.05]\n",
      " [0.09 0.09]\n",
      " [0.06 0.06]\n",
      " [0.03 0.03]\n",
      " [0.03 0.03]\n",
      " [0.09 0.1 ]\n",
      " [0.12 0.12]\n",
      " [0.02 0.02]\n",
      " [0.08 0.08]\n",
      " [0.04 0.04]\n",
      " [0.04 0.04]\n",
      " [0.11 0.11]\n",
      " [0.1  0.1 ]\n",
      " [0.06 0.06]\n",
      " [0.07 0.07]\n",
      " [0.04 0.04]\n",
      " [0.08 0.08]\n",
      " [0.05 0.05]\n",
      " [0.1  0.1 ]\n",
      " [0.1  0.1 ]\n",
      " [0.06 0.06]\n",
      " [0.05 0.05]\n",
      " [0.04 0.04]\n",
      " [0.09 0.09]\n",
      " [0.1  0.1 ]\n",
      " [0.07 0.07]\n",
      " [0.07 0.07]\n",
      " [0.06 0.06]\n",
      " [0.06 0.06]\n",
      " [0.07 0.07]\n",
      " [0.05 0.05]\n",
      " [0.08 0.08]\n",
      " [0.09 0.09]\n",
      " [0.04 0.04]\n",
      " [0.04 0.04]\n",
      " [0.04 0.04]\n",
      " [0.1  0.1 ]\n",
      " [0.05 0.05]\n",
      " [0.12 0.12]\n",
      " [0.11 0.11]\n",
      " [0.11 0.11]\n",
      " [0.06 0.06]\n",
      " [0.08 0.08]\n",
      " [0.04 0.04]\n",
      " [0.05 0.05]\n",
      " [0.1  0.1 ]\n",
      " [0.04 0.04]\n",
      " [0.09 0.09]\n",
      " [0.1  0.1 ]\n",
      " [0.11 0.11]\n",
      " [0.08 0.08]\n",
      " [0.04 0.05]\n",
      " [0.09 0.1 ]\n",
      " [0.08 0.08]\n",
      " [0.11 0.11]\n",
      " [0.1  0.1 ]\n",
      " [0.12 0.12]\n",
      " [0.1  0.1 ]\n",
      " [0.05 0.05]\n",
      " [0.11 0.11]\n",
      " [0.11 0.11]\n",
      " [0.08 0.08]\n",
      " [0.08 0.08]\n",
      " [0.05 0.05]\n",
      " [0.07 0.07]\n",
      " [0.08 0.08]\n",
      " [0.1  0.1 ]\n",
      " [0.04 0.04]\n",
      " [0.04 0.04]\n",
      " [0.07 0.07]]\n"
     ]
    }
   ],
   "source": [
    "#X_test=np.asarray(X_test).astype(np.int)\n",
    "\n",
    "#y_test=np.asarray(y_test).astype(np.int)\n",
    "\n",
    "y_pred = ann.predict(X_test)\n",
    "np.set_printoptions(precision=2)\n",
    "print(np.concatenate((y_pred.reshape(len(y_pred),1), y_test.reshape(len(y_test),1)),1))"
   ]
  },
  {
   "cell_type": "code",
   "execution_count": 10,
   "metadata": {},
   "outputs": [
    {
     "data": {
      "text/plain": [
       "Text(0, 0.5, 'Predicted data')"
      ]
     },
     "execution_count": 10,
     "metadata": {},
     "output_type": "execute_result"
    },
    {
     "data": {
      "image/png": "[encoded data removed]",
      "text/plain": [
       "<Figure size 432x288 with 1 Axes>"
      ]
     },
     "metadata": {
      "needs_background": "light"
     },
     "output_type": "display_data"
    }
   ],
   "source": [
    "import matplotlib.pyplot as plt\n",
    "plt.scatter(y_test, y_pred, color=\"blue\")\n",
    "plt.plot ([0,0.13],[0,0.13], color = \"red\")\n",
    "plt.axis ([0,0.13,0,0.13])\n",
    "plt.xlabel ('Actual data')\n",
    "plt.ylabel ('Predicted data')"
   ]
  },
  {
   "cell_type": "code",
   "execution_count": 11,
   "metadata": {},
   "outputs": [
    {
     "data": {
      "image/png": "[encoded data removed]",
      "text/plain": [
       "<Figure size 648x648 with 1 Axes>"
      ]
     },
     "metadata": {
      "needs_background": "light"
     },
     "output_type": "display_data"
    }
   ],
   "source": [
    "from sklearn.metrics import r2_score\n",
    "# Initialize layout\n",
    "fig1, ax1 = plt.subplots(figsize = (9, 9))\n",
    "\n",
    "\n",
    "#y = y_pred         # Model on prvious line is called here\n",
    "#x = y_test\n",
    "\n",
    "\n",
    "\n",
    "# Add scatterplot\n",
    "ax1.scatter(y_test, y_pred, s=70, alpha=1, edgecolors=\"k\",c='mediumblue',zorder=5, label = 'Points')\n",
    "\n",
    "\n",
    "plt.ylabel('Predicted Peak Incident Pressure (kPa)',fontsize = 25)\n",
    "plt.xlabel('Actual Peak Incident Pressure (kPa)',fontsize = 25)\n",
    "plt.xticks(fontsize = 19)\n",
    "plt.yticks(fontsize = 19)\n",
    "\n",
    "\n",
    "x1 = np.linspace(0,0.13)\n",
    "\n",
    "plt.plot(x1, x1, 'Red', label='45\\N{DEGREE SIGN} line',lw=2.5,alpha=1)\n",
    "plt.plot(x1, 1.1*x1, '--m', label='\\u00B110% Error',lw=2.5,alpha=0.7)\n",
    "plt.plot(x1, 0.9*x1,'m', linestyle='--',lw=2.5,alpha=0.7)\n",
    "plt.plot(x1, 1.2*x1, '-.g', label='\\u00B120% Error',lw=2.5,alpha=0.7)\n",
    "plt.plot(x1, 0.8*x1,'-.g',lw=2.5,alpha=0.7)\n",
    "\n",
    "plt.ylim(0, 0.13)\n",
    "plt.xlim(0, 0.13)\n",
    "plt.legend(loc='upper left',fontsize = 25)\n",
    "\n",
    "plt.grid()\n",
    "\n",
    "ax1.spines['left'].set_color('black')        # setting up Y-axis tick color to red\n",
    "ax1.spines['bottom'].set_color('black')         #setting up above X-axis tick color to red\n",
    "\n",
    "\n",
    "\n",
    "#ax1.annotate(\"$R^2$ = {:.3f}\".format(r2), (2500, 1000),fontsize = 25)  #Model is called here\n",
    "#ax1.annotate(\"Adj.$R^2$ = {:.3f}\".format(adj_r2), (2500, 750),fontsize = 25)\n",
    "\n",
    "#plt.savefig('plot1.png', dpi = 600, bbox_inches = 'tight')"
   ]
  },
  {
   "cell_type": "code",
   "execution_count": 12,
   "metadata": {},
   "outputs": [
    {
     "name": "stdout",
     "output_type": "stream",
     "text": [
      "13/13 [==============================] - 0s 2ms/step\n",
      "0.0007981476547504544\n",
      "0.0008828866069655366\n"
     ]
    }
   ],
   "source": [
    "# metrics\n",
    "\n",
    "\n",
    "trainpreds = ann.predict(X_train)\n",
    "\n",
    "from sklearn.metrics import mean_absolute_error\n",
    "print(mean_absolute_error(y_train, trainpreds)) # train\n",
    "print(mean_absolute_error(y_test, y_pred)) # test"
   ]
  },
  {
   "cell_type": "code",
   "execution_count": 13,
   "metadata": {},
   "outputs": [
    {
     "name": "stdout",
     "output_type": "stream",
     "text": [
      "0.998257786899656\n"
     ]
    }
   ],
   "source": [
    "from sklearn.metrics import r2_score\n",
    "r2 = r2_score(y_test, y_pred)\n",
    "print (r2)"
   ]
  },
  {
   "cell_type": "code",
   "execution_count": 14,
   "metadata": {},
   "outputs": [
    {
     "name": "stdout",
     "output_type": "stream",
     "text": [
      "0.9985301017134391\n"
     ]
    }
   ],
   "source": [
    "r2_train = r2_score(y_train, trainpreds)\n",
    "print (r2_train)"
   ]
  },
  {
   "cell_type": "code",
   "execution_count": 15,
   "metadata": {},
   "outputs": [
    {
     "name": "stdout",
     "output_type": "stream",
     "text": [
      "Within 10% margin 100.00%\n",
      "Within 20% margin 100.00%\n",
      "Out of 20% margin 0.00%\n"
     ]
    }
   ],
   "source": [
    "count1 = 0\n",
    "for i in range(len(y_pred)):\n",
    "    line1 = y_pred[i] - 0.9*y_test[i]\n",
    "    line2 = y_pred[i] - 1.1*y_test[i]\n",
    "    #print ('line 1 ', line1)\n",
    "    #print ('line 2 ', line2)\n",
    "    mask1 = (line1 > 0) & (line2 < 0)\n",
    "    #print (mask)\n",
    "    count1 = np.sum(mask1+count1)\n",
    "    #print (count)\n",
    "\n",
    "count2 = 0\n",
    "for j in range(len(y_pred)):\n",
    "    line3 = y_pred[j] - 0.8*y_test[j]\n",
    "    line4 = y_pred[j] - 1.2*y_test[j]\n",
    "    mask2 = (line3 > 0) & (line4 < 0)\n",
    "    count2 = np.sum(mask2+count2)\n",
    "\n",
    "\n",
    "count3 = 0    \n",
    "for k in range(len(y_pred)):\n",
    "    line5 = y_pred[k] - 0.8*y_test[k]\n",
    "    line6 = y_pred[k] - 1.2*y_test[k]\n",
    "    mask3 = (line5 < 0) or (line6 > 0)\n",
    "    count3 = np.sum(mask3+count3)\n",
    "   \n",
    "\n",
    "print ('Within 10% margin', format((count1/len (y_pred)),'.2%'))\n",
    "print ('Within 20% margin', format((count2/len (y_pred)),'.2%'))\n",
    "print ('Out of 20% margin', format((count3/len (y_pred)),'.2%'))"
   ]
  },
  {
   "cell_type": "code",
   "execution_count": 16,
   "metadata": {},
   "outputs": [
    {
     "name": "stdout",
     "output_type": "stream",
     "text": [
      "0.9982163056353621\n"
     ]
    }
   ],
   "source": [
    "adj_r2 = 1 - ((1 - r2) * (len(X_test) - 1) / (len(X_test) - len (X_test[0]) - 1))\n",
    "print (adj_r2)"
   ]
  },
  {
   "cell_type": "code",
   "execution_count": 17,
   "metadata": {},
   "outputs": [
    {
     "data": {
      "text/plain": [
       "0.0011112075511169042"
      ]
     },
     "execution_count": 17,
     "metadata": {},
     "output_type": "execute_result"
    }
   ],
   "source": [
    "import math\n",
    "from sklearn.metrics import mean_squared_error\n",
    "\n",
    "math.sqrt(mean_squared_error(y_test, y_pred))"
   ]
  },
  {
   "cell_type": "code",
   "execution_count": 18,
   "metadata": {},
   "outputs": [
    {
     "data": {
      "text/plain": [
       "0.0008828866069655366"
      ]
     },
     "execution_count": 18,
     "metadata": {},
     "output_type": "execute_result"
    }
   ],
   "source": [
    "from sklearn.metrics import mean_absolute_error\n",
    "\n",
    "mean_absolute_error(y_test, y_pred)"
   ]
  },
  {
   "cell_type": "markdown",
   "source": [
    "# Part 5 - Use model"
   ],
   "metadata": {
    "collapsed": false
   }
  },
  {
   "cell_type": "markdown",
   "source": [
    "## Import libraries"
   ],
   "metadata": {
    "collapsed": false
   }
  },
  {
   "cell_type": "code",
   "execution_count": 1,
   "outputs": [],
   "source": [
    "from keras.models import load_model\n",
    "import numpy as np"
   ],
   "metadata": {
    "collapsed": false,
    "ExecuteTime": {
     "end_time": "2023-08-29T14:31:40.346944700Z",
     "start_time": "2023-08-29T14:31:36.832187300Z"
    }
   }
  },
  {
   "cell_type": "markdown",
   "source": [
    "## Load model"
   ],
   "metadata": {
    "collapsed": false
   }
  },
  {
   "cell_type": "code",
   "execution_count": 2,
   "outputs": [],
   "source": [
    "ann = load_model('End_ANN_model_8.h5')"
   ],
   "metadata": {
    "collapsed": false,
    "ExecuteTime": {
     "end_time": "2023-08-29T14:31:41.540377500Z",
     "start_time": "2023-08-29T14:31:41.424051Z"
    }
   }
  },
  {
   "cell_type": "markdown",
   "source": [
    "## Prediction"
   ],
   "metadata": {
    "collapsed": false
   }
  },
  {
   "cell_type": "code",
   "execution_count": 3,
   "outputs": [
    {
     "name": "stdout",
     "output_type": "stream",
     "text": [
      "[[20.   6.3]]\n",
      "1/1 [==============================] - 0s 192ms/step\n",
      "[[0.045997113]]\n",
      "Stored 'end_time' (ndarray)\n"
     ]
    }
   ],
   "source": [
    "charge_mass = 20\n",
    "standoff_distance = 6.3\n",
    "arr = np.array ([[charge_mass,standoff_distance]])\n",
    "print (arr)\n",
    "np.set_printoptions(precision=9)\n",
    "end_time = ann.predict(arr)\n",
    "print (end_time)\n",
    "%store end_time"
   ],
   "metadata": {
    "collapsed": false,
    "ExecuteTime": {
     "end_time": "2023-08-29T14:31:44.072446800Z",
     "start_time": "2023-08-29T14:31:43.758849500Z"
    }
   }
  }
 ],
 "metadata": {
  "colab": {
   "collapsed_sections": [],
   "name": "Artificial Neural Network",
   "provenance": [],
   "toc_visible": true
  },
  "kernelspec": {
   "display_name": "Python 3 (ipykernel)",
   "language": "python",
   "name": "python3"
  },
  "language_info": {
   "codemirror_mode": {
    "name": "ipython",
    "version": 3
   },
   "file_extension": ".py",
   "mimetype": "text/x-python",
   "name": "python",
   "nbconvert_exporter": "python",
   "pygments_lexer": "ipython3",
   "version": "3.9.7"
  }
 },
 "nbformat": 4,
 "nbformat_minor": 4
}
