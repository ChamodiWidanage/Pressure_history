{
 "cells": [
  {
   "cell_type": "markdown",
   "id": "ae3df567-0450-438b-a682-4e96ea5fa392",
   "metadata": {},
   "source": [
    "# 1 - Preprocessing"
   ]
  },
  {
   "cell_type": "markdown",
   "id": "7b8356cd-da63-485f-9ccf-2565b54ba427",
   "metadata": {},
   "source": [
    "## Import libraries"
   ]
  },
  {
   "cell_type": "code",
   "execution_count": 1,
   "id": "c33d21ef-03bc-4e27-9b6a-41aff73d33e5",
   "metadata": {
    "ExecuteTime": {
     "end_time": "2023-08-18T07:02:40.677075900Z",
     "start_time": "2023-08-18T07:02:39.469431100Z"
    }
   },
   "outputs": [],
   "source": [
    "import numpy as np\n",
    "import matplotlib.pyplot as plt\n",
    "import pandas as pd\n",
    "from pathlib import Path"
   ]
  },
  {
   "cell_type": "markdown",
   "id": "e2e06bc7-c0df-4063-a7a2-d70be5ff88a3",
   "metadata": {},
   "source": [
    "## Access train files"
   ]
  },
  {
   "cell_type": "code",
   "execution_count": 2,
   "id": "512f35a0-8459-40a6-b103-1b7d9e7fcc00",
   "metadata": {
    "ExecuteTime": {
     "end_time": "2023-08-18T07:02:43.042023300Z",
     "start_time": "2023-08-18T07:02:43.009508800Z"
    }
   },
   "outputs": [
    {
     "name": "stdout",
     "output_type": "stream",
     "text": [
      "input H:\\Chamodi\\Machine Learning\\Pressure_history\\Pressure_profiles\n"
     ]
    }
   ],
   "source": [
    "current_dir = Path.cwd()\n",
    "parent_dir = current_dir.parent\n",
    "\n",
    "#Access input folder\n",
    "input_dir1 = Path (parent_dir/\"Pressure_profiles\")\n",
    "print (\"input\",input_dir1)"
   ]
  },
  {
   "cell_type": "code",
   "execution_count": 3,
   "id": "31062b4d-ae6a-4202-86e6-4337fe965459",
   "metadata": {
    "ExecuteTime": {
     "end_time": "2023-08-18T07:02:44.941651300Z",
     "start_time": "2023-08-18T07:02:44.918960800Z"
    }
   },
   "outputs": [
    {
     "name": "stdout",
     "output_type": "stream",
     "text": [
      "2 [WindowsPath('H:/Chamodi/Machine Learning/Pressure_history/Pressure_profiles/L13_01'), WindowsPath('H:/Chamodi/Machine Learning/Pressure_history/Pressure_profiles/L13_03'), WindowsPath('H:/Chamodi/Machine Learning/Pressure_history/Pressure_profiles/L13_05'), WindowsPath('H:/Chamodi/Machine Learning/Pressure_history/Pressure_profiles/L13_07'), WindowsPath('H:/Chamodi/Machine Learning/Pressure_history/Pressure_profiles/L13_09'), WindowsPath('H:/Chamodi/Machine Learning/Pressure_history/Pressure_profiles/L13_11'), WindowsPath('H:/Chamodi/Machine Learning/Pressure_history/Pressure_profiles/L13_13'), WindowsPath('H:/Chamodi/Machine Learning/Pressure_history/Pressure_profiles/L13_15'), WindowsPath('H:/Chamodi/Machine Learning/Pressure_history/Pressure_profiles/L13_17'), WindowsPath('H:/Chamodi/Machine Learning/Pressure_history/Pressure_profiles/L13_19'), WindowsPath('H:/Chamodi/Machine Learning/Pressure_history/Pressure_profiles/L13_21'), WindowsPath('H:/Chamodi/Machine Learning/Pressure_history/Pressure_profiles/L13_23'), WindowsPath('H:/Chamodi/Machine Learning/Pressure_history/Pressure_profiles/L13_25'), WindowsPath('H:/Chamodi/Machine Learning/Pressure_history/Pressure_profiles/L13_27'), WindowsPath('H:/Chamodi/Machine Learning/Pressure_history/Pressure_profiles/L13_29'), WindowsPath('H:/Chamodi/Machine Learning/Pressure_history/Pressure_profiles/L13_31'), WindowsPath('H:/Chamodi/Machine Learning/Pressure_history/Pressure_profiles/L13_33'), WindowsPath('H:/Chamodi/Machine Learning/Pressure_history/Pressure_profiles/L13_35'), WindowsPath('H:/Chamodi/Machine Learning/Pressure_history/Pressure_profiles/L13_37'), WindowsPath('H:/Chamodi/Machine Learning/Pressure_history/Pressure_profiles/L13_39'), WindowsPath('H:/Chamodi/Machine Learning/Pressure_history/Pressure_profiles/L13_41'), WindowsPath('H:/Chamodi/Machine Learning/Pressure_history/Pressure_profiles/L13_43'), WindowsPath('H:/Chamodi/Machine Learning/Pressure_history/Pressure_profiles/L13_45'), WindowsPath('H:/Chamodi/Machine Learning/Pressure_history/Pressure_profiles/L13_47'), WindowsPath('H:/Chamodi/Machine Learning/Pressure_history/Pressure_profiles/L13_49'), WindowsPath('H:/Chamodi/Machine Learning/Pressure_history/Pressure_profiles/L13_51'), WindowsPath('H:/Chamodi/Machine Learning/Pressure_history/Pressure_profiles/L13_53'), WindowsPath('H:/Chamodi/Machine Learning/Pressure_history/Pressure_profiles/L13_55'), WindowsPath('H:/Chamodi/Machine Learning/Pressure_history/Pressure_profiles/L13_57'), WindowsPath('H:/Chamodi/Machine Learning/Pressure_history/Pressure_profiles/L13_59'), WindowsPath('H:/Chamodi/Machine Learning/Pressure_history/Pressure_profiles/L13_61'), WindowsPath('H:/Chamodi/Machine Learning/Pressure_history/Pressure_profiles/L13_63'), WindowsPath('H:/Chamodi/Machine Learning/Pressure_history/Pressure_profiles/L13_65'), WindowsPath('H:/Chamodi/Machine Learning/Pressure_history/Pressure_profiles/L13_67'), WindowsPath('H:/Chamodi/Machine Learning/Pressure_history/Pressure_profiles/L13_69'), WindowsPath('H:/Chamodi/Machine Learning/Pressure_history/Pressure_profiles/L13_70')]\n"
     ]
    }
   ],
   "source": [
    "#Access folders inside input folder\n",
    "input_dir2_train =  [folder_input for folder_input in input_dir1.iterdir() if folder_input.is_dir()]\n",
    "print (\"2\",input_dir2_train)"
   ]
  },
  {
   "cell_type": "code",
   "execution_count": 4,
   "id": "729454b9-9567-4d67-9106-e9ffb1d56073",
   "metadata": {
    "ExecuteTime": {
     "end_time": "2023-08-18T07:03:10.710632800Z",
     "start_time": "2023-08-18T07:02:46.611508600Z"
    }
   },
   "outputs": [
    {
     "name": "stdout",
     "output_type": "stream",
     "text": [
      "folder H:\\Chamodi\\Machine Learning\\Pressure_history\\Pressure_profiles\\L13_01\n",
      "P1\n",
      "P13\n",
      "P5\n",
      "P9\n",
      "folder H:\\Chamodi\\Machine Learning\\Pressure_history\\Pressure_profiles\\L13_03\n",
      "P1\n",
      "P13\n",
      "P5\n",
      "P9\n",
      "folder H:\\Chamodi\\Machine Learning\\Pressure_history\\Pressure_profiles\\L13_05\n",
      "P1\n",
      "P13\n",
      "P5\n",
      "P9\n",
      "folder H:\\Chamodi\\Machine Learning\\Pressure_history\\Pressure_profiles\\L13_07\n",
      "P1\n",
      "P13\n",
      "P5\n",
      "P9\n",
      "folder H:\\Chamodi\\Machine Learning\\Pressure_history\\Pressure_profiles\\L13_09\n",
      "P1\n",
      "P13\n",
      "P5\n",
      "P9\n",
      "folder H:\\Chamodi\\Machine Learning\\Pressure_history\\Pressure_profiles\\L13_11\n",
      "P1\n",
      "P13\n",
      "P5\n",
      "P9\n",
      "folder H:\\Chamodi\\Machine Learning\\Pressure_history\\Pressure_profiles\\L13_13\n",
      "P1\n",
      "P13\n",
      "P5\n",
      "P9\n",
      "folder H:\\Chamodi\\Machine Learning\\Pressure_history\\Pressure_profiles\\L13_15\n",
      "P1\n",
      "P13\n",
      "P5\n",
      "P9\n",
      "folder H:\\Chamodi\\Machine Learning\\Pressure_history\\Pressure_profiles\\L13_17\n",
      "P1\n",
      "P13\n",
      "P5\n",
      "P9\n",
      "folder H:\\Chamodi\\Machine Learning\\Pressure_history\\Pressure_profiles\\L13_19\n",
      "P1\n",
      "P13\n",
      "P5\n",
      "P9\n",
      "folder H:\\Chamodi\\Machine Learning\\Pressure_history\\Pressure_profiles\\L13_21\n",
      "P1\n",
      "P13\n",
      "P5\n",
      "P9\n",
      "folder H:\\Chamodi\\Machine Learning\\Pressure_history\\Pressure_profiles\\L13_23\n",
      "P1\n",
      "P13\n",
      "P5\n",
      "P9\n",
      "folder H:\\Chamodi\\Machine Learning\\Pressure_history\\Pressure_profiles\\L13_25\n",
      "P1\n",
      "P13\n",
      "P5\n",
      "P9\n",
      "folder H:\\Chamodi\\Machine Learning\\Pressure_history\\Pressure_profiles\\L13_27\n",
      "P1\n",
      "P13\n",
      "P5\n",
      "P9\n",
      "folder H:\\Chamodi\\Machine Learning\\Pressure_history\\Pressure_profiles\\L13_29\n",
      "P1\n",
      "P13\n",
      "P5\n",
      "P9\n",
      "folder H:\\Chamodi\\Machine Learning\\Pressure_history\\Pressure_profiles\\L13_31\n",
      "P1\n",
      "P13\n",
      "P5\n",
      "P9\n",
      "folder H:\\Chamodi\\Machine Learning\\Pressure_history\\Pressure_profiles\\L13_33\n",
      "P1\n",
      "P13\n",
      "P5\n",
      "P9\n",
      "folder H:\\Chamodi\\Machine Learning\\Pressure_history\\Pressure_profiles\\L13_35\n",
      "P1\n",
      "P13\n",
      "P5\n",
      "P9\n",
      "folder H:\\Chamodi\\Machine Learning\\Pressure_history\\Pressure_profiles\\L13_37\n",
      "P1\n",
      "P13\n",
      "P5\n",
      "P9\n",
      "folder H:\\Chamodi\\Machine Learning\\Pressure_history\\Pressure_profiles\\L13_39\n",
      "P1\n",
      "P13\n",
      "P5\n",
      "P9\n",
      "folder H:\\Chamodi\\Machine Learning\\Pressure_history\\Pressure_profiles\\L13_41\n",
      "P1\n",
      "P13\n",
      "P5\n",
      "P9\n",
      "folder H:\\Chamodi\\Machine Learning\\Pressure_history\\Pressure_profiles\\L13_43\n",
      "P1\n",
      "P13\n",
      "P5\n",
      "P9\n",
      "folder H:\\Chamodi\\Machine Learning\\Pressure_history\\Pressure_profiles\\L13_45\n",
      "P1\n",
      "P13\n",
      "P5\n",
      "P9\n",
      "folder H:\\Chamodi\\Machine Learning\\Pressure_history\\Pressure_profiles\\L13_47\n",
      "P1\n",
      "P13\n",
      "P5\n",
      "P9\n",
      "folder H:\\Chamodi\\Machine Learning\\Pressure_history\\Pressure_profiles\\L13_49\n",
      "P1\n",
      "P13\n",
      "P5\n",
      "P9\n",
      "folder H:\\Chamodi\\Machine Learning\\Pressure_history\\Pressure_profiles\\L13_51\n",
      "P1\n",
      "P13\n",
      "P5\n",
      "P9\n",
      "folder H:\\Chamodi\\Machine Learning\\Pressure_history\\Pressure_profiles\\L13_53\n",
      "P1\n",
      "P13\n",
      "P5\n",
      "P9\n",
      "folder H:\\Chamodi\\Machine Learning\\Pressure_history\\Pressure_profiles\\L13_55\n",
      "P1\n",
      "P13\n",
      "P5\n",
      "P9\n",
      "folder H:\\Chamodi\\Machine Learning\\Pressure_history\\Pressure_profiles\\L13_57\n",
      "P1\n",
      "P13\n",
      "P5\n",
      "P9\n",
      "folder H:\\Chamodi\\Machine Learning\\Pressure_history\\Pressure_profiles\\L13_59\n",
      "P1\n",
      "P13\n",
      "P5\n",
      "P9\n",
      "folder H:\\Chamodi\\Machine Learning\\Pressure_history\\Pressure_profiles\\L13_61\n",
      "P1\n",
      "P13\n",
      "P5\n",
      "P9\n",
      "folder H:\\Chamodi\\Machine Learning\\Pressure_history\\Pressure_profiles\\L13_63\n",
      "P1\n",
      "P13\n",
      "P5\n",
      "P9\n",
      "folder H:\\Chamodi\\Machine Learning\\Pressure_history\\Pressure_profiles\\L13_65\n",
      "P1\n",
      "P13\n",
      "P5\n",
      "P9\n",
      "folder H:\\Chamodi\\Machine Learning\\Pressure_history\\Pressure_profiles\\L13_67\n",
      "P1\n",
      "P13\n",
      "P5\n",
      "P9\n",
      "folder H:\\Chamodi\\Machine Learning\\Pressure_history\\Pressure_profiles\\L13_69\n",
      "P1\n",
      "P13\n",
      "P5\n",
      "P9\n",
      "folder H:\\Chamodi\\Machine Learning\\Pressure_history\\Pressure_profiles\\L13_70\n",
      "P1\n",
      "P13\n",
      "P5\n",
      "P9\n"
     ]
    }
   ],
   "source": [
    "# Access each folder inside input folder\n",
    "dataset_train = pd.DataFrame(columns = ['Charge_mass', 'Standoff_distance', 'Time', 'Pressure'])\n",
    "df_list_train = []\n",
    "for folder_train in input_dir2_train:\n",
    "    \n",
    "    # Make a list of data file names\n",
    "    files_train = list(file_train for file_train in folder_train.rglob(\"*.xlsx\") if int(file_train.stem[1:]) < 14)\n",
    "    print (\"folder\", folder_train)\n",
    "    \n",
    "    for file_train in files_train:\n",
    "        df_list_train.append(pd.read_excel(file_train))\n",
    "        print (file_train.stem)\n",
    "\n",
    "dataset_train = pd.concat(df_list_train, ignore_index = True)"
   ]
  },
  {
   "cell_type": "code",
   "execution_count": 5,
   "id": "65242be5-29b8-4e61-be3b-365378a3ee84",
   "metadata": {
    "colab": {},
    "colab_type": "code",
    "id": "B9CV13Co_HHM",
    "ExecuteTime": {
     "end_time": "2023-08-18T07:03:13.315180600Z",
     "start_time": "2023-08-18T07:03:13.256680100Z"
    }
   },
   "outputs": [
    {
     "name": "stdout",
     "output_type": "stream",
     "text": [
      "<class 'pandas.core.frame.DataFrame'>\n",
      "RangeIndex: 492215 entries, 0 to 492214\n",
      "Data columns (total 4 columns):\n",
      " #   Column             Non-Null Count   Dtype  \n",
      "---  ------             --------------   -----  \n",
      " 0   Charge_mass        492215 non-null  float64\n",
      " 1   Standoff_distance  492215 non-null  int64  \n",
      " 2   Time               492215 non-null  float64\n",
      " 3   Pressure           492215 non-null  float64\n",
      "dtypes: float64(3), int64(1)\n",
      "memory usage: 15.0 MB\n"
     ]
    }
   ],
   "source": [
    "dataset_train.info()"
   ]
  },
  {
   "cell_type": "code",
   "execution_count": 6,
   "id": "5cc93b77-2018-4750-937b-6dcb60822d84",
   "metadata": {
    "ExecuteTime": {
     "end_time": "2023-08-18T07:03:17.476924Z",
     "start_time": "2023-08-18T07:03:17.430009300Z"
    }
   },
   "outputs": [
    {
     "name": "stdout",
     "output_type": "stream",
     "text": [
      "(492215, 3) (492215,)\n"
     ]
    }
   ],
   "source": [
    "y = dataset_train['Pressure']\n",
    "X = dataset_train.drop(['Pressure'], axis=1)\n",
    "print(X.shape, y.shape)"
   ]
  },
  {
   "cell_type": "code",
   "execution_count": 7,
   "outputs": [],
   "source": [
    "# convert to numpy array\n",
    "X = np.array(X)\n",
    "y = np.array(y)"
   ],
   "metadata": {
    "collapsed": false,
    "ExecuteTime": {
     "end_time": "2023-08-18T07:03:19.313037300Z",
     "start_time": "2023-08-18T07:03:19.270320400Z"
    }
   },
   "id": "f7aa744263ed827d"
  },
  {
   "cell_type": "markdown",
   "source": [
    "### Splitting the dataset into the Training set and Test set"
   ],
   "metadata": {
    "collapsed": false
   },
   "id": "fb4f6bf42d540f38"
  },
  {
   "cell_type": "code",
   "execution_count": 8,
   "outputs": [],
   "source": [
    "from sklearn.model_selection import train_test_split\n",
    "X_train, X_test, y_train, y_test = train_test_split(X,\n",
    "                                                    y,\n",
    "                                                    test_size = 0.4,\n",
    "                                                    random_state = 0)"
   ],
   "metadata": {
    "collapsed": false,
    "ExecuteTime": {
     "end_time": "2023-08-18T07:03:31.216500900Z",
     "start_time": "2023-08-18T07:03:30.402519100Z"
    }
   },
   "id": "6ce6ffcc51f79ab2"
  },
  {
   "cell_type": "markdown",
   "id": "f37aa3ba-e9c0-4f21-81d7-ce2d9adf72ec",
   "metadata": {},
   "source": [
    "## Feature scaling"
   ]
  },
  {
   "cell_type": "code",
   "execution_count": 9,
   "id": "55ab108a-3d9e-4d75-816e-3826b52d8165",
   "metadata": {
    "tags": [],
    "ExecuteTime": {
     "end_time": "2023-08-18T07:03:38.916268200Z",
     "start_time": "2023-08-18T07:03:38.857153400Z"
    }
   },
   "outputs": [],
   "source": [
    "from sklearn.preprocessing import StandardScaler\n",
    "sc = StandardScaler()\n",
    "X_train = sc.fit_transform(X_train)\n",
    "X_test = sc.transform(X_test)"
   ]
  },
  {
   "cell_type": "code",
   "execution_count": 10,
   "id": "078dc3dd-85d2-45cb-b047-6ea766f11a5e",
   "metadata": {
    "ExecuteTime": {
     "end_time": "2023-08-18T07:03:40.873388800Z",
     "start_time": "2023-08-18T07:03:40.848850400Z"
    }
   },
   "outputs": [
    {
     "name": "stdout",
     "output_type": "stream",
     "text": [
      "[[-1.93352006  0.43839445  0.08858649]\n",
      " [ 0.82685163 -1.32939973  0.66947474]\n",
      " [ 0.62237966  1.32229154 -0.65582355]\n",
      " ...\n",
      " [ 1.23579559  0.43839445 -0.72983203]\n",
      " [ 0.52014367 -1.32939973 -1.26167127]\n",
      " [ 1.44026756  1.32229154 -1.130874  ]]\n"
     ]
    }
   ],
   "source": [
    "print (X_train)"
   ]
  },
  {
   "cell_type": "code",
   "execution_count": 11,
   "id": "717edcb9-d995-4339-8af1-afeb01d54ee3",
   "metadata": {
    "ExecuteTime": {
     "end_time": "2023-08-18T07:03:43.280271500Z",
     "start_time": "2023-08-18T07:03:43.260818400Z"
    }
   },
   "outputs": [
    {
     "name": "stdout",
     "output_type": "stream",
     "text": [
      "[[-0.50221622  0.43839445 -0.30556077]\n",
      " [-2.03575605 -1.32939973 -0.99230388]\n",
      " [ 1.23579559  1.32229154 -0.63001037]\n",
      " ...\n",
      " [ 1.23579559 -1.32939973  1.34415217]\n",
      " [ 1.49138556 -1.32939973  0.58685959]\n",
      " [ 1.23579559  0.43839445 -0.56117013]]\n"
     ]
    }
   ],
   "source": [
    "print (X_test)"
   ]
  },
  {
   "cell_type": "code",
   "execution_count": 12,
   "outputs": [
    {
     "name": "stdout",
     "output_type": "stream",
     "text": [
      "X_train 295329\n"
     ]
    }
   ],
   "source": [
    "print (\"X_train\", len(X_train))"
   ],
   "metadata": {
    "collapsed": false,
    "ExecuteTime": {
     "end_time": "2023-08-18T07:04:13.342702700Z",
     "start_time": "2023-08-18T07:04:13.306567900Z"
    }
   },
   "id": "209f7b70fbc2575e"
  },
  {
   "cell_type": "code",
   "execution_count": 13,
   "outputs": [
    {
     "name": "stdout",
     "output_type": "stream",
     "text": [
      "X_test 196886\n"
     ]
    }
   ],
   "source": [
    "print (\"X_test\", len(X_test))"
   ],
   "metadata": {
    "collapsed": false,
    "ExecuteTime": {
     "end_time": "2023-08-18T07:04:15.211481700Z",
     "start_time": "2023-08-18T07:04:15.182638300Z"
    }
   },
   "id": "e9322d431266d275"
  },
  {
   "cell_type": "markdown",
   "id": "650152b2-713e-4094-b6b5-e5edf5925916",
   "metadata": {},
   "source": [
    "# 2 - Model training"
   ]
  },
  {
   "cell_type": "markdown",
   "id": "94438a0a-35c0-4893-acee-760c36567b9d",
   "metadata": {},
   "source": [
    "## Calling the XGB Regressor"
   ]
  },
  {
   "cell_type": "code",
   "execution_count": 14,
   "id": "30b91529-abda-46a5-b56b-4af5b68f8783",
   "metadata": {
    "ExecuteTime": {
     "end_time": "2023-08-18T07:04:21.044641300Z",
     "start_time": "2023-08-18T07:04:20.987305900Z"
    }
   },
   "outputs": [],
   "source": [
    "from xgboost import XGBRegressor\n",
    "regressor = XGBRegressor(random_state = 67)"
   ]
  },
  {
   "cell_type": "markdown",
   "id": "87e95946-2979-47f7-8378-3d3bec6b929a",
   "metadata": {},
   "source": [
    "## Applying Grid Search to find the best model and the best parameters"
   ]
  },
  {
   "cell_type": "code",
   "execution_count": null,
   "id": "58054665-2dc3-4a7c-ad4b-f8a10d5293ba",
   "metadata": {},
   "outputs": [],
   "source": [
    "from sklearn.model_selection import GridSearchCV\n",
    "parameters = [{'n_estimators': [900, 1000, 1100, 1200],\n",
    "               'max_depth': [3, 4, 5, 6],\n",
    "               'gamma': [5, 1, 0.1, 0.01], \n",
    "               'learning_rate' : [0.001, 0.01, 0.1, 0.2] }]\n",
    "grid_search = GridSearchCV(estimator = regressor,\n",
    "                           param_grid = parameters,\n",
    "                           scoring = 'r2',\n",
    "                           cv = 3,\n",
    "                           n_jobs = -1)\n",
    "grid_search.fit(X_train, y_train)\n",
    "best_accuracy = grid_search.best_score_\n",
    "best_parameters = grid_search.best_params_\n",
    "print(\"Best Accuracy:\", best_accuracy)\n",
    "print(\"Best Parameters:\", best_parameters)"
   ]
  },
  {
   "cell_type": "markdown",
   "id": "2714c2c8-06ab-47d8-b2f3-bec7e536e762",
   "metadata": {},
   "source": [
    "## Training the XGB Regression model on the Training set"
   ]
  },
  {
   "cell_type": "code",
   "execution_count": 15,
   "id": "c5e94d07-e7c7-4497-bc9a-dd7978f05a10",
   "metadata": {
    "ExecuteTime": {
     "end_time": "2023-08-18T07:06:03.230925400Z",
     "start_time": "2023-08-18T07:04:24.341104900Z"
    }
   },
   "outputs": [
    {
     "data": {
      "text/plain": "XGBRegressor(base_score=None, booster=None, callbacks=None,\n             colsample_bylevel=None, colsample_bynode=None,\n             colsample_bytree=None, early_stopping_rounds=None,\n             enable_categorical=False, eval_metric=None, feature_types=None,\n             gamma=5, gpu_id=None, grow_policy=None, importance_type=None,\n             interaction_constraints=None, learning_rate=0.01, max_bin=None,\n             max_cat_threshold=None, max_cat_to_onehot=None,\n             max_delta_step=None, max_depth=9, max_leaves=None,\n             min_child_weight=None, missing=nan, monotone_constraints=None,\n             n_estimators=1200, n_jobs=None, num_parallel_tree=None,\n             predictor=None, random_state=67, ...)",
      "text/html": "<style>#sk-container-id-1 {color: black;background-color: white;}#sk-container-id-1 pre{padding: 0;}#sk-container-id-1 div.sk-toggleable {background-color: white;}#sk-container-id-1 label.sk-toggleable__label {cursor: pointer;display: block;width: 100%;margin-bottom: 0;padding: 0.3em;box-sizing: border-box;text-align: center;}#sk-container-id-1 label.sk-toggleable__label-arrow:before {content: \"▸\";float: left;margin-right: 0.25em;color: #696969;}#sk-container-id-1 label.sk-toggleable__label-arrow:hover:before {color: black;}#sk-container-id-1 div.sk-estimator:hover label.sk-toggleable__label-arrow:before {color: black;}#sk-container-id-1 div.sk-toggleable__content {max-height: 0;max-width: 0;overflow: hidden;text-align: left;background-color: #f0f8ff;}#sk-container-id-1 div.sk-toggleable__content pre {margin: 0.2em;color: black;border-radius: 0.25em;background-color: #f0f8ff;}#sk-container-id-1 input.sk-toggleable__control:checked~div.sk-toggleable__content {max-height: 200px;max-width: 100%;overflow: auto;}#sk-container-id-1 input.sk-toggleable__control:checked~label.sk-toggleable__label-arrow:before {content: \"▾\";}#sk-container-id-1 div.sk-estimator input.sk-toggleable__control:checked~label.sk-toggleable__label {background-color: #d4ebff;}#sk-container-id-1 div.sk-label input.sk-toggleable__control:checked~label.sk-toggleable__label {background-color: #d4ebff;}#sk-container-id-1 input.sk-hidden--visually {border: 0;clip: rect(1px 1px 1px 1px);clip: rect(1px, 1px, 1px, 1px);height: 1px;margin: -1px;overflow: hidden;padding: 0;position: absolute;width: 1px;}#sk-container-id-1 div.sk-estimator {font-family: monospace;background-color: #f0f8ff;border: 1px dotted black;border-radius: 0.25em;box-sizing: border-box;margin-bottom: 0.5em;}#sk-container-id-1 div.sk-estimator:hover {background-color: #d4ebff;}#sk-container-id-1 div.sk-parallel-item::after {content: \"\";width: 100%;border-bottom: 1px solid gray;flex-grow: 1;}#sk-container-id-1 div.sk-label:hover label.sk-toggleable__label {background-color: #d4ebff;}#sk-container-id-1 div.sk-serial::before {content: \"\";position: absolute;border-left: 1px solid gray;box-sizing: border-box;top: 0;bottom: 0;left: 50%;z-index: 0;}#sk-container-id-1 div.sk-serial {display: flex;flex-direction: column;align-items: center;background-color: white;padding-right: 0.2em;padding-left: 0.2em;position: relative;}#sk-container-id-1 div.sk-item {position: relative;z-index: 1;}#sk-container-id-1 div.sk-parallel {display: flex;align-items: stretch;justify-content: center;background-color: white;position: relative;}#sk-container-id-1 div.sk-item::before, #sk-container-id-1 div.sk-parallel-item::before {content: \"\";position: absolute;border-left: 1px solid gray;box-sizing: border-box;top: 0;bottom: 0;left: 50%;z-index: -1;}#sk-container-id-1 div.sk-parallel-item {display: flex;flex-direction: column;z-index: 1;position: relative;background-color: white;}#sk-container-id-1 div.sk-parallel-item:first-child::after {align-self: flex-end;width: 50%;}#sk-container-id-1 div.sk-parallel-item:last-child::after {align-self: flex-start;width: 50%;}#sk-container-id-1 div.sk-parallel-item:only-child::after {width: 0;}#sk-container-id-1 div.sk-dashed-wrapped {border: 1px dashed gray;margin: 0 0.4em 0.5em 0.4em;box-sizing: border-box;padding-bottom: 0.4em;background-color: white;}#sk-container-id-1 div.sk-label label {font-family: monospace;font-weight: bold;display: inline-block;line-height: 1.2em;}#sk-container-id-1 div.sk-label-container {text-align: center;}#sk-container-id-1 div.sk-container {/* jupyter's `normalize.less` sets `[hidden] { display: none; }` but bootstrap.min.css set `[hidden] { display: none !important; }` so we also need the `!important` here to be able to override the default hidden behavior on the sphinx rendered scikit-learn.org. See: https://github.com/scikit-learn/scikit-learn/issues/21755 */display: inline-block !important;position: relative;}#sk-container-id-1 div.sk-text-repr-fallback {display: none;}</style><div id=\"sk-container-id-1\" class=\"sk-top-container\"><div class=\"sk-text-repr-fallback\"><pre>XGBRegressor(base_score=None, booster=None, callbacks=None,\n             colsample_bylevel=None, colsample_bynode=None,\n             colsample_bytree=None, early_stopping_rounds=None,\n             enable_categorical=False, eval_metric=None, feature_types=None,\n             gamma=5, gpu_id=None, grow_policy=None, importance_type=None,\n             interaction_constraints=None, learning_rate=0.01, max_bin=None,\n             max_cat_threshold=None, max_cat_to_onehot=None,\n             max_delta_step=None, max_depth=9, max_leaves=None,\n             min_child_weight=None, missing=nan, monotone_constraints=None,\n             n_estimators=1200, n_jobs=None, num_parallel_tree=None,\n             predictor=None, random_state=67, ...)</pre><b>In a Jupyter environment, please rerun this cell to show the HTML representation or trust the notebook. <br />On GitHub, the HTML representation is unable to render, please try loading this page with nbviewer.org.</b></div><div class=\"sk-container\" hidden><div class=\"sk-item\"><div class=\"sk-estimator sk-toggleable\"><input class=\"sk-toggleable__control sk-hidden--visually\" id=\"sk-estimator-id-1\" type=\"checkbox\" checked><label for=\"sk-estimator-id-1\" class=\"sk-toggleable__label sk-toggleable__label-arrow\">XGBRegressor</label><div class=\"sk-toggleable__content\"><pre>XGBRegressor(base_score=None, booster=None, callbacks=None,\n             colsample_bylevel=None, colsample_bynode=None,\n             colsample_bytree=None, early_stopping_rounds=None,\n             enable_categorical=False, eval_metric=None, feature_types=None,\n             gamma=5, gpu_id=None, grow_policy=None, importance_type=None,\n             interaction_constraints=None, learning_rate=0.01, max_bin=None,\n             max_cat_threshold=None, max_cat_to_onehot=None,\n             max_delta_step=None, max_depth=9, max_leaves=None,\n             min_child_weight=None, missing=nan, monotone_constraints=None,\n             n_estimators=1200, n_jobs=None, num_parallel_tree=None,\n             predictor=None, random_state=67, ...)</pre></div></div></div></div></div>"
     },
     "execution_count": 15,
     "metadata": {},
     "output_type": "execute_result"
    }
   ],
   "source": [
    "regressor = XGBRegressor(n_estimators = 1200,\n",
    "                         max_depth = 9,\n",
    "                         gamma = 5, \n",
    "                         learning_rate = 0.01,\n",
    "                         random_state = 67)\n",
    "regressor.fit(X_train, y_train)"
   ]
  },
  {
   "cell_type": "markdown",
   "id": "5cd7f40a-5caa-490f-80fa-58de3495654b",
   "metadata": {
    "tags": []
   },
   "source": [
    "## Create a KFold object with 5 splits "
   ]
  },
  {
   "cell_type": "code",
   "execution_count": null,
   "id": "87d5753e-04a1-4028-8fbe-1faacbdd6519",
   "metadata": {},
   "outputs": [],
   "source": [
    "from sklearn.model_selection import cross_val_score\n",
    "from sklearn.model_selection import KFold\n",
    "folds = KFold(n_splits = 5, shuffle = False)\n",
    "scores = cross_val_score(regressor, X_train, y_train, scoring='r2', cv=folds)\n",
    "print (scores)\n",
    "print (scores.mean())"
   ]
  },
  {
   "cell_type": "markdown",
   "id": "9ea40ba8-dd13-4868-88da-7332ead7b8ab",
   "metadata": {},
   "source": [
    "# 3 - Prediction"
   ]
  },
  {
   "cell_type": "markdown",
   "id": "8f81b079-67b0-4a5d-b498-b1e0cca31bbd",
   "metadata": {},
   "source": [
    "## Predicting the Test set results"
   ]
  },
  {
   "cell_type": "code",
   "execution_count": null,
   "id": "170b6a13-a3fd-4a98-b849-d7a82e4fd98e",
   "metadata": {},
   "outputs": [],
   "source": [
    "y_pred = regressor.predict(X_test)\n",
    "np.set_printoptions(precision=2)\n",
    "file = np.concatenate((y_pred.reshape(len(y_pred),1), y_test.reshape(len(y_test),1)),1)\n",
    "print(file)"
   ]
  },
  {
   "cell_type": "markdown",
   "id": "89eeb6c5-b0fa-49fc-888f-f96cb1dbf370",
   "metadata": {},
   "source": [
    "## Print Output"
   ]
  },
  {
   "cell_type": "code",
   "execution_count": null,
   "id": "bd9bc504-91d6-412c-9dc3-b73c1753784a",
   "metadata": {},
   "outputs": [],
   "source": [
    "df = pd.DataFrame(file).T\n",
    "df.to_excel(excel_writer = \"E:/PhD/Machine Learning/Pressure_paper1/Output_XGB.xlsx\")"
   ]
  },
  {
   "cell_type": "markdown",
   "id": "8090bbcb-362c-4ced-abbb-e3fdb7b6d4a4",
   "metadata": {},
   "source": [
    "# 4 - Evaluation"
   ]
  },
  {
   "cell_type": "markdown",
   "id": "46c6ed60-2a16-4b04-8f9c-edd861cfb8c6",
   "metadata": {},
   "source": [
    "## Evaluating the Model Performance"
   ]
  },
  {
   "cell_type": "markdown",
   "id": "eb215add-2a34-44c4-ad02-e66117445d64",
   "metadata": {},
   "source": [
    "### R2"
   ]
  },
  {
   "cell_type": "code",
   "execution_count": null,
   "id": "6a1003ab-c911-4aee-b5d5-447ba39cac5d",
   "metadata": {},
   "outputs": [],
   "source": [
    "from sklearn.metrics import r2_score\n",
    "r2 = r2_score(y_test, y_pred)\n",
    "print (r2)"
   ]
  },
  {
   "cell_type": "markdown",
   "id": "7482ec9e-cf84-4276-b678-b57e99c432a3",
   "metadata": {},
   "source": [
    "### Adj R2"
   ]
  },
  {
   "cell_type": "code",
   "execution_count": null,
   "id": "7a349c16-e900-41b3-85bd-de86920bc58a",
   "metadata": {},
   "outputs": [],
   "source": [
    "adj_r2 = 1 - ((1 - r2) * (len(X_test) - 1) / (len(X_test) - len (X_test[0]) - 1))\n",
    "print (adj_r2)"
   ]
  },
  {
   "cell_type": "markdown",
   "id": "ac46414e-8d75-4096-8371-f9e554d5e092",
   "metadata": {},
   "source": [
    "### RMSE"
   ]
  },
  {
   "cell_type": "code",
   "execution_count": null,
   "id": "5300c59e-57c2-49d7-8979-65b158800dce",
   "metadata": {},
   "outputs": [],
   "source": [
    "import math\n",
    "from sklearn.metrics import mean_squared_error\n",
    "\n",
    "math.sqrt(mean_squared_error(y_test, y_pred))"
   ]
  },
  {
   "cell_type": "markdown",
   "id": "641c5869-0863-4653-8aa3-d3207d468ab8",
   "metadata": {},
   "source": [
    "### MAE"
   ]
  },
  {
   "cell_type": "code",
   "execution_count": null,
   "id": "f0118c54-2dc2-4831-b808-2d22efca9487",
   "metadata": {},
   "outputs": [],
   "source": [
    "from sklearn.metrics import mean_absolute_error\n",
    "\n",
    "mean_absolute_error(y_test, y_pred)"
   ]
  },
  {
   "cell_type": "markdown",
   "id": "f00b9352-1951-4407-84b4-4d609a0d80d0",
   "metadata": {},
   "source": [
    "## Visualize"
   ]
  },
  {
   "cell_type": "code",
   "execution_count": null,
   "id": "1e053bd3-a51c-4152-82f5-c2dcfb35823c",
   "metadata": {},
   "outputs": [],
   "source": [
    "plt.scatter(y_test, y_pred, color=\"blue\")\n",
    "plt.plot ([0,8000000],[0,8000000], color = \"red\")\n",
    "plt.axis ([0,8000000,0,8000000])\n",
    "plt.xlabel ('Actual data')\n",
    "plt.ylabel ('Predicted data')"
   ]
  },
  {
   "cell_type": "markdown",
   "id": "f16e6b0e-fed0-470c-9761-8deacade8d28",
   "metadata": {},
   "source": [
    "## Error percentage visualization"
   ]
  },
  {
   "cell_type": "code",
   "execution_count": null,
   "id": "1b9462f9-27e2-4460-b93e-79a62a5cb0c0",
   "metadata": {},
   "outputs": [],
   "source": [
    "from sklearn.metrics import r2_score\n",
    "# Initialize layout\n",
    "fig, ax = plt.subplots(figsize = (9, 9))\n",
    "\n",
    "\n",
    "#y = y_pred         # Model on prvious line is called here\n",
    "#x = y_test\n",
    "\n",
    "\n",
    "\n",
    "# Add scatterplot\n",
    "ax.scatter(y_test, y_pred, s=70, alpha=1, edgecolors=\"k\",c='mediumblue',zorder=5, label = 'Points')\n",
    "\n",
    "# Fit linear regression via least squares with numpy.polyfit\n",
    "# It returns an slope (b) and intercept (a)\n",
    "# deg=1 means linear fit (i.e. polynomial of degree 1)\n",
    "# b, a = np.polyfit(x, y, deg=1)\n",
    "\n",
    "# Create sequence of 50 numbers from 0 to 5 \n",
    "#xseq = np.linspace(0, 5)\n",
    "\n",
    "\n",
    "\n",
    "plt.ylabel('Predicted Peak Incident Pressure (Pa)',fontsize = 25)\n",
    "plt.xlabel('Actual Peak Incident Pressure (Pa)',fontsize = 25)\n",
    "plt.xticks(fontsize = 19)\n",
    "plt.yticks(fontsize = 19)\n",
    "\n",
    "\n",
    "# Plot regression line\n",
    "# ax.plot(xseq, a + b * xseq, color=\"Red\", lw=2.5,label='X=Y',alpha=1);\n",
    "\n",
    "\n",
    "x1 = np.linspace(0,8000000)\n",
    "\n",
    "plt.plot(x1, x1, 'Red', label='45\\N{DEGREE SIGN} line',lw=2.5,alpha=1)\n",
    "plt.plot(x1, 1.1*x1, '--m', label='\\u00B110% Error',lw=2.5,alpha=0.7)\n",
    "plt.plot(x1, 0.9*x1,'m', linestyle='--',lw=2.5,alpha=0.7)\n",
    "plt.plot(x1, 1.2*x1, '-.g', label='\\u00B120% Error',lw=2.5,alpha=0.7)\n",
    "plt.plot(x1, 0.8*x1,'-.g',lw=2.5,alpha=0.7)\n",
    "\n",
    "plt.ylim(0, 8000000)\n",
    "plt.xlim(0, 8000000)\n",
    "plt.legend(loc='upper left',fontsize = 25)\n",
    "\n",
    "plt.grid()\n",
    "\n",
    "ax.spines['left'].set_color('black')        # setting up Y-axis tick color to red\n",
    "ax.spines['bottom'].set_color('black')         #setting up above X-axis tick color to red\n",
    "\n",
    "\n",
    "\n",
    "ax.annotate(\"$R^2$ = {:.3f}\".format(r2), (2500, 1000),fontsize = 25)  #Model is called here\n",
    "ax.annotate(\"Adj.$R^2$ = {:.3f}\".format(adj_r2), (2500, 750),fontsize = 25)\n",
    "\n",
    "#plt.savefig('plot1.png', dpi = 600, bbox_inches = 'tight')"
   ]
  },
  {
   "cell_type": "markdown",
   "id": "1439222a-1fa6-4539-9617-c4f36ad27c37",
   "metadata": {},
   "source": [
    "## Error margins"
   ]
  },
  {
   "cell_type": "code",
   "execution_count": null,
   "id": "deb78b28-3b31-4ded-8e4b-9a865b694c17",
   "metadata": {},
   "outputs": [],
   "source": [
    "count1 = 0\n",
    "for i in range(len(y_pred)):\n",
    "    line1 = y_pred[i] - 0.9*y_test[i]\n",
    "    line2 = y_pred[i] - 1.1*y_test[i]\n",
    "    #print ('line 1 ', line1)\n",
    "    #print ('line 2 ', line2)\n",
    "    mask1 = (line1 > 0) & (line2 < 0)\n",
    "    #print (mask)\n",
    "    count1 = np.sum(mask1+count1)\n",
    "    #print (count)\n",
    "\n",
    "count2 = 0\n",
    "for j in range(len(y_pred)):\n",
    "    line3 = y_pred[j] - 0.8*y_test[j]\n",
    "    line4 = y_pred[j] - 1.2*y_test[j]\n",
    "    mask2 = (line3 > 0) & (line4 < 0)\n",
    "    count2 = np.sum(mask2+count2)\n",
    "\n",
    "\n",
    "count3 = 0    \n",
    "for k in range(len(y_pred)):\n",
    "    line5 = y_pred[k] - 0.8*y_test[k]\n",
    "    line6 = y_pred[k] - 1.2*y_test[k]\n",
    "    mask3 = (line5 < 0) or (line6 > 0)\n",
    "    count3 = np.sum(mask3+count3)\n",
    "   \n",
    "\n",
    "print ('Within 10% margin', format((count1/len (y_pred)),'.2%'))\n",
    "print ('Within 20% margin', format((count2/len (y_pred)),'.2%'))\n",
    "print ('Out of 20% margin', format((count3/len (y_pred)),'.2%'))"
   ]
  },
  {
   "cell_type": "markdown",
   "id": "fd01f5c3-7b73-48b5-8525-9e404866600b",
   "metadata": {},
   "source": [
    "## <2000 kPa"
   ]
  },
  {
   "cell_type": "code",
   "execution_count": null,
   "id": "d9bfebf5-68e2-4376-a7ff-f67d4d3c32b5",
   "metadata": {},
   "outputs": [],
   "source": [
    "from sklearn.metrics import r2_score\n",
    "# Initialize layout\n",
    "fig1, bx = plt.subplots(figsize = (9, 9))\n",
    "\n",
    "\n",
    "#y = y_pred         # Model on prvious line is called here\n",
    "#x = y_test\n",
    "\n",
    "\n",
    "\n",
    "# Add scatterplot\n",
    "bx.scatter(y_test, y_pred, s=70, alpha=1, edgecolors=\"k\",c='mediumblue',zorder=5, label = 'Points')\n",
    "\n",
    "# Fit linear regression via least squares with numpy.polyfit\n",
    "# It returns an slope (b) and intercept (a)\n",
    "# deg=1 means linear fit (i.e. polynomial of degree 1)\n",
    "# b, a = np.polyfit(x, y, deg=1)\n",
    "\n",
    "# Create sequence of 50 numbers from 0 to 5 \n",
    "#xseq = np.linspace(0, 5)\n",
    "\n",
    "\n",
    "\n",
    "plt.ylabel('Predicted Peak Incident Pressure (Pa)',fontsize = 25)\n",
    "plt.xlabel('Actual Peak Incident Pressure (Pa)',fontsize = 25)\n",
    "plt.xticks(fontsize = 19)\n",
    "plt.yticks(fontsize = 19)\n",
    "\n",
    "\n",
    "# Plot regression line\n",
    "# ax.plot(xseq, a + b * xseq, color=\"Red\", lw=2.5,label='X=Y',alpha=1);\n",
    "\n",
    "\n",
    "x1 = np.linspace(0,2000000)\n",
    "\n",
    "plt.plot(x1, x1, 'Red', label='45\\N{DEGREE SIGN} line',lw=2.5,alpha=1)\n",
    "plt.plot(x1, 1.1*x1, '--m', label='\\u00B110% Error',lw=2.5,alpha=0.7)\n",
    "plt.plot(x1, 0.9*x1,'m', linestyle='--',lw=2.5,alpha=0.7)\n",
    "plt.plot(x1, 1.2*x1, '-.g', label='\\u00B120% Error',lw=2.5,alpha=0.7)\n",
    "plt.plot(x1, 0.8*x1,'-.g',lw=2.5,alpha=0.7)\n",
    "\n",
    "plt.ylim(0, 2000000)\n",
    "plt.xlim(0, 2000000)\n",
    "plt.legend(loc='upper left',fontsize = 25)\n",
    "\n",
    "plt.grid()\n",
    "\n",
    "ax.spines['left'].set_color('black')        # setting up Y-axis tick color to red\n",
    "ax.spines['bottom'].set_color('black')         #setting up above X-axis tick color to red\n",
    "\n",
    "\n",
    "\n",
    "#ax.annotate(\"$R^2$ = {:.3f}\".format(r2_score(y_test, y_pred)), (300, 100),fontsize = 25)  #Model is called here\n",
    "\n",
    "#plt.savefig('plot1.png', dpi = 600, bbox_inches = 'tight')"
   ]
  }
 ],
 "metadata": {
  "kernelspec": {
   "display_name": "Python 3 (ipykernel)",
   "language": "python",
   "name": "python3"
  },
  "language_info": {
   "codemirror_mode": {
    "name": "ipython",
    "version": 3
   },
   "file_extension": ".py",
   "mimetype": "text/x-python",
   "name": "python",
   "nbconvert_exporter": "python",
   "pygments_lexer": "ipython3",
   "version": "3.9.7"
  }
 },
 "nbformat": 4,
 "nbformat_minor": 5
}
