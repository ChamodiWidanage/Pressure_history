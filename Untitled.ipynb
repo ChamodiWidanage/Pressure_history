{
 "cells": [
  {
   "cell_type": "code",
   "execution_count": 1,
   "id": "7b0a878a-1117-4580-9cdf-0657137da5e9",
   "metadata": {},
   "outputs": [],
   "source": [
    "from pathlib import Path\n",
    "import pandas as pd\n",
    "import xlwings as xw"
   ]
  },
  {
   "cell_type": "code",
   "execution_count": 7,
   "id": "d300ad3e-4c8d-488e-b09d-0381da6d501e",
   "metadata": {},
   "outputs": [],
   "source": [
    "with xw.App (visible = False) as app:\n",
    "    wb = app.books.open(\"Template.xlsx\")\n",
    "    df = pd.read_csv(\"T1\", delimiter=\"\\s+\", skiprows = 8, header = None, names = [\"time\", \"pressure\"])\n",
    "    wb.sheets[0].range(\"A1\").options(index=False).value = df\n",
    "    wb.save(\"T1.xlsx\") "
   ]
  },
  {
   "cell_type": "code",
   "execution_count": 5,
   "id": "95aa0408-a3b5-4fed-8721-19aa2fd51f33",
   "metadata": {},
   "outputs": [
    {
     "ename": "SyntaxError",
     "evalue": "cannot assign to operator (3048274784.py, line 1)",
     "output_type": "error",
     "traceback": [
      "\u001b[1;36m  File \u001b[1;32m\"C:\\Users\\Chathura Gamage\\AppData\\Local\\Temp\\ipykernel_11640\\3048274784.py\"\u001b[1;36m, line \u001b[1;32m1\u001b[0m\n\u001b[1;33m    a and b = 0\u001b[0m\n\u001b[1;37m    ^\u001b[0m\n\u001b[1;31mSyntaxError\u001b[0m\u001b[1;31m:\u001b[0m cannot assign to operator\n"
     ]
    }
   ],
   "source": [
    "a and b = 0"
   ]
  },
  {
   "cell_type": "code",
   "execution_count": 3,
   "id": "11d2fb35-de13-4935-9728-bed79bbe644e",
   "metadata": {},
   "outputs": [],
   "source": [
    "from openpyxl import Workbook  \n",
    "wb = Workbook()  \n",
    "sheet = wb.active    \n",
    "rows = (  \n",
    "     (45, 78, 48, 65),  \n",
    "     (81, 30, 52, 86),  \n",
    "     (23, 95, 87, 27),  \n",
    "     (25, 32, 89, 13),  \n",
    "     (52, 81, 20, 44),  \n",
    "     (34, 51, 86, 12))  \n",
    "for row in rows:  \n",
    "    sheet.append(row) \n",
    "wb.save('itercols.xlsx')"
   ]
  },
  {
   "cell_type": "code",
   "execution_count": 10,
   "id": "e5318d36-6811-41e8-ae7a-d2c2e6970106",
   "metadata": {},
   "outputs": [
    {
     "name": "stdout",
     "output_type": "stream",
     "text": [
      "45 s\n",
      "81 s\n",
      "23 s\n",
      "25 s\n",
      "52 s\n",
      "34 s\n",
      "\n",
      "78 s\n",
      "30 s\n",
      "95 s\n",
      "32 s\n",
      "81 s\n",
      "51 s\n",
      "\n",
      "48 s\n",
      "52 s\n",
      "87 s\n",
      "89 s\n",
      "20 s\n",
      "86 s\n",
      "\n",
      "65 s\n",
      "86 s\n",
      "27 s\n",
      "13 s\n",
      "44 s\n",
      "12 s\n",
      "\n"
     ]
    }
   ],
   "source": [
    "for row in sheet.iter_cols(min_row=1, min_col=1, max_row=6, max_col=4):  \n",
    "    for cell in row:  \n",
    "        print(cell.value,\"s\", end=\"\\n\")  \n",
    "    print()"
   ]
  },
  {
   "cell_type": "code",
   "execution_count": 2,
   "id": "76b76fa9-36f1-4754-ae69-d6b9c594a989",
   "metadata": {},
   "outputs": [
    {
     "name": "stdout",
     "output_type": "stream",
     "text": [
      "   ColumnA ColumnB\n",
      "0        1       A\n",
      "1        2       B\n",
      "2        3       C\n",
      "3        4       D\n",
      "   NewColumn1 NewColumn2  ColumnA ColumnB\n",
      "0          10          X        1       A\n",
      "1          20          Y        2       B\n",
      "2          30          Z        3       C\n",
      "3          40          W        4       D\n"
     ]
    }
   ],
   "source": [
    "import pandas as pd\n",
    "\n",
    "# Sample existing DataFrame\n",
    "data = {\n",
    "    'ColumnA': [1, 2, 3, 4],\n",
    "    'ColumnB': ['A', 'B', 'C', 'D']\n",
    "}\n",
    "\n",
    "existing_df = pd.DataFrame(data)\n",
    "\n",
    "print (existing_df)\n",
    "\n",
    "# New columns to add\n",
    "new_column1 = [10, 20, 30, 40]\n",
    "new_column2 = ['X', 'Y', 'Z', 'W']\n",
    "\n",
    "# Insert the new columns at the front (index 0)\n",
    "existing_df.insert(0, 'NewColumn1', new_column1)\n",
    "existing_df.insert(1, 'NewColumn2', new_column2)\n",
    "\n",
    "# Display the updated DataFrame\n",
    "print(existing_df)"
   ]
  }
 ],
 "metadata": {
  "kernelspec": {
   "display_name": "Python 3 (ipykernel)",
   "language": "python",
   "name": "python3"
  },
  "language_info": {
   "codemirror_mode": {
    "name": "ipython",
    "version": 3
   },
   "file_extension": ".py",
   "mimetype": "text/x-python",
   "name": "python",
   "nbconvert_exporter": "python",
   "pygments_lexer": "ipython3",
   "version": "3.9.7"
  }
 },
 "nbformat": 4,
 "nbformat_minor": 5
}
